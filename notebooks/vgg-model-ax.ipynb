{
 "cells": [
  {
   "cell_type": "markdown",
   "id": "2da3857b-abae-47da-b14b-ff8c06bb4fbc",
   "metadata": {},
   "source": [
    "## Optimizing Hyperparameters for the VGG16 Model\n",
    "\n",
    "This following notebook highlights the steps taken to tune the learning rate and beta1 hyperparameter of the Adam optimizer using bayesian optimization with the Ax package. The final optimized model was saved and then compared against other models in a manual inspection. \n",
    "\n",
    "**NOTE:** This notebook was run on Kaggle with the GPU Accelator Enabled. The data used for this notebook is available on the MDS-Capstone-GDLR OneDrive. You can find the data used in this notebook by navigating to the Data Processed Ultrasound directory and downloading the data_split_mapped sub-directory."
   ]
  },
  {
   "cell_type": "markdown",
   "id": "e70ce268-8a80-4210-b00c-c9dbbaf6079e",
   "metadata": {},
   "source": [
    "### Imports"
   ]
  },
  {
   "cell_type": "code",
   "execution_count": 1,
   "id": "funky-general",
   "metadata": {
    "execution": {
     "iopub.execute_input": "2021-06-03T06:42:26.406294Z",
     "iopub.status.busy": "2021-06-03T06:42:26.404730Z",
     "iopub.status.idle": "2021-06-03T06:42:26.416713Z",
     "shell.execute_reply": "2021-06-03T06:42:26.416233Z",
     "shell.execute_reply.started": "2021-06-03T06:05:48.412525Z"
    },
    "id": "QsDyfUEC3swP",
    "outputId": "532fc36d-eb4b-4917-a957-6c08128ee22f",
    "papermill": {
     "duration": 0.038908,
     "end_time": "2021-06-03T06:42:26.416837",
     "exception": false,
     "start_time": "2021-06-03T06:42:26.377929",
     "status": "completed"
    },
    "tags": []
   },
   "outputs": [
    {
     "data": {
      "text/plain": [
       "'/kaggle/working'"
      ]
     },
     "execution_count": 1,
     "metadata": {},
     "output_type": "execute_result"
    }
   ],
   "source": [
    "pwd"
   ]
  },
  {
   "cell_type": "code",
   "execution_count": 2,
   "id": "coated-professional",
   "metadata": {
    "execution": {
     "iopub.execute_input": "2021-06-03T06:42:26.465547Z",
     "iopub.status.busy": "2021-06-03T06:42:26.464937Z",
     "iopub.status.idle": "2021-06-03T06:43:51.206925Z",
     "shell.execute_reply": "2021-06-03T06:43:51.207852Z",
     "shell.execute_reply.started": "2021-06-03T06:05:48.426796Z"
    },
    "id": "VJV2Wnre2JQj",
    "outputId": "515536c9-25c9-4eea-99be-b192cf4fa97b",
    "papermill": {
     "duration": 84.768614,
     "end_time": "2021-06-03T06:43:51.208025",
     "exception": false,
     "start_time": "2021-06-03T06:42:26.439411",
     "status": "completed"
    },
    "tags": []
   },
   "outputs": [
    {
     "name": "stdout",
     "output_type": "stream",
     "text": [
      "Collecting ax-platform\n",
      "  Downloading ax_platform-0.1.20-py3-none-any.whl (704 kB)\n",
      "\u001b[K     |████████████████████████████████| 704 kB 4.6 MB/s \n",
      "\u001b[?25hCollecting botorch==0.4.0\n",
      "  Downloading botorch-0.4.0-py3-none-any.whl (395 kB)\n",
      "\u001b[K     |████████████████████████████████| 395 kB 9.3 MB/s \n",
      "\u001b[?25hRequirement already satisfied: scikit-learn in /opt/conda/lib/python3.7/site-packages (from ax-platform) (0.24.1)\n",
      "Requirement already satisfied: scipy in /opt/conda/lib/python3.7/site-packages (from ax-platform) (1.5.4)\n",
      "Requirement already satisfied: plotly in /opt/conda/lib/python3.7/site-packages (from ax-platform) (4.14.3)\n",
      "Requirement already satisfied: jinja2 in /opt/conda/lib/python3.7/site-packages (from ax-platform) (2.11.3)\n",
      "Requirement already satisfied: typeguard in /opt/conda/lib/python3.7/site-packages (from ax-platform) (2.12.0)\n",
      "Requirement already satisfied: pandas in /opt/conda/lib/python3.7/site-packages (from ax-platform) (1.1.5)\n",
      "Collecting gpytorch>=1.4\n",
      "  Downloading gpytorch-1.4.2-py2.py3-none-any.whl (492 kB)\n",
      "\u001b[K     |████████████████████████████████| 492 kB 9.3 MB/s \n",
      "\u001b[?25hCollecting torch>=1.7.1\n",
      "  Downloading torch-1.8.1-cp37-cp37m-manylinux1_x86_64.whl (804.1 MB)\n",
      "\u001b[K     |████████████████████████████████| 804.1 MB 1.4 kB/s \n",
      "\u001b[?25hRequirement already satisfied: numpy in /opt/conda/lib/python3.7/site-packages (from torch>=1.7.1->botorch==0.4.0->ax-platform) (1.19.5)\n",
      "Requirement already satisfied: typing-extensions in /opt/conda/lib/python3.7/site-packages (from torch>=1.7.1->botorch==0.4.0->ax-platform) (3.7.4.3)\n",
      "Requirement already satisfied: MarkupSafe>=0.23 in /opt/conda/lib/python3.7/site-packages (from jinja2->ax-platform) (1.1.1)\n",
      "Requirement already satisfied: python-dateutil>=2.7.3 in /opt/conda/lib/python3.7/site-packages (from pandas->ax-platform) (2.8.1)\n",
      "Requirement already satisfied: pytz>=2017.2 in /opt/conda/lib/python3.7/site-packages (from pandas->ax-platform) (2021.1)\n",
      "Requirement already satisfied: six>=1.5 in /opt/conda/lib/python3.7/site-packages (from python-dateutil>=2.7.3->pandas->ax-platform) (1.15.0)\n",
      "Requirement already satisfied: retrying>=1.3.3 in /opt/conda/lib/python3.7/site-packages (from plotly->ax-platform) (1.3.3)\n",
      "Requirement already satisfied: threadpoolctl>=2.0.0 in /opt/conda/lib/python3.7/site-packages (from scikit-learn->ax-platform) (2.1.0)\n",
      "Requirement already satisfied: joblib>=0.11 in /opt/conda/lib/python3.7/site-packages (from scikit-learn->ax-platform) (1.0.1)\n",
      "Installing collected packages: torch, gpytorch, botorch, ax-platform\n",
      "  Attempting uninstall: torch\n",
      "    Found existing installation: torch 1.7.0\n",
      "    Uninstalling torch-1.7.0:\n",
      "      Successfully uninstalled torch-1.7.0\n",
      "\u001b[31mERROR: pip's dependency resolver does not currently take into account all the packages that are installed. This behaviour is the source of the following dependency conflicts.\n",
      "fastai 2.3.0 requires torch<1.8,>=1.7.0, but you have torch 1.8.1 which is incompatible.\u001b[0m\n",
      "Successfully installed ax-platform-0.1.20 botorch-0.4.0 gpytorch-1.4.2 torch-1.8.1\n"
     ]
    }
   ],
   "source": [
    "!pip3 install ax-platform "
   ]
  },
  {
   "cell_type": "code",
   "execution_count": 3,
   "id": "acceptable-candy",
   "metadata": {
    "execution": {
     "iopub.execute_input": "2021-06-03T06:43:51.862492Z",
     "iopub.status.busy": "2021-06-03T06:43:51.861703Z",
     "iopub.status.idle": "2021-06-03T06:43:53.297535Z",
     "shell.execute_reply": "2021-06-03T06:43:53.297048Z",
     "shell.execute_reply.started": "2021-06-03T06:07:07.869398Z"
    },
    "papermill": {
     "duration": 1.714037,
     "end_time": "2021-06-03T06:43:53.297671",
     "exception": false,
     "start_time": "2021-06-03T06:43:51.583634",
     "status": "completed"
    },
    "tags": []
   },
   "outputs": [],
   "source": [
    "from ax.plot.contour import plot_contour\n",
    "from ax.plot.trace import optimization_trace_single_method\n",
    "from ax.service.managed_loop import optimize\n",
    "from ax.utils.notebook.plotting import render, init_notebook_plotting\n",
    "from ax.utils.tutorials.cnn_utils import load_mnist, train, evaluate, CNN"
   ]
  },
  {
   "cell_type": "code",
   "execution_count": 4,
   "id": "wrong-disclaimer",
   "metadata": {
    "execution": {
     "iopub.execute_input": "2021-06-03T06:43:53.847669Z",
     "iopub.status.busy": "2021-06-03T06:43:53.845982Z",
     "iopub.status.idle": "2021-06-03T06:44:05.136567Z",
     "shell.execute_reply": "2021-06-03T06:44:05.136057Z",
     "shell.execute_reply.started": "2021-06-03T06:07:09.706343Z"
    },
    "papermill": {
     "duration": 11.564352,
     "end_time": "2021-06-03T06:44:05.136699",
     "exception": false,
     "start_time": "2021-06-03T06:43:53.572347",
     "status": "completed"
    },
    "tags": []
   },
   "outputs": [
    {
     "name": "stdout",
     "output_type": "stream",
     "text": [
      "Requirement already satisfied: albumentations in /opt/conda/lib/python3.7/site-packages (0.5.2)\n",
      "Collecting albumentations\n",
      "  Downloading albumentations-1.0.0-py3-none-any.whl (98 kB)\n",
      "\u001b[K     |████████████████████████████████| 98 kB 3.1 MB/s \n",
      "\u001b[?25hRequirement already satisfied: scipy in /opt/conda/lib/python3.7/site-packages (from albumentations) (1.5.4)\n",
      "Requirement already satisfied: PyYAML in /opt/conda/lib/python3.7/site-packages (from albumentations) (5.3.1)\n",
      "Requirement already satisfied: opencv-python-headless>=4.1.1 in /opt/conda/lib/python3.7/site-packages (from albumentations) (4.5.1.48)\n",
      "Requirement already satisfied: numpy>=1.11.1 in /opt/conda/lib/python3.7/site-packages (from albumentations) (1.19.5)\n",
      "Requirement already satisfied: scikit-image>=0.16.1 in /opt/conda/lib/python3.7/site-packages (from albumentations) (0.18.1)\n",
      "Requirement already satisfied: tifffile>=2019.7.26 in /opt/conda/lib/python3.7/site-packages (from scikit-image>=0.16.1->albumentations) (2021.4.8)\n",
      "Requirement already satisfied: pillow!=7.1.0,!=7.1.1,>=4.3.0 in /opt/conda/lib/python3.7/site-packages (from scikit-image>=0.16.1->albumentations) (7.2.0)\n",
      "Requirement already satisfied: PyWavelets>=1.1.1 in /opt/conda/lib/python3.7/site-packages (from scikit-image>=0.16.1->albumentations) (1.1.1)\n",
      "Requirement already satisfied: matplotlib!=3.0.0,>=2.0.0 in /opt/conda/lib/python3.7/site-packages (from scikit-image>=0.16.1->albumentations) (3.4.1)\n",
      "Requirement already satisfied: imageio>=2.3.0 in /opt/conda/lib/python3.7/site-packages (from scikit-image>=0.16.1->albumentations) (2.9.0)\n",
      "Requirement already satisfied: networkx>=2.0 in /opt/conda/lib/python3.7/site-packages (from scikit-image>=0.16.1->albumentations) (2.5)\n",
      "Requirement already satisfied: pyparsing>=2.2.1 in /opt/conda/lib/python3.7/site-packages (from matplotlib!=3.0.0,>=2.0.0->scikit-image>=0.16.1->albumentations) (2.4.7)\n",
      "Requirement already satisfied: cycler>=0.10 in /opt/conda/lib/python3.7/site-packages (from matplotlib!=3.0.0,>=2.0.0->scikit-image>=0.16.1->albumentations) (0.10.0)\n",
      "Requirement already satisfied: kiwisolver>=1.0.1 in /opt/conda/lib/python3.7/site-packages (from matplotlib!=3.0.0,>=2.0.0->scikit-image>=0.16.1->albumentations) (1.3.1)\n",
      "Requirement already satisfied: python-dateutil>=2.7 in /opt/conda/lib/python3.7/site-packages (from matplotlib!=3.0.0,>=2.0.0->scikit-image>=0.16.1->albumentations) (2.8.1)\n",
      "Requirement already satisfied: six in /opt/conda/lib/python3.7/site-packages (from cycler>=0.10->matplotlib!=3.0.0,>=2.0.0->scikit-image>=0.16.1->albumentations) (1.15.0)\n",
      "Requirement already satisfied: decorator>=4.3.0 in /opt/conda/lib/python3.7/site-packages (from networkx>=2.0->scikit-image>=0.16.1->albumentations) (4.4.2)\n",
      "Installing collected packages: albumentations\n",
      "  Attempting uninstall: albumentations\n",
      "    Found existing installation: albumentations 0.5.2\n",
      "    Uninstalling albumentations-0.5.2:\n",
      "      Successfully uninstalled albumentations-0.5.2\n",
      "Successfully installed albumentations-1.0.0\n"
     ]
    }
   ],
   "source": [
    "!pip install -U albumentations"
   ]
  },
  {
   "cell_type": "code",
   "execution_count": 5,
   "id": "bound-lover",
   "metadata": {
    "execution": {
     "iopub.execute_input": "2021-06-03T06:44:05.695623Z",
     "iopub.status.busy": "2021-06-03T06:44:05.694815Z",
     "iopub.status.idle": "2021-06-03T06:44:06.694131Z",
     "shell.execute_reply": "2021-06-03T06:44:06.693275Z",
     "shell.execute_reply.started": "2021-06-03T06:07:19.916847Z"
    },
    "id": "CDL2OkSb2JQk",
    "outputId": "d1614df7-bf45-4a98-8983-eada998f286e",
    "papermill": {
     "duration": 1.280908,
     "end_time": "2021-06-03T06:44:06.694268",
     "exception": false,
     "start_time": "2021-06-03T06:44:05.413360",
     "status": "completed"
    },
    "tags": []
   },
   "outputs": [],
   "source": [
    "import torch\n",
    "import numpy as np\n",
    "import pandas as pd\n",
    "import os\n",
    "\n",
    "from torchvision import models, datasets, utils#,transforms\n",
    "from collections import OrderedDict\n",
    "\n",
    "from torch import nn, optim\n",
    "import albumentations as A\n",
    "from albumentations.pytorch import ToTensorV2\n",
    "from PIL import Image"
   ]
  },
  {
   "cell_type": "code",
   "execution_count": 6,
   "id": "elementary-speed",
   "metadata": {
    "execution": {
     "iopub.execute_input": "2021-06-03T06:44:07.289249Z",
     "iopub.status.busy": "2021-06-03T06:44:07.248201Z",
     "iopub.status.idle": "2021-06-03T06:44:07.292756Z",
     "shell.execute_reply": "2021-06-03T06:44:07.292316Z",
     "shell.execute_reply.started": "2021-06-03T06:07:21.100412Z"
    },
    "papermill": {
     "duration": 0.322949,
     "end_time": "2021-06-03T06:44:07.292882",
     "exception": false,
     "start_time": "2021-06-03T06:44:06.969933",
     "status": "completed"
    },
    "tags": []
   },
   "outputs": [],
   "source": [
    "torch.manual_seed(2020)\n",
    "dtype = torch.float32\n",
    "device = torch.device(\"cuda\" if torch.cuda.is_available() else \"cpu\")"
   ]
  },
  {
   "cell_type": "markdown",
   "id": "terminal-animal",
   "metadata": {
    "papermill": {
     "duration": 0.285015,
     "end_time": "2021-06-03T06:44:07.849747",
     "exception": false,
     "start_time": "2021-06-03T06:44:07.564732",
     "status": "completed"
    },
    "tags": []
   },
   "source": [
    "# Data"
   ]
  },
  {
   "cell_type": "code",
   "execution_count": 7,
   "id": "technological-radar",
   "metadata": {
    "execution": {
     "iopub.execute_input": "2021-06-03T06:44:08.409134Z",
     "iopub.status.busy": "2021-06-03T06:44:08.408251Z",
     "iopub.status.idle": "2021-06-03T06:44:08.410419Z",
     "shell.execute_reply": "2021-06-03T06:44:08.410811Z",
     "shell.execute_reply.started": "2021-06-03T06:07:21.147204Z"
    },
    "id": "j6cV3aIk2JQl",
    "papermill": {
     "duration": 0.285592,
     "end_time": "2021-06-03T06:44:08.410951",
     "exception": false,
     "start_time": "2021-06-03T06:44:08.125359",
     "status": "completed"
    },
    "tags": []
   },
   "outputs": [],
   "source": [
    "IMAGE_SIZE = 300\n",
    "BATCH_SIZE = 8\n",
    "\n",
    "#TRAIN_DIR = \"../input/lipodata4/data_split_unmapped/train\"\n",
    "#VALID_DIR = \"../input/lipodata4/data_split_unmapped/val\"\n",
    "#TEST_DIR = \"../input/lipodata4/data_split_unmapped/test\"\n",
    "\n",
    "TRAIN_DIR = '../input/lipodata/data_split_unmapped/train'\n",
    "VALID_DIR = '../input/lipodata/data_split_unmapped/val'\n",
    "TEST_DIR = '../input/lipodata/data_split_unmapped/test'\n",
    "\n",
    "\n",
    "train_transforms = A.Compose(\n",
    "    [\n",
    "        A.RandomBrightnessContrast(brightness_limit=(-0.1, 0.1), contrast_limit=(0, 1.0)),\n",
    "        A.VerticalFlip(),\n",
    "        A.HorizontalFlip(),\n",
    "        A.Resize(IMAGE_SIZE, IMAGE_SIZE),\n",
    "        ToTensorV2(),\n",
    "        \n",
    "    ]\n",
    ")\n",
    "\n",
    "valid_transforms = A.Compose(\n",
    "    [\n",
    "        A.Resize(height = 300, width = 300),\n",
    "        ToTensorV2(),\n",
    "        \n",
    "    ]\n",
    ")"
   ]
  },
  {
   "cell_type": "code",
   "execution_count": 8,
   "id": "proof-subsection",
   "metadata": {
    "execution": {
     "iopub.execute_input": "2021-06-03T06:44:09.185209Z",
     "iopub.status.busy": "2021-06-03T06:44:09.184300Z",
     "iopub.status.idle": "2021-06-03T06:44:09.186902Z",
     "shell.execute_reply": "2021-06-03T06:44:09.186469Z",
     "shell.execute_reply.started": "2021-06-03T06:07:21.156677Z"
    },
    "papermill": {
     "duration": 0.464583,
     "end_time": "2021-06-03T06:44:09.187019",
     "exception": false,
     "start_time": "2021-06-03T06:44:08.722436",
     "status": "completed"
    },
    "tags": []
   },
   "outputs": [],
   "source": [
    "class LipoDataset(torch.utils.data.Dataset):\n",
    "    def __init__(self, root_dir, transform=None):\n",
    "        self.transform = transform\n",
    "        self.root_dir = root_dir\n",
    "        \n",
    "        # Create a list of filepaths of images and the respective label\n",
    "        self.samples = []\n",
    "\n",
    "        for i in os.listdir(root_dir):\n",
    "            if i in [\"positive\", 'negative']:\n",
    "                folder = os.path.join(root_dir, i)\n",
    "                target = folder.split(\"/\")[-1]\n",
    "                for label in os.listdir(folder):\n",
    "                    filepath = os.path.join(folder, label)\n",
    "                    self.samples.append((target, filepath))\n",
    "\n",
    "\n",
    "    def __len__(self):\n",
    "        # Get the length of the samples \n",
    "        return len(self.samples)\n",
    "\n",
    "    def __getitem__(self, index):\n",
    "        # Implement logic to get an image and its label using the received index.\n",
    "        #\n",
    "        # `image` should be a NumPy array with the shape [height, width, num_channels].\n",
    "        # If an image contains three color channels, it should use an RGB color scheme.\n",
    "        #\n",
    "        # `label` should be an integer in the range [0, model.num_classes - 1] where `model.num_classes`\n",
    "        # is a value set in the `search.yaml` file.\n",
    "        \n",
    "        # get the filepath of the image based on the index and convert it to \n",
    "        # color scale and then into a numpy array\n",
    "        image = np.array(Image.open(self.samples[index][1]).convert(\"RGB\"))\n",
    "\n",
    "        # maps a label to an integer value\n",
    "        label_to_int = {\"positive\": 1, \"negative\": 0}\n",
    "        label = label_to_int[self.samples[index][0]]\n",
    "\n",
    "        if self.transform is not None:\n",
    "            transformed = self.transform(image=image)\n",
    "            image = transformed[\"image\"]\n",
    "            image = image/255\n",
    "\n",
    "        return image, label"
   ]
  },
  {
   "cell_type": "code",
   "execution_count": 9,
   "id": "clinical-needle",
   "metadata": {
    "execution": {
     "iopub.execute_input": "2021-06-03T06:44:09.742781Z",
     "iopub.status.busy": "2021-06-03T06:44:09.742176Z",
     "iopub.status.idle": "2021-06-03T06:44:09.856061Z",
     "shell.execute_reply": "2021-06-03T06:44:09.856915Z",
     "shell.execute_reply.started": "2021-06-03T06:07:21.171459Z"
    },
    "papermill": {
     "duration": 0.398712,
     "end_time": "2021-06-03T06:44:09.857110",
     "exception": false,
     "start_time": "2021-06-03T06:44:09.458398",
     "status": "completed"
    },
    "tags": []
   },
   "outputs": [
    {
     "name": "stdout",
     "output_type": "stream",
     "text": [
      "246\n",
      "(385, 429, 3)\n"
     ]
    }
   ],
   "source": [
    "# test if the above class works and outputs the appropriate info\n",
    "if __name__ == '__main__':\n",
    "    dataset = LipoDataset(TRAIN_DIR)\n",
    "    print(len(dataset))\n",
    "    print(dataset[0][0].shape)"
   ]
  },
  {
   "cell_type": "code",
   "execution_count": 10,
   "id": "second-summit",
   "metadata": {
    "execution": {
     "iopub.execute_input": "2021-06-03T06:44:10.413216Z",
     "iopub.status.busy": "2021-06-03T06:44:10.412434Z",
     "iopub.status.idle": "2021-06-03T06:44:10.600970Z",
     "shell.execute_reply": "2021-06-03T06:44:10.600243Z",
     "shell.execute_reply.started": "2021-06-03T06:07:21.241525Z"
    },
    "papermill": {
     "duration": 0.471105,
     "end_time": "2021-06-03T06:44:10.601088",
     "exception": false,
     "start_time": "2021-06-03T06:44:10.129983",
     "status": "completed"
    },
    "tags": []
   },
   "outputs": [
    {
     "data": {
      "text/plain": [
       "torch.Size([8, 3, 300, 300])"
      ]
     },
     "execution_count": 10,
     "metadata": {},
     "output_type": "execute_result"
    }
   ],
   "source": [
    "# create a dataset and tranform the images \n",
    "dataset = LipoDataset(TRAIN_DIR, transform=train_transforms)\n",
    "v_dataset = LipoDataset(VALID_DIR, transform=valid_transforms)\n",
    "\n",
    "train_loader = torch.utils.data.DataLoader(dataset, batch_size=8, shuffle=True)\n",
    "valid_loader = torch.utils.data.DataLoader(v_dataset, batch_size=8)\n",
    "\n",
    "test_dataset = LipoDataset(TEST_DIR, transform=valid_transforms)\n",
    "test_loader = torch.utils.data.DataLoader(test_dataset, batch_size=BATCH_SIZE)\n",
    "\n",
    "img, label = next(iter(train_loader))\n",
    "img.shape"
   ]
  },
  {
   "cell_type": "code",
   "execution_count": 11,
   "id": "partial-keeping",
   "metadata": {
    "execution": {
     "iopub.execute_input": "2021-06-03T06:44:11.200952Z",
     "iopub.status.busy": "2021-06-03T06:44:11.200083Z",
     "iopub.status.idle": "2021-06-03T06:44:11.467203Z",
     "shell.execute_reply": "2021-06-03T06:44:11.467649Z",
     "shell.execute_reply.started": "2021-06-03T06:07:21.419070Z"
    },
    "papermill": {
     "duration": 0.577055,
     "end_time": "2021-06-03T06:44:11.467811",
     "exception": false,
     "start_time": "2021-06-03T06:44:10.890756",
     "status": "completed"
    },
    "tags": []
   },
   "outputs": [
    {
     "data": {
      "image/png": "[encoded data removed]",
      "text/plain": [
       "<Figure size 1440x576 with 1 Axes>"
      ]
     },
     "metadata": {
      "needs_background": "light"
     },
     "output_type": "display_data"
    }
   ],
   "source": [
    "import matplotlib.pyplot as plt\n",
    "# plot the samples\n",
    "plt.figure(figsize=(20, 8)); plt.axis(\"off\"); plt.title(\"Sample Training Images\")\n",
    "plt.imshow(np.transpose(utils.make_grid(img, padding=1),(1, 2, 0)));"
   ]
  },
  {
   "cell_type": "markdown",
   "id": "9eba7baf-afd1-4475-9214-1e74345f3407",
   "metadata": {},
   "source": [
    "## Training Functions"
   ]
  },
  {
   "cell_type": "code",
   "execution_count": 12,
   "id": "expired-transsexual",
   "metadata": {
    "execution": {
     "iopub.execute_input": "2021-06-03T06:44:12.057972Z",
     "iopub.status.busy": "2021-06-03T06:44:12.057075Z",
     "iopub.status.idle": "2021-06-03T06:44:12.058957Z",
     "shell.execute_reply": "2021-06-03T06:44:12.059366Z",
     "shell.execute_reply.started": "2021-06-03T06:07:21.784339Z"
    },
    "id": "LtA_MdIq2JQl",
    "outputId": "79821d56-1587-43e4-8c58-11807ebac132",
    "papermill": {
     "duration": 0.302682,
     "end_time": "2021-06-03T06:44:12.059513",
     "exception": false,
     "start_time": "2021-06-03T06:44:11.756831",
     "status": "completed"
    },
    "tags": []
   },
   "outputs": [],
   "source": [
    "def weights_init(m, verbose = False):\n",
    "    \"\"\"Initialize weights of each layer to make the results more reproducible\"\"\"\n",
    "    if isinstance(m, nn.Conv2d):\n",
    "        if verbose:\n",
    "            print(\"Initializing weights of a Conv2d layer!\")\n",
    "        nn.init.normal_(m.weight, mean=0, std=0.1)\n",
    "        if m.bias is not None:\n",
    "            nn.init.zeros_(m.bias)\n",
    "    elif isinstance(m, nn.BatchNorm2d): \n",
    "        if verbose:        \n",
    "            print(\"Initializing weights of a batchnorm layer!\")\n",
    "        nn.init.ones_(m.weight)\n",
    "        nn.init.zeros_(m.bias)\n",
    "    elif isinstance(m, nn.Linear):\n",
    "        if verbose:\n",
    "            print(\"Initializing weights of a Linear layer!\")\n",
    "        nn.init.xavier_uniform_(m.weight)\n",
    "        nn.init.zeros_(m.bias)"
   ]
  },
  {
   "cell_type": "code",
   "execution_count": 13,
   "id": "dependent-nigeria",
   "metadata": {
    "execution": {
     "iopub.execute_input": "2021-06-03T06:44:12.631052Z",
     "iopub.status.busy": "2021-06-03T06:44:12.630243Z",
     "iopub.status.idle": "2021-06-03T06:44:12.632474Z",
     "shell.execute_reply": "2021-06-03T06:44:12.632863Z",
     "shell.execute_reply.started": "2021-06-03T06:07:21.797113Z"
    },
    "papermill": {
     "duration": 0.294069,
     "end_time": "2021-06-03T06:44:12.633001",
     "exception": false,
     "start_time": "2021-06-03T06:44:12.338932",
     "status": "completed"
    },
    "tags": []
   },
   "outputs": [],
   "source": [
    "def make_model():\n",
    "    vgg16 = models.vgg16_bn(pretrained=True)\n",
    "    \n",
    "    # Freeze training for all layers\n",
    "    for param in vgg16.features.parameters():\n",
    "        param.require_grad = False\n",
    "        \n",
    "    # Newly created modules have require_grad=True by default\n",
    "    num_features = vgg16.classifier[6].in_features\n",
    "    features = list(vgg16.classifier.children())[:-1] # Remove last layer\n",
    "    features.extend([nn.Linear(num_features, 1)]) # Add our layer with 4 outputs\n",
    "    vgg16.classifier = nn.Sequential(*features) \n",
    "    \n",
    "    torch.manual_seed(2020)\n",
    "    vgg16.apply(weights_init);\n",
    "    return vgg16"
   ]
  },
  {
   "cell_type": "code",
   "execution_count": 14,
   "id": "sharing-brazil",
   "metadata": {
    "execution": {
     "iopub.execute_input": "2021-06-03T06:44:13.203748Z",
     "iopub.status.busy": "2021-06-03T06:44:13.202916Z",
     "iopub.status.idle": "2021-06-03T06:44:13.204984Z",
     "shell.execute_reply": "2021-06-03T06:44:13.205445Z",
     "shell.execute_reply.started": "2021-06-03T06:07:21.814710Z"
    },
    "papermill": {
     "duration": 0.295498,
     "end_time": "2021-06-03T06:44:13.205607",
     "exception": false,
     "start_time": "2021-06-03T06:44:12.910109",
     "status": "completed"
    },
    "tags": []
   },
   "outputs": [],
   "source": [
    "def train(model, train_loader, hyperparameters, epochs=20):\n",
    "    \"\"\"Training wrapper for PyTorch network.\"\"\"\n",
    "\n",
    "    criterion = nn.BCEWithLogitsLoss()\n",
    "    optimizer = optim.Adam(model.parameters(),\n",
    "                           lr=hyperparameters.get(\"lr\", 0.001),\n",
    "                           betas=(hyperparameters.get(\"beta1\", 0.9), 0.999))\n",
    "    for epoch in range(epochs):\n",
    "        for X, y in train_loader:\n",
    "            if device.type == 'cuda':\n",
    "                X, y = X.to(device, torch.float32), y.to(device, torch.float32)\n",
    "            optimizer.zero_grad()\n",
    "            y_hat = model(X).flatten()\n",
    "            loss = criterion(y_hat, y.type(torch.float32))\n",
    "            loss.backward()\n",
    "            optimizer.step()\n",
    "    \n",
    "    return model"
   ]
  },
  {
   "cell_type": "code",
   "execution_count": 15,
   "id": "communist-overview",
   "metadata": {
    "execution": {
     "iopub.execute_input": "2021-06-03T06:44:13.777085Z",
     "iopub.status.busy": "2021-06-03T06:44:13.776330Z",
     "iopub.status.idle": "2021-06-03T06:44:13.778639Z",
     "shell.execute_reply": "2021-06-03T06:44:13.778999Z",
     "shell.execute_reply.started": "2021-06-03T06:07:21.831737Z"
    },
    "papermill": {
     "duration": 0.295819,
     "end_time": "2021-06-03T06:44:13.779129",
     "exception": false,
     "start_time": "2021-06-03T06:44:13.483310",
     "status": "completed"
    },
    "tags": []
   },
   "outputs": [],
   "source": [
    "def evaluate(model, valid_loader):\n",
    "    \"\"\"Validation wrapper for PyTorch network.\"\"\"\n",
    "    \n",
    "    model.eval()\n",
    "    accuracy = 0\n",
    "    with torch.no_grad():  # this stops pytorch doing computational graph stuff under-the-hood and saves memory and time\n",
    "        for X, y in valid_loader:\n",
    "            if device.type == 'cuda':\n",
    "                X, y = X.to(device, torch.float32), y.to(device, torch.float32)\n",
    "            y_hat = model(X).flatten()\n",
    "            y_hat_labels = torch.sigmoid(y_hat) > 0.5\n",
    "            accuracy += (y_hat_labels == y).type(torch.float32).sum().item()\n",
    "    accuracy /= len(valid_loader.dataset)  # avg accuracy\n",
    "    print(f\"Validation accuracy: {accuracy:.4f}\")\n",
    "    \n",
    "    return accuracy "
   ]
  },
  {
   "cell_type": "markdown",
   "id": "earlier-cyprus",
   "metadata": {
    "papermill": {
     "duration": 0.282979,
     "end_time": "2021-06-03T06:44:14.340917",
     "exception": false,
     "start_time": "2021-06-03T06:44:14.057938",
     "status": "completed"
    },
    "tags": []
   },
   "source": [
    "## Train & Evaluate"
   ]
  },
  {
   "cell_type": "code",
   "execution_count": 16,
   "id": "important-directory",
   "metadata": {
    "execution": {
     "iopub.execute_input": "2021-06-03T06:44:14.915353Z",
     "iopub.status.busy": "2021-06-03T06:44:14.914769Z",
     "iopub.status.idle": "2021-06-03T06:44:14.917345Z",
     "shell.execute_reply": "2021-06-03T06:44:14.917736Z",
     "shell.execute_reply.started": "2021-06-03T06:07:21.847481Z"
    },
    "papermill": {
     "duration": 0.293985,
     "end_time": "2021-06-03T06:44:14.917876",
     "exception": false,
     "start_time": "2021-06-03T06:44:14.623891",
     "status": "completed"
    },
    "tags": []
   },
   "outputs": [],
   "source": [
    "def train_evaluate(parameterization):\n",
    "    model = make_model()\n",
    "    device = torch.device('cuda' if torch.cuda.is_available() else 'cpu')\n",
    "    model.to(device)\n",
    "    model = train(model, train_loader, hyperparameters=parameterization, epochs=20)\n",
    "    return evaluate(model, valid_loader)"
   ]
  },
  {
   "cell_type": "code",
   "execution_count": 17,
   "id": "smoking-opening",
   "metadata": {
    "execution": {
     "iopub.execute_input": "2021-06-03T06:44:15.488561Z",
     "iopub.status.busy": "2021-06-03T06:44:15.487639Z",
     "iopub.status.idle": "2021-06-03T07:13:31.019413Z",
     "shell.execute_reply": "2021-06-03T07:13:31.020042Z",
     "shell.execute_reply.started": "2021-06-03T06:07:21.861697Z"
    },
    "papermill": {
     "duration": 1755.822515,
     "end_time": "2021-06-03T07:13:31.020248",
     "exception": false,
     "start_time": "2021-06-03T06:44:15.197733",
     "status": "completed"
    },
    "tags": []
   },
   "outputs": [
    {
     "name": "stderr",
     "output_type": "stream",
     "text": [
      "[INFO 06-03 06:44:15] ax.modelbridge.dispatch_utils: Using Bayesian Optimization generation strategy: GenerationStrategy(name='Sobol+GPEI', steps=[Sobol for 5 trials, GPEI for subsequent trials]). Iterations after 5 will take longer to generate due to  model-fitting.\n",
      "[INFO 06-03 06:44:15] ax.service.managed_loop: Started full optimization with 15 steps.\n",
      "[INFO 06-03 06:44:15] ax.service.managed_loop: Running optimization trial 1...\n",
      "Downloading: \"https://download.pytorch.org/models/vgg16_bn-6c64b313.pth\" to /root/.cache/torch/hub/checkpoints/vgg16_bn-6c64b313.pth\n"
     ]
    },
    {
     "data": {
      "application/vnd.jupyter.widget-view+json": {
       "model_id": "ba2edb95c7984479a6a9e30f07617121",
       "version_major": 2,
       "version_minor": 0
      },
      "text/plain": [
       "  0%|          | 0.00/528M [00:00<?, ?B/s]"
      ]
     },
     "metadata": {},
     "output_type": "display_data"
    },
    {
     "name": "stderr",
     "output_type": "stream",
     "text": [
      "[INFO 06-03 06:46:30] ax.service.managed_loop: Running optimization trial 2...\n"
     ]
    },
    {
     "name": "stdout",
     "output_type": "stream",
     "text": [
      "Validation accuracy: 0.6226\n"
     ]
    },
    {
     "name": "stderr",
     "output_type": "stream",
     "text": [
      "[INFO 06-03 06:48:26] ax.service.managed_loop: Running optimization trial 3...\n"
     ]
    },
    {
     "name": "stdout",
     "output_type": "stream",
     "text": [
      "Validation accuracy: 0.6226\n"
     ]
    },
    {
     "name": "stderr",
     "output_type": "stream",
     "text": [
      "[INFO 06-03 06:50:21] ax.service.managed_loop: Running optimization trial 4...\n"
     ]
    },
    {
     "name": "stdout",
     "output_type": "stream",
     "text": [
      "Validation accuracy: 0.6226\n"
     ]
    },
    {
     "name": "stderr",
     "output_type": "stream",
     "text": [
      "[INFO 06-03 06:52:16] ax.service.managed_loop: Running optimization trial 5...\n"
     ]
    },
    {
     "name": "stdout",
     "output_type": "stream",
     "text": [
      "Validation accuracy: 0.7170\n"
     ]
    },
    {
     "name": "stderr",
     "output_type": "stream",
     "text": [
      "[INFO 06-03 06:54:12] ax.service.managed_loop: Running optimization trial 6...\n"
     ]
    },
    {
     "name": "stdout",
     "output_type": "stream",
     "text": [
      "Validation accuracy: 0.6226\n"
     ]
    },
    {
     "name": "stderr",
     "output_type": "stream",
     "text": [
      "[INFO 06-03 06:56:08] ax.service.managed_loop: Running optimization trial 7...\n"
     ]
    },
    {
     "name": "stdout",
     "output_type": "stream",
     "text": [
      "Validation accuracy: 0.7358\n"
     ]
    },
    {
     "name": "stderr",
     "output_type": "stream",
     "text": [
      "[INFO 06-03 06:58:03] ax.service.managed_loop: Running optimization trial 8...\n"
     ]
    },
    {
     "name": "stdout",
     "output_type": "stream",
     "text": [
      "Validation accuracy: 0.7358\n"
     ]
    },
    {
     "name": "stderr",
     "output_type": "stream",
     "text": [
      "[INFO 06-03 06:59:59] ax.service.managed_loop: Running optimization trial 9...\n"
     ]
    },
    {
     "name": "stdout",
     "output_type": "stream",
     "text": [
      "Validation accuracy: 0.7358\n"
     ]
    },
    {
     "name": "stderr",
     "output_type": "stream",
     "text": [
      "[INFO 06-03 07:01:55] ax.service.managed_loop: Running optimization trial 10...\n"
     ]
    },
    {
     "name": "stdout",
     "output_type": "stream",
     "text": [
      "Validation accuracy: 0.6792\n"
     ]
    },
    {
     "name": "stderr",
     "output_type": "stream",
     "text": [
      "[INFO 06-03 07:03:51] ax.service.managed_loop: Running optimization trial 11...\n"
     ]
    },
    {
     "name": "stdout",
     "output_type": "stream",
     "text": [
      "Validation accuracy: 0.7170\n"
     ]
    },
    {
     "name": "stderr",
     "output_type": "stream",
     "text": [
      "[INFO 06-03 07:05:47] ax.service.managed_loop: Running optimization trial 12...\n"
     ]
    },
    {
     "name": "stdout",
     "output_type": "stream",
     "text": [
      "Validation accuracy: 0.6792\n"
     ]
    },
    {
     "name": "stderr",
     "output_type": "stream",
     "text": [
      "[INFO 06-03 07:07:43] ax.service.managed_loop: Running optimization trial 13...\n"
     ]
    },
    {
     "name": "stdout",
     "output_type": "stream",
     "text": [
      "Validation accuracy: 0.7170\n"
     ]
    },
    {
     "name": "stderr",
     "output_type": "stream",
     "text": [
      "[INFO 06-03 07:09:39] ax.service.managed_loop: Running optimization trial 14...\n"
     ]
    },
    {
     "name": "stdout",
     "output_type": "stream",
     "text": [
      "Validation accuracy: 0.6792\n"
     ]
    },
    {
     "name": "stderr",
     "output_type": "stream",
     "text": [
      "[INFO 06-03 07:11:34] ax.service.managed_loop: Running optimization trial 15...\n"
     ]
    },
    {
     "name": "stdout",
     "output_type": "stream",
     "text": [
      "Validation accuracy: 0.6981\n",
      "Validation accuracy: 0.7925\n"
     ]
    }
   ],
   "source": [
    "best_parameters, values, experiment, model = optimize(\n",
    "    parameters=[\n",
    "        {\"name\": \"lr\", \"type\": \"range\", \"bounds\": [1e-6, 0.4], \"log_scale\": True, \"value_type\": 'float'},\n",
    "        {\"name\": \"beta1\", \"type\": \"range\", \"bounds\": [0.5, 0.999], \"value_type\": 'float'},\n",
    "    ],\n",
    "    evaluation_function=train_evaluate,\n",
    "    objective_name='accuracy',\n",
    "    total_trials = 15\n",
    ")"
   ]
  },
  {
   "cell_type": "code",
   "execution_count": 18,
   "id": "infrared-theme",
   "metadata": {
    "execution": {
     "iopub.execute_input": "2021-06-03T07:13:31.602440Z",
     "iopub.status.busy": "2021-06-03T07:13:31.601388Z",
     "iopub.status.idle": "2021-06-03T07:13:31.604443Z",
     "shell.execute_reply": "2021-06-03T07:13:31.604007Z",
     "shell.execute_reply.started": "2021-06-03T06:36:37.436438Z"
    },
    "papermill": {
     "duration": 0.296577,
     "end_time": "2021-06-03T07:13:31.604567",
     "exception": false,
     "start_time": "2021-06-03T07:13:31.307990",
     "status": "completed"
    },
    "tags": []
   },
   "outputs": [
    {
     "data": {
      "text/plain": [
       "{'lr': 5.808510479938937e-06, 'beta1': 0.9176069541066801}"
      ]
     },
     "execution_count": 18,
     "metadata": {},
     "output_type": "execute_result"
    }
   ],
   "source": [
    "best_parameters"
   ]
  },
  {
   "cell_type": "code",
   "execution_count": 19,
   "id": "further-lounge",
   "metadata": {
    "execution": {
     "iopub.execute_input": "2021-06-03T07:13:32.203598Z",
     "iopub.status.busy": "2021-06-03T07:13:32.201855Z",
     "iopub.status.idle": "2021-06-03T07:13:32.205493Z",
     "shell.execute_reply": "2021-06-03T07:13:32.205065Z",
     "shell.execute_reply.started": "2021-06-03T06:36:37.443570Z"
    },
    "papermill": {
     "duration": 0.304009,
     "end_time": "2021-06-03T07:13:32.205622",
     "exception": false,
     "start_time": "2021-06-03T07:13:31.901613",
     "status": "completed"
    },
    "tags": []
   },
   "outputs": [
    {
     "data": {
      "text/plain": [
       "({'accuracy': 0.7172967886979704},\n",
       " {'accuracy': {'accuracy': 0.00013007065356016173}})"
      ]
     },
     "execution_count": 19,
     "metadata": {},
     "output_type": "execute_result"
    }
   ],
   "source": [
    "means, covariances = values\n",
    "means, covariances"
   ]
  },
  {
   "cell_type": "code",
   "execution_count": 20,
   "id": "competent-exclusive",
   "metadata": {
    "execution": {
     "iopub.execute_input": "2021-06-03T07:13:32.807999Z",
     "iopub.status.busy": "2021-06-03T07:13:32.807225Z",
     "iopub.status.idle": "2021-06-03T07:13:32.810286Z",
     "shell.execute_reply": "2021-06-03T07:13:32.810785Z",
     "shell.execute_reply.started": "2021-06-03T06:36:37.459669Z"
    },
    "papermill": {
     "duration": 0.318212,
     "end_time": "2021-06-03T07:13:32.810924",
     "exception": false,
     "start_time": "2021-06-03T07:13:32.492712",
     "status": "completed"
    },
    "tags": []
   },
   "outputs": [
    {
     "data": {
      "text/plain": [
       "Arm(name='14_0', parameters={'lr': 1.3239393810379851e-05, 'beta1': 0.5})"
      ]
     },
     "execution_count": 20,
     "metadata": {},
     "output_type": "execute_result"
    }
   ],
   "source": [
    "data = experiment.fetch_data()\n",
    "df = data.df\n",
    "best_arm_name = df.arm_name[df['mean'] == df['mean'].max()].values[0]\n",
    "best_arm = experiment.arms_by_name[best_arm_name]\n",
    "best_arm"
   ]
  },
  {
   "cell_type": "markdown",
   "id": "mounted-garbage",
   "metadata": {
    "papermill": {
     "duration": 0.315853,
     "end_time": "2021-06-03T07:13:33.414394",
     "exception": false,
     "start_time": "2021-06-03T07:13:33.098541",
     "status": "completed"
    },
    "tags": []
   },
   "source": [
    "# Viz"
   ]
  },
  {
   "cell_type": "code",
   "execution_count": 21,
   "id": "protective-damages",
   "metadata": {
    "execution": {
     "iopub.execute_input": "2021-06-03T07:13:34.015316Z",
     "iopub.status.busy": "2021-06-03T07:13:34.014769Z",
     "iopub.status.idle": "2021-06-03T07:13:34.746695Z",
     "shell.execute_reply": "2021-06-03T07:13:34.746245Z",
     "shell.execute_reply.started": "2021-06-03T06:36:37.488605Z"
    },
    "id": "MtKdlivg2JQp",
    "outputId": "a8a6e431-36c8-4d7f-ca3c-510dcfd82922",
    "papermill": {
     "duration": 1.042233,
     "end_time": "2021-06-03T07:13:34.746822",
     "exception": false,
     "start_time": "2021-06-03T07:13:33.704589",
     "status": "completed"
    },
    "tags": []
   },
   "outputs": [
    {
     "data": {
      "text/html": [
       "        <script type=\"text/javascript\">\n",
       "        window.PlotlyConfig = {MathJaxConfig: 'local'};\n",
       "        if (window.MathJax) {MathJax.Hub.Config({SVG: {font: \"STIX-Web\"}});}\n",
       "        if (typeof require !== 'undefined') {\n",
       "        require.undef(\"plotly\");\n",
       "        requirejs.config({\n",
       "            paths: {\n",
       "                'plotly': ['https://cdn.plot.ly/plotly-latest.min']\n",
       "            }\n",
       "        });\n",
       "        require(['plotly'], function(Plotly) {\n",
       "            window._Plotly = Plotly;\n",
       "        });\n",
       "        }\n",
       "        </script>\n",
       "        "
      ]
     },
     "metadata": {},
     "output_type": "display_data"
    },
    {
     "data": {
      "text/html": [
       "<div>                            <div id=\"99dad672-e5ca-4d36-9bdc-ededdb218eb3\" class=\"plotly-graph-div\" style=\"height:525px; width:100%;\"></div>            <script type=\"text/javascript\">                require([\"plotly\"], function(Plotly) {                    window.PLOTLYENV=window.PLOTLYENV || {};                                    if (document.getElementById(\"99dad672-e5ca-4d36-9bdc-ededdb218eb3\")) {                    Plotly.newPlot(                        \"99dad672-e5ca-4d36-9bdc-ededdb218eb3\",                        [{\"hoverinfo\": \"none\", \"legendgroup\": \"\", \"line\": {\"width\": 0}, \"mode\": \"lines\", \"showlegend\": false, \"type\": \"scatter\", \"x\": [1, 2, 3, 4, 5, 6, 7, 8, 9, 10, 11, 12, 13, 14, 15], \"y\": [62.264150943396224, 62.264150943396224, 62.264150943396224, 71.69811320754717, 71.69811320754717, 73.58490566037736, 73.58490566037736, 73.58490566037736, 73.58490566037736, 73.58490566037736, 73.58490566037736, 73.58490566037736, 73.58490566037736, 73.58490566037736, 79.24528301886792]}, {\"fill\": \"tonexty\", \"fillcolor\": \"rgba(128,177,211,0.3)\", \"legendgroup\": \"mean\", \"line\": {\"color\": \"rgba(128,177,211,1)\"}, \"mode\": \"lines\", \"name\": \"mean\", \"type\": \"scatter\", \"x\": [1, 2, 3, 4, 5, 6, 7, 8, 9, 10, 11, 12, 13, 14, 15], \"y\": [62.264150943396224, 62.264150943396224, 62.264150943396224, 71.69811320754717, 71.69811320754717, 73.58490566037736, 73.58490566037736, 73.58490566037736, 73.58490566037736, 73.58490566037736, 73.58490566037736, 73.58490566037736, 73.58490566037736, 73.58490566037736, 79.24528301886792]}, {\"fill\": \"tonexty\", \"fillcolor\": \"rgba(128,177,211,0.3)\", \"hoverinfo\": \"none\", \"legendgroup\": \"\", \"line\": {\"width\": 0}, \"mode\": \"lines\", \"showlegend\": false, \"type\": \"scatter\", \"x\": [1, 2, 3, 4, 5, 6, 7, 8, 9, 10, 11, 12, 13, 14, 15], \"y\": [62.264150943396224, 62.264150943396224, 62.264150943396224, 71.69811320754717, 71.69811320754717, 73.58490566037736, 73.58490566037736, 73.58490566037736, 73.58490566037736, 73.58490566037736, 73.58490566037736, 73.58490566037736, 73.58490566037736, 73.58490566037736, 79.24528301886792]}],                        {\"showlegend\": true, \"template\": {\"data\": {\"bar\": [{\"error_x\": {\"color\": \"#2a3f5f\"}, \"error_y\": {\"color\": \"#2a3f5f\"}, \"marker\": {\"line\": {\"color\": \"#E5ECF6\", \"width\": 0.5}}, \"type\": \"bar\"}], \"barpolar\": [{\"marker\": {\"line\": {\"color\": \"#E5ECF6\", \"width\": 0.5}}, \"type\": \"barpolar\"}], \"carpet\": [{\"aaxis\": {\"endlinecolor\": \"#2a3f5f\", \"gridcolor\": \"white\", \"linecolor\": \"white\", \"minorgridcolor\": \"white\", \"startlinecolor\": \"#2a3f5f\"}, \"baxis\": {\"endlinecolor\": \"#2a3f5f\", \"gridcolor\": \"white\", \"linecolor\": \"white\", \"minorgridcolor\": \"white\", \"startlinecolor\": \"#2a3f5f\"}, \"type\": \"carpet\"}], \"choropleth\": [{\"colorbar\": {\"outlinewidth\": 0, \"ticks\": \"\"}, \"type\": \"choropleth\"}], \"contour\": [{\"colorbar\": {\"outlinewidth\": 0, \"ticks\": \"\"}, \"colorscale\": [[0.0, \"#0d0887\"], [0.1111111111111111, \"#46039f\"], [0.2222222222222222, \"#7201a8\"], [0.3333333333333333, \"#9c179e\"], [0.4444444444444444, \"#bd3786\"], [0.5555555555555556, \"#d8576b\"], [0.6666666666666666, \"#ed7953\"], [0.7777777777777778, \"#fb9f3a\"], [0.8888888888888888, \"#fdca26\"], [1.0, \"#f0f921\"]], \"type\": \"contour\"}], \"contourcarpet\": [{\"colorbar\": {\"outlinewidth\": 0, \"ticks\": \"\"}, \"type\": \"contourcarpet\"}], \"heatmap\": [{\"colorbar\": {\"outlinewidth\": 0, \"ticks\": \"\"}, \"colorscale\": [[0.0, \"#0d0887\"], [0.1111111111111111, \"#46039f\"], [0.2222222222222222, \"#7201a8\"], [0.3333333333333333, \"#9c179e\"], [0.4444444444444444, \"#bd3786\"], [0.5555555555555556, \"#d8576b\"], [0.6666666666666666, \"#ed7953\"], [0.7777777777777778, \"#fb9f3a\"], [0.8888888888888888, \"#fdca26\"], [1.0, \"#f0f921\"]], \"type\": \"heatmap\"}], \"heatmapgl\": [{\"colorbar\": {\"outlinewidth\": 0, \"ticks\": \"\"}, \"colorscale\": [[0.0, \"#0d0887\"], [0.1111111111111111, \"#46039f\"], [0.2222222222222222, \"#7201a8\"], [0.3333333333333333, \"#9c179e\"], [0.4444444444444444, \"#bd3786\"], [0.5555555555555556, \"#d8576b\"], [0.6666666666666666, \"#ed7953\"], [0.7777777777777778, \"#fb9f3a\"], [0.8888888888888888, \"#fdca26\"], [1.0, \"#f0f921\"]], \"type\": \"heatmapgl\"}], \"histogram\": [{\"marker\": {\"colorbar\": {\"outlinewidth\": 0, \"ticks\": \"\"}}, \"type\": \"histogram\"}], \"histogram2d\": [{\"colorbar\": {\"outlinewidth\": 0, \"ticks\": \"\"}, \"colorscale\": [[0.0, \"#0d0887\"], [0.1111111111111111, \"#46039f\"], [0.2222222222222222, \"#7201a8\"], [0.3333333333333333, \"#9c179e\"], [0.4444444444444444, \"#bd3786\"], [0.5555555555555556, \"#d8576b\"], [0.6666666666666666, \"#ed7953\"], [0.7777777777777778, \"#fb9f3a\"], [0.8888888888888888, \"#fdca26\"], [1.0, \"#f0f921\"]], \"type\": \"histogram2d\"}], \"histogram2dcontour\": [{\"colorbar\": {\"outlinewidth\": 0, \"ticks\": \"\"}, \"colorscale\": [[0.0, \"#0d0887\"], [0.1111111111111111, \"#46039f\"], [0.2222222222222222, \"#7201a8\"], [0.3333333333333333, \"#9c179e\"], [0.4444444444444444, \"#bd3786\"], [0.5555555555555556, \"#d8576b\"], [0.6666666666666666, \"#ed7953\"], [0.7777777777777778, \"#fb9f3a\"], [0.8888888888888888, \"#fdca26\"], [1.0, \"#f0f921\"]], \"type\": \"histogram2dcontour\"}], \"mesh3d\": [{\"colorbar\": {\"outlinewidth\": 0, \"ticks\": \"\"}, \"type\": \"mesh3d\"}], \"parcoords\": [{\"line\": {\"colorbar\": {\"outlinewidth\": 0, \"ticks\": \"\"}}, \"type\": \"parcoords\"}], \"pie\": [{\"automargin\": true, \"type\": \"pie\"}], \"scatter\": [{\"marker\": {\"colorbar\": {\"outlinewidth\": 0, \"ticks\": \"\"}}, \"type\": \"scatter\"}], \"scatter3d\": [{\"line\": {\"colorbar\": {\"outlinewidth\": 0, \"ticks\": \"\"}}, \"marker\": {\"colorbar\": {\"outlinewidth\": 0, \"ticks\": \"\"}}, \"type\": \"scatter3d\"}], \"scattercarpet\": [{\"marker\": {\"colorbar\": {\"outlinewidth\": 0, \"ticks\": \"\"}}, \"type\": \"scattercarpet\"}], \"scattergeo\": [{\"marker\": {\"colorbar\": {\"outlinewidth\": 0, \"ticks\": \"\"}}, \"type\": \"scattergeo\"}], \"scattergl\": [{\"marker\": {\"colorbar\": {\"outlinewidth\": 0, \"ticks\": \"\"}}, \"type\": \"scattergl\"}], \"scattermapbox\": [{\"marker\": {\"colorbar\": {\"outlinewidth\": 0, \"ticks\": \"\"}}, \"type\": \"scattermapbox\"}], \"scatterpolar\": [{\"marker\": {\"colorbar\": {\"outlinewidth\": 0, \"ticks\": \"\"}}, \"type\": \"scatterpolar\"}], \"scatterpolargl\": [{\"marker\": {\"colorbar\": {\"outlinewidth\": 0, \"ticks\": \"\"}}, \"type\": \"scatterpolargl\"}], \"scatterternary\": [{\"marker\": {\"colorbar\": {\"outlinewidth\": 0, \"ticks\": \"\"}}, \"type\": \"scatterternary\"}], \"surface\": [{\"colorbar\": {\"outlinewidth\": 0, \"ticks\": \"\"}, \"colorscale\": [[0.0, \"#0d0887\"], [0.1111111111111111, \"#46039f\"], [0.2222222222222222, \"#7201a8\"], [0.3333333333333333, \"#9c179e\"], [0.4444444444444444, \"#bd3786\"], [0.5555555555555556, \"#d8576b\"], [0.6666666666666666, \"#ed7953\"], [0.7777777777777778, \"#fb9f3a\"], [0.8888888888888888, \"#fdca26\"], [1.0, \"#f0f921\"]], \"type\": \"surface\"}], \"table\": [{\"cells\": {\"fill\": {\"color\": \"#EBF0F8\"}, \"line\": {\"color\": \"white\"}}, \"header\": {\"fill\": {\"color\": \"#C8D4E3\"}, \"line\": {\"color\": \"white\"}}, \"type\": \"table\"}]}, \"layout\": {\"annotationdefaults\": {\"arrowcolor\": \"#2a3f5f\", \"arrowhead\": 0, \"arrowwidth\": 1}, \"autotypenumbers\": \"strict\", \"coloraxis\": {\"colorbar\": {\"outlinewidth\": 0, \"ticks\": \"\"}}, \"colorscale\": {\"diverging\": [[0, \"#8e0152\"], [0.1, \"#c51b7d\"], [0.2, \"#de77ae\"], [0.3, \"#f1b6da\"], [0.4, \"#fde0ef\"], [0.5, \"#f7f7f7\"], [0.6, \"#e6f5d0\"], [0.7, \"#b8e186\"], [0.8, \"#7fbc41\"], [0.9, \"#4d9221\"], [1, \"#276419\"]], \"sequential\": [[0.0, \"#0d0887\"], [0.1111111111111111, \"#46039f\"], [0.2222222222222222, \"#7201a8\"], [0.3333333333333333, \"#9c179e\"], [0.4444444444444444, \"#bd3786\"], [0.5555555555555556, \"#d8576b\"], [0.6666666666666666, \"#ed7953\"], [0.7777777777777778, \"#fb9f3a\"], [0.8888888888888888, \"#fdca26\"], [1.0, \"#f0f921\"]], \"sequentialminus\": [[0.0, \"#0d0887\"], [0.1111111111111111, \"#46039f\"], [0.2222222222222222, \"#7201a8\"], [0.3333333333333333, \"#9c179e\"], [0.4444444444444444, \"#bd3786\"], [0.5555555555555556, \"#d8576b\"], [0.6666666666666666, \"#ed7953\"], [0.7777777777777778, \"#fb9f3a\"], [0.8888888888888888, \"#fdca26\"], [1.0, \"#f0f921\"]]}, \"colorway\": [\"#636efa\", \"#EF553B\", \"#00cc96\", \"#ab63fa\", \"#FFA15A\", \"#19d3f3\", \"#FF6692\", \"#B6E880\", \"#FF97FF\", \"#FECB52\"], \"font\": {\"color\": \"#2a3f5f\"}, \"geo\": {\"bgcolor\": \"white\", \"lakecolor\": \"white\", \"landcolor\": \"#E5ECF6\", \"showlakes\": true, \"showland\": true, \"subunitcolor\": \"white\"}, \"hoverlabel\": {\"align\": \"left\"}, \"hovermode\": \"closest\", \"mapbox\": {\"style\": \"light\"}, \"paper_bgcolor\": \"white\", \"plot_bgcolor\": \"#E5ECF6\", \"polar\": {\"angularaxis\": {\"gridcolor\": \"white\", \"linecolor\": \"white\", \"ticks\": \"\"}, \"bgcolor\": \"#E5ECF6\", \"radialaxis\": {\"gridcolor\": \"white\", \"linecolor\": \"white\", \"ticks\": \"\"}}, \"scene\": {\"xaxis\": {\"backgroundcolor\": \"#E5ECF6\", \"gridcolor\": \"white\", \"gridwidth\": 2, \"linecolor\": \"white\", \"showbackground\": true, \"ticks\": \"\", \"zerolinecolor\": \"white\"}, \"yaxis\": {\"backgroundcolor\": \"#E5ECF6\", \"gridcolor\": \"white\", \"gridwidth\": 2, \"linecolor\": \"white\", \"showbackground\": true, \"ticks\": \"\", \"zerolinecolor\": \"white\"}, \"zaxis\": {\"backgroundcolor\": \"#E5ECF6\", \"gridcolor\": \"white\", \"gridwidth\": 2, \"linecolor\": \"white\", \"showbackground\": true, \"ticks\": \"\", \"zerolinecolor\": \"white\"}}, \"shapedefaults\": {\"line\": {\"color\": \"#2a3f5f\"}}, \"ternary\": {\"aaxis\": {\"gridcolor\": \"white\", \"linecolor\": \"white\", \"ticks\": \"\"}, \"baxis\": {\"gridcolor\": \"white\", \"linecolor\": \"white\", \"ticks\": \"\"}, \"bgcolor\": \"#E5ECF6\", \"caxis\": {\"gridcolor\": \"white\", \"linecolor\": \"white\", \"ticks\": \"\"}}, \"title\": {\"x\": 0.05}, \"xaxis\": {\"automargin\": true, \"gridcolor\": \"white\", \"linecolor\": \"white\", \"ticks\": \"\", \"title\": {\"standoff\": 15}, \"zerolinecolor\": \"white\", \"zerolinewidth\": 2}, \"yaxis\": {\"automargin\": true, \"gridcolor\": \"white\", \"linecolor\": \"white\", \"ticks\": \"\", \"title\": {\"standoff\": 15}, \"zerolinecolor\": \"white\", \"zerolinewidth\": 2}}}, \"title\": {\"text\": \"Model performance vs. # of iterations\"}, \"xaxis\": {\"title\": {\"text\": \"Iteration\"}}, \"yaxis\": {\"title\": {\"text\": \"Classification Accuracy, %\"}}},                        {\"responsive\": true}                    ).then(function(){\n",
       "                            \n",
       "var gd = document.getElementById('99dad672-e5ca-4d36-9bdc-ededdb218eb3');\n",
       "var x = new MutationObserver(function (mutations, observer) {{\n",
       "        var display = window.getComputedStyle(gd).display;\n",
       "        if (!display || display === 'none') {{\n",
       "            console.log([gd, 'removed!']);\n",
       "            Plotly.purge(gd);\n",
       "            observer.disconnect();\n",
       "        }}\n",
       "}});\n",
       "\n",
       "// Listen for the removal of the full notebook cells\n",
       "var notebookContainer = gd.closest('#notebook-container');\n",
       "if (notebookContainer) {{\n",
       "    x.observe(notebookContainer, {childList: true});\n",
       "}}\n",
       "\n",
       "// Listen for the clearing of the current output cell\n",
       "var outputEl = gd.closest('.output');\n",
       "if (outputEl) {{\n",
       "    x.observe(outputEl, {childList: true});\n",
       "}}\n",
       "\n",
       "                        })                };                });            </script>        </div>"
      ]
     },
     "metadata": {},
     "output_type": "display_data"
    }
   ],
   "source": [
    "best_objectives = np.array([[trial.objective_mean*100 for trial in experiment.trials.values()]])\n",
    "best_objective_plot = optimization_trace_single_method(\n",
    "    y=np.maximum.accumulate(best_objectives, axis=1),\n",
    "    title=\"Model performance vs. # of iterations\",\n",
    "    ylabel=\"Classification Accuracy, %\",\n",
    ")\n",
    "render(best_objective_plot)"
   ]
  },
  {
   "cell_type": "code",
   "execution_count": 22,
   "id": "clinical-defendant",
   "metadata": {
    "execution": {
     "iopub.execute_input": "2021-06-03T07:13:35.353688Z",
     "iopub.status.busy": "2021-06-03T07:13:35.353017Z",
     "iopub.status.idle": "2021-06-03T07:13:35.355770Z",
     "shell.execute_reply": "2021-06-03T07:13:35.356197Z",
     "shell.execute_reply.started": "2021-06-03T06:36:38.355555Z"
    },
    "id": "jZr-xMpF2JQp",
    "outputId": "9a74ad71-ef1e-482f-83b4-2dac656ed5e1",
    "papermill": {
     "duration": 0.317712,
     "end_time": "2021-06-03T07:13:35.356330",
     "exception": false,
     "start_time": "2021-06-03T07:13:35.038618",
     "status": "completed"
    },
    "tags": []
   },
   "outputs": [
    {
     "data": {
      "text/plain": [
       "Arm(name='14_0', parameters={'lr': 1.3239393810379851e-05, 'beta1': 0.5})"
      ]
     },
     "execution_count": 22,
     "metadata": {},
     "output_type": "execute_result"
    }
   ],
   "source": [
    "data = experiment.fetch_data()\n",
    "df = data.df\n",
    "best_arm_name = df.arm_name[df['mean'] == df['mean'].max()].values[0]\n",
    "best_arm = experiment.arms_by_name[best_arm_name]\n",
    "best_arm"
   ]
  },
  {
   "cell_type": "code",
   "execution_count": 23,
   "id": "dietary-quantum",
   "metadata": {
    "execution": {
     "iopub.execute_input": "2021-06-03T07:13:35.935371Z",
     "iopub.status.busy": "2021-06-03T07:13:35.933718Z",
     "iopub.status.idle": "2021-06-03T07:13:35.950822Z",
     "shell.execute_reply": "2021-06-03T07:13:35.950389Z",
     "shell.execute_reply.started": "2021-06-03T06:36:38.381641Z"
    },
    "papermill": {
     "duration": 0.309876,
     "end_time": "2021-06-03T07:13:35.950944",
     "exception": false,
     "start_time": "2021-06-03T07:13:35.641068",
     "status": "completed"
    },
    "tags": []
   },
   "outputs": [
    {
     "data": {
      "text/html": [
       "<div>\n",
       "<style scoped>\n",
       "    .dataframe tbody tr th:only-of-type {\n",
       "        vertical-align: middle;\n",
       "    }\n",
       "\n",
       "    .dataframe tbody tr th {\n",
       "        vertical-align: top;\n",
       "    }\n",
       "\n",
       "    .dataframe thead th {\n",
       "        text-align: right;\n",
       "    }\n",
       "</style>\n",
       "<table border=\"1\" class=\"dataframe\">\n",
       "  <thead>\n",
       "    <tr style=\"text-align: right;\">\n",
       "      <th></th>\n",
       "      <th>arm_name</th>\n",
       "      <th>metric_name</th>\n",
       "      <th>mean</th>\n",
       "      <th>sem</th>\n",
       "      <th>trial_index</th>\n",
       "    </tr>\n",
       "  </thead>\n",
       "  <tbody>\n",
       "    <tr>\n",
       "      <th>0</th>\n",
       "      <td>0_0</td>\n",
       "      <td>accuracy</td>\n",
       "      <td>0.622642</td>\n",
       "      <td>NaN</td>\n",
       "      <td>0</td>\n",
       "    </tr>\n",
       "    <tr>\n",
       "      <th>1</th>\n",
       "      <td>1_0</td>\n",
       "      <td>accuracy</td>\n",
       "      <td>0.622642</td>\n",
       "      <td>NaN</td>\n",
       "      <td>1</td>\n",
       "    </tr>\n",
       "    <tr>\n",
       "      <th>2</th>\n",
       "      <td>2_0</td>\n",
       "      <td>accuracy</td>\n",
       "      <td>0.622642</td>\n",
       "      <td>NaN</td>\n",
       "      <td>2</td>\n",
       "    </tr>\n",
       "    <tr>\n",
       "      <th>3</th>\n",
       "      <td>3_0</td>\n",
       "      <td>accuracy</td>\n",
       "      <td>0.716981</td>\n",
       "      <td>NaN</td>\n",
       "      <td>3</td>\n",
       "    </tr>\n",
       "    <tr>\n",
       "      <th>4</th>\n",
       "      <td>4_0</td>\n",
       "      <td>accuracy</td>\n",
       "      <td>0.622642</td>\n",
       "      <td>NaN</td>\n",
       "      <td>4</td>\n",
       "    </tr>\n",
       "    <tr>\n",
       "      <th>5</th>\n",
       "      <td>5_0</td>\n",
       "      <td>accuracy</td>\n",
       "      <td>0.735849</td>\n",
       "      <td>NaN</td>\n",
       "      <td>5</td>\n",
       "    </tr>\n",
       "    <tr>\n",
       "      <th>6</th>\n",
       "      <td>6_0</td>\n",
       "      <td>accuracy</td>\n",
       "      <td>0.735849</td>\n",
       "      <td>NaN</td>\n",
       "      <td>6</td>\n",
       "    </tr>\n",
       "    <tr>\n",
       "      <th>7</th>\n",
       "      <td>7_0</td>\n",
       "      <td>accuracy</td>\n",
       "      <td>0.735849</td>\n",
       "      <td>NaN</td>\n",
       "      <td>7</td>\n",
       "    </tr>\n",
       "    <tr>\n",
       "      <th>8</th>\n",
       "      <td>8_0</td>\n",
       "      <td>accuracy</td>\n",
       "      <td>0.679245</td>\n",
       "      <td>NaN</td>\n",
       "      <td>8</td>\n",
       "    </tr>\n",
       "    <tr>\n",
       "      <th>9</th>\n",
       "      <td>9_0</td>\n",
       "      <td>accuracy</td>\n",
       "      <td>0.716981</td>\n",
       "      <td>NaN</td>\n",
       "      <td>9</td>\n",
       "    </tr>\n",
       "    <tr>\n",
       "      <th>10</th>\n",
       "      <td>10_0</td>\n",
       "      <td>accuracy</td>\n",
       "      <td>0.679245</td>\n",
       "      <td>NaN</td>\n",
       "      <td>10</td>\n",
       "    </tr>\n",
       "    <tr>\n",
       "      <th>11</th>\n",
       "      <td>11_0</td>\n",
       "      <td>accuracy</td>\n",
       "      <td>0.716981</td>\n",
       "      <td>NaN</td>\n",
       "      <td>11</td>\n",
       "    </tr>\n",
       "    <tr>\n",
       "      <th>12</th>\n",
       "      <td>12_0</td>\n",
       "      <td>accuracy</td>\n",
       "      <td>0.679245</td>\n",
       "      <td>NaN</td>\n",
       "      <td>12</td>\n",
       "    </tr>\n",
       "    <tr>\n",
       "      <th>13</th>\n",
       "      <td>13_0</td>\n",
       "      <td>accuracy</td>\n",
       "      <td>0.698113</td>\n",
       "      <td>NaN</td>\n",
       "      <td>13</td>\n",
       "    </tr>\n",
       "    <tr>\n",
       "      <th>14</th>\n",
       "      <td>14_0</td>\n",
       "      <td>accuracy</td>\n",
       "      <td>0.792453</td>\n",
       "      <td>NaN</td>\n",
       "      <td>14</td>\n",
       "    </tr>\n",
       "  </tbody>\n",
       "</table>\n",
       "</div>"
      ],
      "text/plain": [
       "   arm_name metric_name      mean  sem  trial_index\n",
       "0       0_0    accuracy  0.622642  NaN            0\n",
       "1       1_0    accuracy  0.622642  NaN            1\n",
       "2       2_0    accuracy  0.622642  NaN            2\n",
       "3       3_0    accuracy  0.716981  NaN            3\n",
       "4       4_0    accuracy  0.622642  NaN            4\n",
       "5       5_0    accuracy  0.735849  NaN            5\n",
       "6       6_0    accuracy  0.735849  NaN            6\n",
       "7       7_0    accuracy  0.735849  NaN            7\n",
       "8       8_0    accuracy  0.679245  NaN            8\n",
       "9       9_0    accuracy  0.716981  NaN            9\n",
       "10     10_0    accuracy  0.679245  NaN           10\n",
       "11     11_0    accuracy  0.716981  NaN           11\n",
       "12     12_0    accuracy  0.679245  NaN           12\n",
       "13     13_0    accuracy  0.698113  NaN           13\n",
       "14     14_0    accuracy  0.792453  NaN           14"
      ]
     },
     "execution_count": 23,
     "metadata": {},
     "output_type": "execute_result"
    }
   ],
   "source": [
    "df"
   ]
  },
  {
   "cell_type": "markdown",
   "id": "hourly-fortune",
   "metadata": {
    "papermill": {
     "duration": 0.317649,
     "end_time": "2021-06-03T07:13:36.559388",
     "exception": false,
     "start_time": "2021-06-03T07:13:36.241739",
     "status": "completed"
    },
    "tags": []
   },
   "source": [
    "# Testing Functions"
   ]
  },
  {
   "cell_type": "code",
   "execution_count": 24,
   "id": "loving-amateur",
   "metadata": {
    "execution": {
     "iopub.execute_input": "2021-06-03T07:13:37.154036Z",
     "iopub.status.busy": "2021-06-03T07:13:37.153211Z",
     "iopub.status.idle": "2021-06-03T07:13:37.155909Z",
     "shell.execute_reply": "2021-06-03T07:13:37.155484Z",
     "shell.execute_reply.started": "2021-06-03T06:36:38.405501Z"
    },
    "papermill": {
     "duration": 0.308012,
     "end_time": "2021-06-03T07:13:37.156024",
     "exception": false,
     "start_time": "2021-06-03T07:13:36.848012",
     "status": "completed"
    },
    "tags": []
   },
   "outputs": [],
   "source": [
    "def pytorch_confusion_matrix(cnn, data_loader):\n",
    "    \"\"\"return confusion matrix on a holdout sample for a pytorch cnn model(binary classification)\"\"\"\n",
    "    confusion_matrix = torch.zeros(2, 2)\n",
    "    device = torch.device('cuda' if torch.cuda.is_available() else 'cpu')\n",
    "    cnn.eval()\n",
    "    with torch.no_grad():\n",
    "        for i, (inputs, classes) in enumerate(data_loader):\n",
    "            inputs = inputs.to(device)\n",
    "            classes = classes.to(device)\n",
    "            outputs = cnn(inputs).flatten()\n",
    "            preds = torch.sigmoid(outputs) > 0.5\n",
    "            for t, p in zip(classes.view(-1), preds.view(-1)):\n",
    "                    confusion_matrix[t.long(), p.long()] += 1\n",
    "\n",
    "    cm = pd.DataFrame(confusion_matrix.numpy(), columns = ['predict negative','predict positive'], index = ['actual negative', 'actual positive'])\n",
    "    return cm\n",
    "\n",
    "def recall_calculation(confusion_matrix):\n",
    "    \"\"\"return recall of holdout sample from a confusion matrix\"\"\"\n",
    "    test_recall = confusion_matrix.iloc[1,1]/(confusion_matrix.iloc[1,1]+confusion_matrix.iloc[1,0])\n",
    "    print(f\"Test recall is {test_recall*100:.2f}%.\")\n",
    "    return test_recall\n",
    "\n",
    "def get_test_accuracy(cnn, data_loader):\n",
    "    \"\"\"return accuracy on a holdout sample for a pytorch cnn model\"\"\"\n",
    "    test_batch_acc = 0\n",
    "    cnn.eval()\n",
    "    with torch.no_grad():\n",
    "        for X, y in data_loader:\n",
    "            device = torch.device('cuda' if torch.cuda.is_available() else 'cpu')\n",
    "            if device.type == 'cuda':\n",
    "                X, y = X.to(device), y.to(device)\n",
    "            y_hat = cnn(X).flatten()\n",
    "            y_hat_labels = torch.sigmoid(y_hat) > 0.5\n",
    "            test_batch_acc += (y_hat_labels == y).type(torch.float32).sum().item()\n",
    "    test_accuracy = test_batch_acc / len(data_loader.dataset)\n",
    "    print(f\"Test accuracy is {test_accuracy*100:.2f}%.\")\n",
    "    return test_accuracy"
   ]
  },
  {
   "cell_type": "markdown",
   "id": "ethical-desert",
   "metadata": {
    "papermill": {
     "duration": 0.296962,
     "end_time": "2021-06-03T07:13:37.738680",
     "exception": false,
     "start_time": "2021-06-03T07:13:37.441718",
     "status": "completed"
    },
    "tags": []
   },
   "source": [
    "## Test"
   ]
  },
  {
   "cell_type": "code",
   "execution_count": 25,
   "id": "descending-crime",
   "metadata": {
    "execution": {
     "iopub.execute_input": "2021-06-03T07:13:38.325574Z",
     "iopub.status.busy": "2021-06-03T07:13:38.324701Z",
     "iopub.status.idle": "2021-06-03T07:16:00.669547Z",
     "shell.execute_reply": "2021-06-03T07:16:00.668343Z",
     "shell.execute_reply.started": "2021-06-03T06:36:38.418406Z"
    },
    "papermill": {
     "duration": 142.642135,
     "end_time": "2021-06-03T07:16:00.669698",
     "exception": false,
     "start_time": "2021-06-03T07:13:38.027563",
     "status": "completed"
    },
    "tags": []
   },
   "outputs": [],
   "source": [
    "criterion = nn.BCEWithLogitsLoss()\n",
    "betas = (best_parameters[\"beta1\"], 0.999)\n",
    "model = make_model()\n",
    "device = torch.device('cuda' if torch.cuda.is_available() else 'cpu')\n",
    "model.to(device)\n",
    "optimizer = torch.optim.Adam(model.parameters(),\n",
    "                                lr = best_parameters[\"lr\"],\n",
    "                                betas = betas)\n",
    "model = train(model, train_loader, hyperparameters=best_arm.parameters, epochs=25)"
   ]
  },
  {
   "cell_type": "code",
   "execution_count": 26,
   "id": "removable-mention",
   "metadata": {
    "execution": {
     "iopub.execute_input": "2021-06-03T07:16:01.257052Z",
     "iopub.status.busy": "2021-06-03T07:16:01.256480Z",
     "iopub.status.idle": "2021-06-03T07:16:02.442223Z",
     "shell.execute_reply": "2021-06-03T07:16:02.442626Z",
     "shell.execute_reply.started": "2021-06-03T06:39:00.641423Z"
    },
    "papermill": {
     "duration": 1.481813,
     "end_time": "2021-06-03T07:16:02.442781",
     "exception": false,
     "start_time": "2021-06-03T07:16:00.960968",
     "status": "completed"
    },
    "tags": []
   },
   "outputs": [
    {
     "name": "stdout",
     "output_type": "stream",
     "text": [
      "Test accuracy is 70.37%.\n"
     ]
    },
    {
     "data": {
      "text/plain": [
       "0.7037037037037037"
      ]
     },
     "execution_count": 26,
     "metadata": {},
     "output_type": "execute_result"
    }
   ],
   "source": [
    "get_test_accuracy(model, test_loader)"
   ]
  },
  {
   "cell_type": "code",
   "execution_count": 27,
   "id": "extraordinary-cooking",
   "metadata": {
    "execution": {
     "iopub.execute_input": "2021-06-03T07:16:03.249859Z",
     "iopub.status.busy": "2021-06-03T07:16:03.249061Z",
     "iopub.status.idle": "2021-06-03T07:16:04.028418Z",
     "shell.execute_reply": "2021-06-03T07:16:04.028006Z",
     "shell.execute_reply.started": "2021-06-03T06:39:01.727879Z"
    },
    "papermill": {
     "duration": 1.243166,
     "end_time": "2021-06-03T07:16:04.028557",
     "exception": false,
     "start_time": "2021-06-03T07:16:02.785391",
     "status": "completed"
    },
    "tags": []
   },
   "outputs": [
    {
     "data": {
      "text/html": [
       "<div>\n",
       "<style scoped>\n",
       "    .dataframe tbody tr th:only-of-type {\n",
       "        vertical-align: middle;\n",
       "    }\n",
       "\n",
       "    .dataframe tbody tr th {\n",
       "        vertical-align: top;\n",
       "    }\n",
       "\n",
       "    .dataframe thead th {\n",
       "        text-align: right;\n",
       "    }\n",
       "</style>\n",
       "<table border=\"1\" class=\"dataframe\">\n",
       "  <thead>\n",
       "    <tr style=\"text-align: right;\">\n",
       "      <th></th>\n",
       "      <th>predict negative</th>\n",
       "      <th>predict positive</th>\n",
       "    </tr>\n",
       "  </thead>\n",
       "  <tbody>\n",
       "    <tr>\n",
       "      <th>actual negative</th>\n",
       "      <td>31.0</td>\n",
       "      <td>2.0</td>\n",
       "    </tr>\n",
       "    <tr>\n",
       "      <th>actual positive</th>\n",
       "      <td>14.0</td>\n",
       "      <td>7.0</td>\n",
       "    </tr>\n",
       "  </tbody>\n",
       "</table>\n",
       "</div>"
      ],
      "text/plain": [
       "                 predict negative  predict positive\n",
       "actual negative              31.0               2.0\n",
       "actual positive              14.0               7.0"
      ]
     },
     "execution_count": 27,
     "metadata": {},
     "output_type": "execute_result"
    }
   ],
   "source": [
    "pytorch_confusion_matrix(model, test_loader)"
   ]
  },
  {
   "cell_type": "code",
   "execution_count": 28,
   "id": "powerful-drama",
   "metadata": {
    "execution": {
     "iopub.execute_input": "2021-06-03T07:16:04.628684Z",
     "iopub.status.busy": "2021-06-03T07:16:04.627968Z",
     "iopub.status.idle": "2021-06-03T07:16:05.403712Z",
     "shell.execute_reply": "2021-06-03T07:16:05.404085Z",
     "shell.execute_reply.started": "2021-06-03T06:39:02.506482Z"
    },
    "papermill": {
     "duration": 1.07693,
     "end_time": "2021-06-03T07:16:05.404292",
     "exception": false,
     "start_time": "2021-06-03T07:16:04.327362",
     "status": "completed"
    },
    "tags": []
   },
   "outputs": [
    {
     "name": "stdout",
     "output_type": "stream",
     "text": [
      "Test recall is 33.33%.\n"
     ]
    },
    {
     "data": {
      "text/plain": [
       "0.33333334"
      ]
     },
     "execution_count": 28,
     "metadata": {},
     "output_type": "execute_result"
    }
   ],
   "source": [
    "recall_calculation(pytorch_confusion_matrix(model, test_loader))"
   ]
  },
  {
   "cell_type": "markdown",
   "id": "engaged-cologne",
   "metadata": {
    "papermill": {
     "duration": 0.295619,
     "end_time": "2021-06-03T07:16:05.987923",
     "exception": false,
     "start_time": "2021-06-03T07:16:05.692304",
     "status": "completed"
    },
    "tags": []
   },
   "source": [
    "## Save Model"
   ]
  },
  {
   "cell_type": "code",
   "execution_count": 29,
   "id": "knowing-strip",
   "metadata": {
    "execution": {
     "iopub.execute_input": "2021-06-03T07:16:06.587394Z",
     "iopub.status.busy": "2021-06-03T07:16:06.586555Z",
     "iopub.status.idle": "2021-06-03T07:16:08.144427Z",
     "shell.execute_reply": "2021-06-03T07:16:08.143824Z",
     "shell.execute_reply.started": "2021-06-03T06:40:08.697376Z"
    },
    "papermill": {
     "duration": 1.856991,
     "end_time": "2021-06-03T07:16:08.144606",
     "exception": false,
     "start_time": "2021-06-03T07:16:06.287615",
     "status": "completed"
    },
    "tags": []
   },
   "outputs": [],
   "source": [
    "torch.save(model.state_dict(), 'vgg16-final.pth')"
   ]
  }
 ],
 "metadata": {
  "kernelspec": {
   "display_name": "Python 3",
   "language": "python",
   "name": "python3"
  },
  "language_info": {
   "codemirror_mode": {
    "name": "ipython",
    "version": 3
   },
   "file_extension": ".py",
   "mimetype": "text/x-python",
   "name": "python",
   "nbconvert_exporter": "python",
   "pygments_lexer": "ipython3",
   "version": "3.8.8"
  },
  "papermill": {
   "default_parameters": {},
   "duration": 2030.380293,
   "end_time": "2021-06-03T07:16:10.180228",
   "environment_variables": {},
   "exception": null,
   "input_path": "__notebook__.ipynb",
   "output_path": "__notebook__.ipynb",
   "parameters": {},
   "start_time": "2021-06-03T06:42:19.799935",
   "version": "2.3.3"
  },
  "widgets": {
   "application/vnd.jupyter.widget-state+json": {
    "state": {
     "2f18bf90df8449b4846c1726c1eed6d7": {
      "model_module": "@jupyter-widgets/base",
      "model_module_version": "1.2.0",
      "model_name": "LayoutModel",
      "state": {
       "_model_module": "@jupyter-widgets/base",
       "_model_module_version": "1.2.0",
       "_model_name": "LayoutModel",
       "_view_count": null,
       "_view_module": "@jupyter-widgets/base",
       "_view_module_version": "1.2.0",
       "_view_name": "LayoutView",
       "align_content": null,
       "align_items": null,
       "align_self": null,
       "border": null,
       "bottom": null,
       "display": null,
       "flex": null,
       "flex_flow": null,
       "grid_area": null,
       "grid_auto_columns": null,
       "grid_auto_flow": null,
       "grid_auto_rows": null,
       "grid_column": null,
       "grid_gap": null,
       "grid_row": null,
       "grid_template_areas": null,
       "grid_template_columns": null,
       "grid_template_rows": null,
       "height": null,
       "justify_content": null,
       "justify_items": null,
       "left": null,
       "margin": null,
       "max_height": null,
       "max_width": null,
       "min_height": null,
       "min_width": null,
       "object_fit": null,
       "object_position": null,
       "order": null,
       "overflow": null,
       "overflow_x": null,
       "overflow_y": null,
       "padding": null,
       "right": null,
       "top": null,
       "visibility": null,
       "width": null
      }
     },
     "3f8739524e5f4a6f9127b8b2fe4bff4d": {
      "model_module": "@jupyter-widgets/controls",
      "model_module_version": "1.5.0",
      "model_name": "FloatProgressModel",
      "state": {
       "_dom_classes": [],
       "_model_module": "@jupyter-widgets/controls",
       "_model_module_version": "1.5.0",
       "_model_name": "FloatProgressModel",
       "_view_count": null,
       "_view_module": "@jupyter-widgets/controls",
       "_view_module_version": "1.5.0",
       "_view_name": "ProgressView",
       "bar_style": "success",
       "description": "",
       "description_tooltip": null,
       "layout": "IPY_MODEL_fea481f23aa14a899b7d18b1699d3bb8",
       "max": 553507836,
       "min": 0,
       "orientation": "horizontal",
       "style": "IPY_MODEL_6d5f6e6286844d4ab761838d0e4ae0af",
       "value": 553507836
      }
     },
     "6852096f45f34e2182373c9091c9894a": {
      "model_module": "@jupyter-widgets/controls",
      "model_module_version": "1.5.0",
      "model_name": "DescriptionStyleModel",
      "state": {
       "_model_module": "@jupyter-widgets/controls",
       "_model_module_version": "1.5.0",
       "_model_name": "DescriptionStyleModel",
       "_view_count": null,
       "_view_module": "@jupyter-widgets/base",
       "_view_module_version": "1.2.0",
       "_view_name": "StyleView",
       "description_width": ""
      }
     },
     "6d5f6e6286844d4ab761838d0e4ae0af": {
      "model_module": "@jupyter-widgets/controls",
      "model_module_version": "1.5.0",
      "model_name": "ProgressStyleModel",
      "state": {
       "_model_module": "@jupyter-widgets/controls",
       "_model_module_version": "1.5.0",
       "_model_name": "ProgressStyleModel",
       "_view_count": null,
       "_view_module": "@jupyter-widgets/base",
       "_view_module_version": "1.2.0",
       "_view_name": "StyleView",
       "bar_color": null,
       "description_width": ""
      }
     },
     "8faaac58bcb040229ec1bf6770370918": {
      "model_module": "@jupyter-widgets/controls",
      "model_module_version": "1.5.0",
      "model_name": "HTMLModel",
      "state": {
       "_dom_classes": [],
       "_model_module": "@jupyter-widgets/controls",
       "_model_module_version": "1.5.0",
       "_model_name": "HTMLModel",
       "_view_count": null,
       "_view_module": "@jupyter-widgets/controls",
       "_view_module_version": "1.5.0",
       "_view_name": "HTMLView",
       "description": "",
       "description_tooltip": null,
       "layout": "IPY_MODEL_f722ad2e6297490896817fc343db74c6",
       "placeholder": "​",
       "style": "IPY_MODEL_6852096f45f34e2182373c9091c9894a",
       "value": " 528M/528M [00:17&lt;00:00, 33.4MB/s]"
      }
     },
     "ba2edb95c7984479a6a9e30f07617121": {
      "model_module": "@jupyter-widgets/controls",
      "model_module_version": "1.5.0",
      "model_name": "HBoxModel",
      "state": {
       "_dom_classes": [],
       "_model_module": "@jupyter-widgets/controls",
       "_model_module_version": "1.5.0",
       "_model_name": "HBoxModel",
       "_view_count": null,
       "_view_module": "@jupyter-widgets/controls",
       "_view_module_version": "1.5.0",
       "_view_name": "HBoxView",
       "box_style": "",
       "children": [
        "IPY_MODEL_dfc3b0b1587e4fb3b03954b3041a4b37",
        "IPY_MODEL_3f8739524e5f4a6f9127b8b2fe4bff4d",
        "IPY_MODEL_8faaac58bcb040229ec1bf6770370918"
       ],
       "layout": "IPY_MODEL_ef8027d7940443daa03fccb42c3bfb49"
      }
     },
     "debf2bbe35884fa8b2f162c6073df39a": {
      "model_module": "@jupyter-widgets/controls",
      "model_module_version": "1.5.0",
      "model_name": "DescriptionStyleModel",
      "state": {
       "_model_module": "@jupyter-widgets/controls",
       "_model_module_version": "1.5.0",
       "_model_name": "DescriptionStyleModel",
       "_view_count": null,
       "_view_module": "@jupyter-widgets/base",
       "_view_module_version": "1.2.0",
       "_view_name": "StyleView",
       "description_width": ""
      }
     },
     "dfc3b0b1587e4fb3b03954b3041a4b37": {
      "model_module": "@jupyter-widgets/controls",
      "model_module_version": "1.5.0",
      "model_name": "HTMLModel",
      "state": {
       "_dom_classes": [],
       "_model_module": "@jupyter-widgets/controls",
       "_model_module_version": "1.5.0",
       "_model_name": "HTMLModel",
       "_view_count": null,
       "_view_module": "@jupyter-widgets/controls",
       "_view_module_version": "1.5.0",
       "_view_name": "HTMLView",
       "description": "",
       "description_tooltip": null,
       "layout": "IPY_MODEL_2f18bf90df8449b4846c1726c1eed6d7",
       "placeholder": "​",
       "style": "IPY_MODEL_debf2bbe35884fa8b2f162c6073df39a",
       "value": "100%"
      }
     },
     "ef8027d7940443daa03fccb42c3bfb49": {
      "model_module": "@jupyter-widgets/base",
      "model_module_version": "1.2.0",
      "model_name": "LayoutModel",
      "state": {
       "_model_module": "@jupyter-widgets/base",
       "_model_module_version": "1.2.0",
       "_model_name": "LayoutModel",
       "_view_count": null,
       "_view_module": "@jupyter-widgets/base",
       "_view_module_version": "1.2.0",
       "_view_name": "LayoutView",
       "align_content": null,
       "align_items": null,
       "align_self": null,
       "border": null,
       "bottom": null,
       "display": null,
       "flex": null,
       "flex_flow": null,
       "grid_area": null,
       "grid_auto_columns": null,
       "grid_auto_flow": null,
       "grid_auto_rows": null,
       "grid_column": null,
       "grid_gap": null,
       "grid_row": null,
       "grid_template_areas": null,
       "grid_template_columns": null,
       "grid_template_rows": null,
       "height": null,
       "justify_content": null,
       "justify_items": null,
       "left": null,
       "margin": null,
       "max_height": null,
       "max_width": null,
       "min_height": null,
       "min_width": null,
       "object_fit": null,
       "object_position": null,
       "order": null,
       "overflow": null,
       "overflow_x": null,
       "overflow_y": null,
       "padding": null,
       "right": null,
       "top": null,
       "visibility": null,
       "width": null
      }
     },
     "f722ad2e6297490896817fc343db74c6": {
      "model_module": "@jupyter-widgets/base",
      "model_module_version": "1.2.0",
      "model_name": "LayoutModel",
      "state": {
       "_model_module": "@jupyter-widgets/base",
       "_model_module_version": "1.2.0",
       "_model_name": "LayoutModel",
       "_view_count": null,
       "_view_module": "@jupyter-widgets/base",
       "_view_module_version": "1.2.0",
       "_view_name": "LayoutView",
       "align_content": null,
       "align_items": null,
       "align_self": null,
       "border": null,
       "bottom": null,
       "display": null,
       "flex": null,
       "flex_flow": null,
       "grid_area": null,
       "grid_auto_columns": null,
       "grid_auto_flow": null,
       "grid_auto_rows": null,
       "grid_column": null,
       "grid_gap": null,
       "grid_row": null,
       "grid_template_areas": null,
       "grid_template_columns": null,
       "grid_template_rows": null,
       "height": null,
       "justify_content": null,
       "justify_items": null,
       "left": null,
       "margin": null,
       "max_height": null,
       "max_width": null,
       "min_height": null,
       "min_width": null,
       "object_fit": null,
       "object_position": null,
       "order": null,
       "overflow": null,
       "overflow_x": null,
       "overflow_y": null,
       "padding": null,
       "right": null,
       "top": null,
       "visibility": null,
       "width": null
      }
     },
     "fea481f23aa14a899b7d18b1699d3bb8": {
      "model_module": "@jupyter-widgets/base",
      "model_module_version": "1.2.0",
      "model_name": "LayoutModel",
      "state": {
       "_model_module": "@jupyter-widgets/base",
       "_model_module_version": "1.2.0",
       "_model_name": "LayoutModel",
       "_view_count": null,
       "_view_module": "@jupyter-widgets/base",
       "_view_module_version": "1.2.0",
       "_view_name": "LayoutView",
       "align_content": null,
       "align_items": null,
       "align_self": null,
       "border": null,
       "bottom": null,
       "display": null,
       "flex": null,
       "flex_flow": null,
       "grid_area": null,
       "grid_auto_columns": null,
       "grid_auto_flow": null,
       "grid_auto_rows": null,
       "grid_column": null,
       "grid_gap": null,
       "grid_row": null,
       "grid_template_areas": null,
       "grid_template_columns": null,
       "grid_template_rows": null,
       "height": null,
       "justify_content": null,
       "justify_items": null,
       "left": null,
       "margin": null,
       "max_height": null,
       "max_width": null,
       "min_height": null,
       "min_width": null,
       "object_fit": null,
       "object_position": null,
       "order": null,
       "overflow": null,
       "overflow_x": null,
       "overflow_y": null,
       "padding": null,
       "right": null,
       "top": null,
       "visibility": null,
       "width": null
      }
     }
    },
    "version_major": 2,
    "version_minor": 0
   }
  }
 },
 "nbformat": 4,
 "nbformat_minor": 5
}
