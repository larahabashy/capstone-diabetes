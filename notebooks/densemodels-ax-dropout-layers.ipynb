{
 "cells": [
  {
   "cell_type": "markdown",
   "id": "4325ecf7-c9ab-438a-8d86-245eb1716330",
   "metadata": {},
   "source": [
    "## Experimenting with Dropout Layers"
   ]
  },
  {
   "cell_type": "markdown",
   "id": "c575ac9e-a182-4ae1-8891-54d37747991a",
   "metadata": {},
   "source": [
    "The following notebook highlights the work that was done to explore the different ways to incorporating dropout layers into our DenseNet model. In an effort to reduce the generalizable error, a dropout layer in our CNN model will drop nodes in the network with probability equal to the pre-set dropout rate. This notebook also explores with varying dropout rates. "
   ]
  },
  {
   "cell_type": "markdown",
   "id": "6fe5a317-a852-4569-8d81-e5c2cc9e7a06",
   "metadata": {},
   "source": [
    "**NOTE:** This notebook was run on Kaggle with the GPU Accelator Enabled. The data used for this notebook is available on the MDS-Capstone-GDLR OneDrive. You can find the data used in this notebook by navigating to the Data Processed Ultrasound directory and downloading the data_split_mapped sub-directory."
   ]
  },
  {
   "cell_type": "markdown",
   "id": "017c45fa-7246-42a8-b23a-b6ad29ed24ad",
   "metadata": {},
   "source": [
    "### Imports"
   ]
  },
  {
   "cell_type": "code",
   "execution_count": 1,
   "id": "written-example",
   "metadata": {
    "execution": {
     "iopub.execute_input": "2021-06-01T17:20:16.735115Z",
     "iopub.status.busy": "2021-06-01T17:20:16.733498Z",
     "iopub.status.idle": "2021-06-01T17:20:16.746811Z",
     "shell.execute_reply": "2021-06-01T17:20:16.746170Z",
     "shell.execute_reply.started": "2021-05-31T20:36:37.271638Z"
    },
    "id": "QsDyfUEC3swP",
    "outputId": "532fc36d-eb4b-4917-a957-6c08128ee22f",
    "papermill": {
     "duration": 0.046949,
     "end_time": "2021-06-01T17:20:16.746978",
     "exception": false,
     "start_time": "2021-06-01T17:20:16.700029",
     "status": "completed"
    },
    "tags": []
   },
   "outputs": [
    {
     "data": {
      "text/plain": [
       "'/kaggle/working'"
      ]
     },
     "execution_count": 1,
     "metadata": {},
     "output_type": "execute_result"
    }
   ],
   "source": [
    "pwd"
   ]
  },
  {
   "cell_type": "code",
   "execution_count": 2,
   "id": "compound-double",
   "metadata": {
    "execution": {
     "iopub.execute_input": "2021-06-01T17:20:16.806765Z",
     "iopub.status.busy": "2021-06-01T17:20:16.806233Z",
     "iopub.status.idle": "2021-06-01T17:20:24.335550Z",
     "shell.execute_reply": "2021-06-01T17:20:24.335048Z",
     "shell.execute_reply.started": "2021-05-31T20:36:37.284739Z"
    },
    "papermill": {
     "duration": 7.560478,
     "end_time": "2021-06-01T17:20:24.335672",
     "exception": false,
     "start_time": "2021-06-01T17:20:16.775194",
     "status": "completed"
    },
    "tags": []
   },
   "outputs": [
    {
     "name": "stdout",
     "output_type": "stream",
     "text": [
      "Requirement already satisfied: albumentations in /opt/conda/lib/python3.7/site-packages (0.5.2)\n",
      "Collecting albumentations\n",
      "  Downloading albumentations-1.0.0-py3-none-any.whl (98 kB)\n",
      "\u001b[K     |████████████████████████████████| 98 kB 1.1 MB/s \n",
      "\u001b[?25hRequirement already satisfied: PyYAML in /opt/conda/lib/python3.7/site-packages (from albumentations) (5.3.1)\n",
      "Requirement already satisfied: opencv-python-headless>=4.1.1 in /opt/conda/lib/python3.7/site-packages (from albumentations) (4.5.1.48)\n",
      "Requirement already satisfied: scikit-image>=0.16.1 in /opt/conda/lib/python3.7/site-packages (from albumentations) (0.18.1)\n",
      "Requirement already satisfied: numpy>=1.11.1 in /opt/conda/lib/python3.7/site-packages (from albumentations) (1.19.5)\n",
      "Requirement already satisfied: scipy in /opt/conda/lib/python3.7/site-packages (from albumentations) (1.5.4)\n",
      "Requirement already satisfied: imageio>=2.3.0 in /opt/conda/lib/python3.7/site-packages (from scikit-image>=0.16.1->albumentations) (2.9.0)\n",
      "Requirement already satisfied: matplotlib!=3.0.0,>=2.0.0 in /opt/conda/lib/python3.7/site-packages (from scikit-image>=0.16.1->albumentations) (3.4.1)\n",
      "Requirement already satisfied: pillow!=7.1.0,!=7.1.1,>=4.3.0 in /opt/conda/lib/python3.7/site-packages (from scikit-image>=0.16.1->albumentations) (7.2.0)\n",
      "Requirement already satisfied: networkx>=2.0 in /opt/conda/lib/python3.7/site-packages (from scikit-image>=0.16.1->albumentations) (2.5)\n",
      "Requirement already satisfied: PyWavelets>=1.1.1 in /opt/conda/lib/python3.7/site-packages (from scikit-image>=0.16.1->albumentations) (1.1.1)\n",
      "Requirement already satisfied: tifffile>=2019.7.26 in /opt/conda/lib/python3.7/site-packages (from scikit-image>=0.16.1->albumentations) (2021.4.8)\n",
      "Requirement already satisfied: kiwisolver>=1.0.1 in /opt/conda/lib/python3.7/site-packages (from matplotlib!=3.0.0,>=2.0.0->scikit-image>=0.16.1->albumentations) (1.3.1)\n",
      "Requirement already satisfied: python-dateutil>=2.7 in /opt/conda/lib/python3.7/site-packages (from matplotlib!=3.0.0,>=2.0.0->scikit-image>=0.16.1->albumentations) (2.8.1)\n",
      "Requirement already satisfied: cycler>=0.10 in /opt/conda/lib/python3.7/site-packages (from matplotlib!=3.0.0,>=2.0.0->scikit-image>=0.16.1->albumentations) (0.10.0)\n",
      "Requirement already satisfied: pyparsing>=2.2.1 in /opt/conda/lib/python3.7/site-packages (from matplotlib!=3.0.0,>=2.0.0->scikit-image>=0.16.1->albumentations) (2.4.7)\n",
      "Requirement already satisfied: six in /opt/conda/lib/python3.7/site-packages (from cycler>=0.10->matplotlib!=3.0.0,>=2.0.0->scikit-image>=0.16.1->albumentations) (1.15.0)\n",
      "Requirement already satisfied: decorator>=4.3.0 in /opt/conda/lib/python3.7/site-packages (from networkx>=2.0->scikit-image>=0.16.1->albumentations) (4.4.2)\n",
      "Installing collected packages: albumentations\n",
      "  Attempting uninstall: albumentations\n",
      "    Found existing installation: albumentations 0.5.2\n",
      "    Uninstalling albumentations-0.5.2:\n",
      "      Successfully uninstalled albumentations-0.5.2\n",
      "Successfully installed albumentations-1.0.0\n"
     ]
    }
   ],
   "source": [
    "!pip install -U albumentations"
   ]
  },
  {
   "cell_type": "code",
   "execution_count": 3,
   "id": "julian-persian",
   "metadata": {
    "execution": {
     "iopub.execute_input": "2021-06-01T17:20:24.397635Z",
     "iopub.status.busy": "2021-06-01T17:20:24.396887Z",
     "iopub.status.idle": "2021-06-01T17:20:27.392727Z",
     "shell.execute_reply": "2021-06-01T17:20:27.391723Z",
     "shell.execute_reply.started": "2021-05-31T20:36:44.209719Z"
    },
    "id": "CDL2OkSb2JQk",
    "outputId": "d1614df7-bf45-4a98-8983-eada998f286e",
    "papermill": {
     "duration": 3.02854,
     "end_time": "2021-06-01T17:20:27.392890",
     "exception": false,
     "start_time": "2021-06-01T17:20:24.364350",
     "status": "completed"
    },
    "tags": []
   },
   "outputs": [],
   "source": [
    "import torch\n",
    "import numpy as np\n",
    "import pandas as pd\n",
    "import os\n",
    "\n",
    "\n",
    "from torchvision import models, datasets, utils#,transforms\n",
    "from collections import OrderedDict\n",
    "\n",
    "from torch import nn, optim\n",
    "import albumentations as A\n",
    "from albumentations.pytorch import ToTensorV2\n",
    "from PIL import Image"
   ]
  },
  {
   "cell_type": "code",
   "execution_count": 4,
   "id": "extreme-virus",
   "metadata": {
    "execution": {
     "iopub.execute_input": "2021-06-01T17:20:27.458711Z",
     "iopub.status.busy": "2021-06-01T17:20:27.457842Z",
     "iopub.status.idle": "2021-06-01T17:20:27.514431Z",
     "shell.execute_reply": "2021-06-01T17:20:27.513750Z",
     "shell.execute_reply.started": "2021-05-31T20:36:44.21749Z"
    },
    "papermill": {
     "duration": 0.093082,
     "end_time": "2021-06-01T17:20:27.514572",
     "exception": false,
     "start_time": "2021-06-01T17:20:27.421490",
     "status": "completed"
    },
    "tags": []
   },
   "outputs": [],
   "source": [
    "torch.manual_seed(2020)\n",
    "dtype = torch.float32\n",
    "device = torch.device(\"cuda\" if torch.cuda.is_available() else \"cpu\")"
   ]
  },
  {
   "cell_type": "markdown",
   "id": "linear-dairy",
   "metadata": {
    "papermill": {
     "duration": 0.0332,
     "end_time": "2021-06-01T17:20:27.591213",
     "exception": false,
     "start_time": "2021-06-01T17:20:27.558013",
     "status": "completed"
    },
    "tags": []
   },
   "source": [
    "## Data"
   ]
  },
  {
   "cell_type": "code",
   "execution_count": 5,
   "id": "opening-consultation",
   "metadata": {
    "execution": {
     "iopub.execute_input": "2021-06-01T17:20:27.664718Z",
     "iopub.status.busy": "2021-06-01T17:20:27.663782Z",
     "iopub.status.idle": "2021-06-01T17:20:27.666449Z",
     "shell.execute_reply": "2021-06-01T17:20:27.665994Z",
     "shell.execute_reply.started": "2021-05-31T20:36:44.228777Z"
    },
    "id": "j6cV3aIk2JQl",
    "papermill": {
     "duration": 0.042175,
     "end_time": "2021-06-01T17:20:27.666570",
     "exception": false,
     "start_time": "2021-06-01T17:20:27.624395",
     "status": "completed"
    },
    "tags": []
   },
   "outputs": [],
   "source": [
    "IMAGE_SIZE = 300\n",
    "BATCH_SIZE = 8\n",
    "TRAIN_DIR = \"../input/lipodata3/data_split_unmapped_v2/train\"\n",
    "VALID_DIR = \"../input/lipodata3/data_split_unmapped_v2/val\"\n",
    "\n",
    "train_transforms = A.Compose([\n",
    "        A.RandomBrightnessContrast(brightness_limit=(-0.1, 0.1), contrast_limit=(0, 1.0)),\n",
    "        A.VerticalFlip(),\n",
    "        A.HorizontalFlip(),\n",
    "        A.Resize(IMAGE_SIZE, IMAGE_SIZE),\n",
    "        ToTensorV2(),\n",
    "        \n",
    "    ])\n",
    "\n",
    "valid_transforms = A.Compose([\n",
    "        A.Resize(height = 300, width = 300),\n",
    "        ToTensorV2(),\n",
    "        \n",
    "    ])"
   ]
  },
  {
   "cell_type": "code",
   "execution_count": 6,
   "id": "fabulous-shade",
   "metadata": {
    "execution": {
     "iopub.execute_input": "2021-06-01T17:20:27.740090Z",
     "iopub.status.busy": "2021-06-01T17:20:27.739254Z",
     "iopub.status.idle": "2021-06-01T17:20:27.742082Z",
     "shell.execute_reply": "2021-06-01T17:20:27.741656Z",
     "shell.execute_reply.started": "2021-05-31T20:36:44.248514Z"
    },
    "papermill": {
     "duration": 0.043694,
     "end_time": "2021-06-01T17:20:27.742189",
     "exception": false,
     "start_time": "2021-06-01T17:20:27.698495",
     "status": "completed"
    },
    "tags": []
   },
   "outputs": [],
   "source": [
    "class LipoDataset(torch.utils.data.Dataset):\n",
    "    def __init__(self, root_dir, transform=None):\n",
    "        self.transform = transform\n",
    "        self.root_dir = root_dir\n",
    "        \n",
    "        # Create a list of filepaths of images and the respective label\n",
    "        self.samples = []\n",
    "\n",
    "        for i in os.listdir(root_dir):\n",
    "            if i in [\"positive\", 'negative']:\n",
    "                folder = os.path.join(root_dir, i)\n",
    "                target = folder.split(\"/\")[-1]\n",
    "                for label in os.listdir(folder):\n",
    "                    filepath = os.path.join(folder, label)\n",
    "                    self.samples.append((target, filepath))\n",
    "\n",
    "\n",
    "    def __len__(self):\n",
    "        # Get the length of the samples \n",
    "        return len(self.samples)\n",
    "\n",
    "    def __getitem__(self, index):\n",
    "        # Implement logic to get an image and its label using the received index.\n",
    "        #\n",
    "        # `image` should be a NumPy array with the shape [height, width, num_channels].\n",
    "        # If an image contains three color channels, it should use an RGB color scheme.\n",
    "        #\n",
    "        # `label` should be an integer in the range [0, model.num_classes - 1] where `model.num_classes`\n",
    "        # is a value set in the `search.yaml` file.\n",
    "        \n",
    "        # get the filepath of the image based on the index and convert it to \n",
    "        # color scale and then into a numpy array\n",
    "        image = np.array(Image.open(self.samples[index][1]).convert(\"RGB\"))\n",
    "\n",
    "        # maps a label to an integer value\n",
    "        label_to_int = {\"positive\": 1, \"negative\": 0}\n",
    "        label = label_to_int[self.samples[index][0]]\n",
    "\n",
    "        if self.transform is not None:\n",
    "            transformed = self.transform(image=image)\n",
    "            image = transformed[\"image\"]\n",
    "            image = image/255\n",
    "\n",
    "        return image, label"
   ]
  },
  {
   "cell_type": "code",
   "execution_count": 7,
   "id": "educational-waste",
   "metadata": {
    "execution": {
     "iopub.execute_input": "2021-06-01T17:20:27.803340Z",
     "iopub.status.busy": "2021-06-01T17:20:27.802822Z",
     "iopub.status.idle": "2021-06-01T17:20:27.862311Z",
     "shell.execute_reply": "2021-06-01T17:20:27.861769Z",
     "shell.execute_reply.started": "2021-05-31T20:36:44.262562Z"
    },
    "papermill": {
     "duration": 0.091236,
     "end_time": "2021-06-01T17:20:27.862428",
     "exception": false,
     "start_time": "2021-06-01T17:20:27.771192",
     "status": "completed"
    },
    "tags": []
   },
   "outputs": [
    {
     "name": "stdout",
     "output_type": "stream",
     "text": [
      "246\n",
      "(385, 429, 3)\n"
     ]
    }
   ],
   "source": [
    "# test if the above class works and outputs the appropriate info\n",
    "if __name__ == '__main__':\n",
    "    dataset = LipoDataset(TRAIN_DIR)\n",
    "    print(len(dataset))\n",
    "    print(dataset[0][0].shape)"
   ]
  },
  {
   "cell_type": "code",
   "execution_count": 8,
   "id": "leading-europe",
   "metadata": {
    "execution": {
     "iopub.execute_input": "2021-06-01T17:20:27.927538Z",
     "iopub.status.busy": "2021-06-01T17:20:27.926886Z",
     "iopub.status.idle": "2021-06-01T17:20:28.106611Z",
     "shell.execute_reply": "2021-06-01T17:20:28.107752Z",
     "shell.execute_reply.started": "2021-05-31T20:36:44.283574Z"
    },
    "papermill": {
     "duration": 0.217287,
     "end_time": "2021-06-01T17:20:28.108005",
     "exception": false,
     "start_time": "2021-06-01T17:20:27.890718",
     "status": "completed"
    },
    "tags": []
   },
   "outputs": [
    {
     "data": {
      "text/plain": [
       "torch.Size([8, 3, 300, 300])"
      ]
     },
     "execution_count": 8,
     "metadata": {},
     "output_type": "execute_result"
    }
   ],
   "source": [
    "# create a dataset and tranform the images \n",
    "dataset = LipoDataset(TRAIN_DIR, transform=train_transforms)\n",
    "v_dataset = LipoDataset(VALID_DIR, transform=valid_transforms)\n",
    "\n",
    "# create a dataloader \n",
    "train_loader = torch.utils.data.DataLoader(dataset, batch_size=8, shuffle=True)\n",
    "valid_loader = torch.utils.data.DataLoader(v_dataset, batch_size=8)\n",
    "\n",
    "img, label = next(iter(train_loader))\n",
    "img.shape"
   ]
  },
  {
   "cell_type": "code",
   "execution_count": 9,
   "id": "limited-freeze",
   "metadata": {
    "execution": {
     "iopub.execute_input": "2021-06-01T17:20:28.230690Z",
     "iopub.status.busy": "2021-06-01T17:20:28.229755Z",
     "iopub.status.idle": "2021-06-01T17:20:28.633545Z",
     "shell.execute_reply": "2021-06-01T17:20:28.634151Z",
     "shell.execute_reply.started": "2021-05-31T20:36:44.377952Z"
    },
    "papermill": {
     "duration": 0.475486,
     "end_time": "2021-06-01T17:20:28.634347",
     "exception": false,
     "start_time": "2021-06-01T17:20:28.158861",
     "status": "completed"
    },
    "tags": []
   },
   "outputs": [
    {
     "data": {
      "image/png": "[encoded data removed]",
      "text/plain": [
       "<Figure size 1440x576 with 1 Axes>"
      ]
     },
     "metadata": {
      "needs_background": "light"
     },
     "output_type": "display_data"
    }
   ],
   "source": [
    "import matplotlib.pyplot as plt\n",
    "# plot the samples\n",
    "plt.figure(figsize=(20, 8)); plt.axis(\"off\"); plt.title(\"Sample Training Images\")\n",
    "plt.imshow(np.transpose(utils.make_grid(img, padding=1),(1, 2, 0)));"
   ]
  },
  {
   "cell_type": "markdown",
   "id": "8786a7a0-c1ca-46e1-a2fd-3eba4387f932",
   "metadata": {},
   "source": [
    "## Training Functions"
   ]
  },
  {
   "cell_type": "code",
   "execution_count": 10,
   "id": "administrative-attack",
   "metadata": {
    "execution": {
     "iopub.execute_input": "2021-06-01T17:20:28.756641Z",
     "iopub.status.busy": "2021-06-01T17:20:28.755781Z",
     "iopub.status.idle": "2021-06-01T17:20:28.758821Z",
     "shell.execute_reply": "2021-06-01T17:20:28.759775Z",
     "shell.execute_reply.started": "2021-05-31T20:36:44.670723Z"
    },
    "id": "LtA_MdIq2JQl",
    "outputId": "79821d56-1587-43e4-8c58-11807ebac132",
    "papermill": {
     "duration": 0.06845,
     "end_time": "2021-06-01T17:20:28.759972",
     "exception": false,
     "start_time": "2021-06-01T17:20:28.691522",
     "status": "completed"
    },
    "tags": []
   },
   "outputs": [],
   "source": [
    "def weights_init(m, verbose = False):\n",
    "    \"\"\"Initialize weights of each layer to make the results more reproducible\"\"\"\n",
    "    if isinstance(m, nn.Conv2d):\n",
    "        if verbose:\n",
    "            print(\"Initializing weights of a Conv2d layer!\")\n",
    "        nn.init.normal_(m.weight, mean=0, std=0.1)\n",
    "        if m.bias is not None:\n",
    "            nn.init.zeros_(m.bias)\n",
    "    elif isinstance(m, nn.BatchNorm2d): \n",
    "        if verbose:        \n",
    "            print(\"Initializing weights of a batchnorm layer!\")\n",
    "        nn.init.ones_(m.weight)\n",
    "        nn.init.zeros_(m.bias)\n",
    "    elif isinstance(m, nn.Linear):\n",
    "        if verbose:\n",
    "            print(\"Initializing weights of a Linear layer!\")\n",
    "        nn.init.xavier_uniform_(m.weight)\n",
    "        nn.init.zeros_(m.bias)"
   ]
  },
  {
   "cell_type": "code",
   "execution_count": 11,
   "id": "medium-request",
   "metadata": {
    "execution": {
     "iopub.execute_input": "2021-06-01T17:20:28.882557Z",
     "iopub.status.busy": "2021-06-01T17:20:28.881803Z",
     "iopub.status.idle": "2021-06-01T17:20:28.885963Z",
     "shell.execute_reply": "2021-06-01T17:20:28.886512Z",
     "shell.execute_reply.started": "2021-05-31T20:36:44.681913Z"
    },
    "papermill": {
     "duration": 0.069896,
     "end_time": "2021-06-01T17:20:28.886687",
     "exception": false,
     "start_time": "2021-06-01T17:20:28.816791",
     "status": "completed"
    },
    "tags": []
   },
   "outputs": [],
   "source": [
    "def train(model, train_loader, hyperparameters, epochs=20):\n",
    "    \"\"\"Training wrapper for PyTorch network.\"\"\"\n",
    "\n",
    "    criterion = nn.BCEWithLogitsLoss()\n",
    "    optimizer = optim.Adam(model.parameters(),\n",
    "                           lr=hyperparameters.get(\"lr\", 0.001),\n",
    "                           betas=(hyperparameters.get(\"beta1\", 0.9), 0.999))\n",
    "    for epoch in range(epochs):\n",
    "        for X, y in train_loader:\n",
    "            if device.type == 'cuda':\n",
    "                X, y = X.to(device, torch.float32), y.to(device, torch.float32)\n",
    "            optimizer.zero_grad()\n",
    "            y_hat = model(X).flatten()\n",
    "            loss = criterion(y_hat, y.type(torch.float32))\n",
    "            loss.backward()\n",
    "            optimizer.step()\n",
    "    \n",
    "    return model"
   ]
  },
  {
   "cell_type": "code",
   "execution_count": 12,
   "id": "naval-child",
   "metadata": {
    "execution": {
     "iopub.execute_input": "2021-06-01T17:20:29.008536Z",
     "iopub.status.busy": "2021-06-01T17:20:29.007801Z",
     "iopub.status.idle": "2021-06-01T17:20:29.011943Z",
     "shell.execute_reply": "2021-06-01T17:20:29.012498Z",
     "shell.execute_reply.started": "2021-05-31T20:36:44.694371Z"
    },
    "papermill": {
     "duration": 0.069182,
     "end_time": "2021-06-01T17:20:29.012667",
     "exception": false,
     "start_time": "2021-06-01T17:20:28.943485",
     "status": "completed"
    },
    "tags": []
   },
   "outputs": [],
   "source": [
    "def evaluate(model, valid_loader):\n",
    "    \"\"\"Validation wrapper for PyTorch network.\"\"\"\n",
    "    \n",
    "    model.eval()\n",
    "    accuracy = 0\n",
    "    with torch.no_grad():  # this stops pytorch doing computational graph stuff under-the-hood and saves memory and time\n",
    "        for X, y in valid_loader:\n",
    "            if device.type == 'cuda':\n",
    "                X, y = X.to(device, torch.float32), y.to(device, torch.float32)\n",
    "            y_hat = model(X).flatten()\n",
    "            y_hat_labels = torch.sigmoid(y_hat) > 0.5\n",
    "            accuracy += (y_hat_labels == y).type(torch.float32).sum().item()\n",
    "    accuracy /= len(valid_loader.dataset)  # avg accuracy\n",
    "    print(f\"Validation accuracy: {accuracy:.4f}\")\n",
    "    \n",
    "    return accuracy "
   ]
  },
  {
   "cell_type": "markdown",
   "id": "cubic-reproduction",
   "metadata": {
    "papermill": {
     "duration": 0.056269,
     "end_time": "2021-06-01T17:20:29.125864",
     "exception": false,
     "start_time": "2021-06-01T17:20:29.069595",
     "status": "completed"
    },
    "tags": []
   },
   "source": [
    "## Optimized Hyperparamters"
   ]
  },
  {
   "cell_type": "code",
   "execution_count": 13,
   "id": "primary-lancaster",
   "metadata": {
    "execution": {
     "iopub.execute_input": "2021-06-01T17:20:29.211768Z",
     "iopub.status.busy": "2021-06-01T17:20:29.210589Z",
     "iopub.status.idle": "2021-06-01T17:20:29.212817Z",
     "shell.execute_reply": "2021-06-01T17:20:29.213280Z",
     "shell.execute_reply.started": "2021-05-31T20:36:44.706347Z"
    },
    "papermill": {
     "duration": 0.042899,
     "end_time": "2021-06-01T17:20:29.213403",
     "exception": false,
     "start_time": "2021-06-01T17:20:29.170504",
     "status": "completed"
    },
    "tags": []
   },
   "outputs": [],
   "source": [
    "best_parameters = {'lr': 7.456370422609558e-05, 'beta1': 0.9815918038692326}"
   ]
  },
  {
   "cell_type": "markdown",
   "id": "sexual-mechanism",
   "metadata": {
    "papermill": {
     "duration": 0.034398,
     "end_time": "2021-06-01T17:20:29.282036",
     "exception": false,
     "start_time": "2021-06-01T17:20:29.247638",
     "status": "completed"
    },
    "tags": []
   },
   "source": [
    "## Training Function"
   ]
  },
  {
   "cell_type": "code",
   "execution_count": 14,
   "id": "phantom-token",
   "metadata": {
    "execution": {
     "iopub.execute_input": "2021-06-01T17:20:29.360626Z",
     "iopub.status.busy": "2021-06-01T17:20:29.359411Z",
     "iopub.status.idle": "2021-06-01T17:20:29.362221Z",
     "shell.execute_reply": "2021-06-01T17:20:29.361725Z",
     "shell.execute_reply.started": "2021-05-31T20:36:44.715693Z"
    },
    "papermill": {
     "duration": 0.045857,
     "end_time": "2021-06-01T17:20:29.362332",
     "exception": false,
     "start_time": "2021-06-01T17:20:29.316475",
     "status": "completed"
    },
    "tags": []
   },
   "outputs": [],
   "source": [
    "def make_model(dropout=False, drop_init=False, rate=0.2):\n",
    "    \n",
    "    if dropout == True:\n",
    "        if drop_init == True:\n",
    "            densenet = models.densenet121(pretrained=True, drop_rate=rate)\n",
    "            new_layers = torch.nn.Sequential(OrderedDict([\n",
    "           ('new1', torch.nn.Linear(1024, 500)),\n",
    "           ('dropout1', torch.nn.Dropout(rate)),\n",
    "           ('relu', torch.nn.ReLU()),\n",
    "           ('dropout2', torch.nn.Dropout(rate)),\n",
    "           ('new2', torch.nn.Linear(500, 1))]))\n",
    "        else: \n",
    "                densenet = models.densenet121(pretrained=True, drop_rate=rate)\n",
    "                new_layers = torch.nn.Sequential(OrderedDict([\n",
    "                    ('new1', torch.nn.Linear(1024, 500)),\n",
    "                    ('relu', torch.nn.ReLU()),\n",
    "                    ('new2', torch.nn.Linear(500, 1))\n",
    "                ]))\n",
    "    else: \n",
    "                densenet = models.densenet121(pretrained=True)\n",
    "                new_layers = torch.nn.Sequential(OrderedDict([\n",
    "                    ('new1', torch.nn.Linear(1024, 500)),\n",
    "                    ('relu', torch.nn.ReLU()),\n",
    "                    ('new2', torch.nn.Linear(500, 1))\n",
    "                ]))\n",
    "        \n",
    "        \n",
    "    densenet.classifier = new_layers\n",
    "    torch.manual_seed(2020)\n",
    "    densenet.apply(weights_init);\n",
    "    \n",
    "    return densenet"
   ]
  },
  {
   "cell_type": "markdown",
   "id": "indoor-incentive",
   "metadata": {
    "papermill": {
     "duration": 0.03627,
     "end_time": "2021-06-01T17:20:29.433903",
     "exception": false,
     "start_time": "2021-06-01T17:20:29.397633",
     "status": "completed"
    },
    "tags": []
   },
   "source": [
    "## Testing Functions"
   ]
  },
  {
   "cell_type": "code",
   "execution_count": 15,
   "id": "developing-yahoo",
   "metadata": {
    "execution": {
     "iopub.execute_input": "2021-06-01T17:20:29.514169Z",
     "iopub.status.busy": "2021-06-01T17:20:29.513553Z",
     "iopub.status.idle": "2021-06-01T17:20:29.517071Z",
     "shell.execute_reply": "2021-06-01T17:20:29.516658Z",
     "shell.execute_reply.started": "2021-05-31T20:36:44.729647Z"
    },
    "papermill": {
     "duration": 0.04802,
     "end_time": "2021-06-01T17:20:29.517175",
     "exception": false,
     "start_time": "2021-06-01T17:20:29.469155",
     "status": "completed"
    },
    "tags": []
   },
   "outputs": [],
   "source": [
    "def pytorch_confusion_matrix(cnn, data_loader):\n",
    "    \"\"\"return confusion matrix on a holdout sample for a pytorch cnn model(binary classification)\"\"\"\n",
    "    confusion_matrix = torch.zeros(2, 2)\n",
    "    device = torch.device('cuda' if torch.cuda.is_available() else 'cpu')\n",
    "    cnn.eval()\n",
    "    with torch.no_grad():\n",
    "        for i, (inputs, classes) in enumerate(data_loader):\n",
    "            inputs = inputs.to(device)\n",
    "            classes = classes.to(device)\n",
    "            outputs = cnn(inputs).flatten()\n",
    "            preds = torch.sigmoid(outputs) > 0.5\n",
    "            for t, p in zip(classes.view(-1), preds.view(-1)):\n",
    "                    confusion_matrix[t.long(), p.long()] += 1\n",
    "\n",
    "    cm = pd.DataFrame(confusion_matrix.numpy(), columns = ['predict negative','predict positive'], index = ['actual negative', 'actual positive'])\n",
    "    return cm\n",
    "\n",
    "def recall_calculation(confusion_matrix):\n",
    "    \"\"\"return recall of holdout sample from a confusion matrix\"\"\"\n",
    "    test_recall = confusion_matrix.iloc[1,1]/(confusion_matrix.iloc[1,1]+confusion_matrix.iloc[1,0])\n",
    "    print(f\"Test recall is {test_recall*100:.2f}%.\")\n",
    "    return test_recall\n",
    "\n",
    "def get_test_accuracy(cnn, data_loader):\n",
    "    \"\"\"return accuracy on a holdout sample for a pytorch cnn model\"\"\"\n",
    "    test_batch_acc = 0\n",
    "    cnn.eval()\n",
    "    with torch.no_grad():\n",
    "        for X, y in data_loader:\n",
    "            device = torch.device('cuda' if torch.cuda.is_available() else 'cpu')\n",
    "            if device.type == 'cuda':\n",
    "                X, y = X.to(device), y.to(device)\n",
    "            y_hat = cnn(X).flatten()\n",
    "            y_hat_labels = torch.sigmoid(y_hat) > 0.5\n",
    "            test_batch_acc += (y_hat_labels == y).type(torch.float32).sum().item()\n",
    "    test_accuracy = test_batch_acc / len(data_loader.dataset)\n",
    "    print(f\"Test accuracy is {test_accuracy*100:.2f}%.\")\n",
    "    return test_accuracy"
   ]
  },
  {
   "cell_type": "markdown",
   "id": "senior-dutch",
   "metadata": {
    "papermill": {
     "duration": 0.034685,
     "end_time": "2021-06-01T17:20:29.588840",
     "exception": false,
     "start_time": "2021-06-01T17:20:29.554155",
     "status": "completed"
    },
    "tags": []
   },
   "source": [
    "## Training & Testing"
   ]
  },
  {
   "cell_type": "code",
   "execution_count": 16,
   "id": "expected-presence",
   "metadata": {
    "execution": {
     "iopub.execute_input": "2021-06-01T17:20:29.661463Z",
     "iopub.status.busy": "2021-06-01T17:20:29.660957Z",
     "iopub.status.idle": "2021-06-01T17:20:29.673593Z",
     "shell.execute_reply": "2021-06-01T17:20:29.673207Z",
     "shell.execute_reply.started": "2021-05-31T20:36:44.745513Z"
    },
    "papermill": {
     "duration": 0.050222,
     "end_time": "2021-06-01T17:20:29.673693",
     "exception": false,
     "start_time": "2021-06-01T17:20:29.623471",
     "status": "completed"
    },
    "tags": []
   },
   "outputs": [],
   "source": [
    "TEST_DIR = \"../input/lipodata3/data_split_unmapped_v2/test\"\n",
    "test_dataset = LipoDataset(TEST_DIR, transform=valid_transforms)\n",
    "test_loader = torch.utils.data.DataLoader(test_dataset, batch_size=BATCH_SIZE)"
   ]
  },
  {
   "cell_type": "code",
   "execution_count": 17,
   "id": "composite-turkey",
   "metadata": {
    "execution": {
     "iopub.execute_input": "2021-06-01T17:20:29.746437Z",
     "iopub.status.busy": "2021-06-01T17:20:29.745901Z",
     "iopub.status.idle": "2021-06-01T17:20:29.749731Z",
     "shell.execute_reply": "2021-06-01T17:20:29.749285Z",
     "shell.execute_reply.started": "2021-05-31T20:41:40.990522Z"
    },
    "papermill": {
     "duration": 0.041659,
     "end_time": "2021-06-01T17:20:29.749827",
     "exception": false,
     "start_time": "2021-06-01T17:20:29.708168",
     "status": "completed"
    },
    "tags": []
   },
   "outputs": [],
   "source": [
    "criterion = nn.BCEWithLogitsLoss()\n",
    "betas = (best_parameters[\"beta1\"], 0.999)\n",
    "device = torch.device('cuda' if torch.cuda.is_available() else 'cpu')"
   ]
  },
  {
   "cell_type": "code",
   "execution_count": 18,
   "id": "indian-mouse",
   "metadata": {
    "execution": {
     "iopub.execute_input": "2021-06-01T17:20:29.827414Z",
     "iopub.status.busy": "2021-06-01T17:20:29.826854Z",
     "iopub.status.idle": "2021-06-01T17:20:37.909153Z",
     "shell.execute_reply": "2021-06-01T17:20:37.908309Z",
     "shell.execute_reply.started": "2021-05-31T20:41:42.255843Z"
    },
    "papermill": {
     "duration": 8.125083,
     "end_time": "2021-06-01T17:20:37.909289",
     "exception": false,
     "start_time": "2021-06-01T17:20:29.784206",
     "status": "completed"
    },
    "tags": []
   },
   "outputs": [
    {
     "name": "stderr",
     "output_type": "stream",
     "text": [
      "Downloading: \"https://download.pytorch.org/models/densenet121-a639ec97.pth\" to /root/.cache/torch/hub/checkpoints/densenet121-a639ec97.pth\n"
     ]
    },
    {
     "data": {
      "application/vnd.jupyter.widget-view+json": {
       "model_id": "6ccbffa29359439f81f35618ac140ee9",
       "version_major": 2,
       "version_minor": 0
      },
      "text/plain": [
       "  0%|          | 0.00/30.8M [00:00<?, ?B/s]"
      ]
     },
     "metadata": {},
     "output_type": "display_data"
    },
    {
     "data": {
      "text/plain": [
       "DenseNet(\n",
       "  (features): Sequential(\n",
       "    (conv0): Conv2d(3, 64, kernel_size=(7, 7), stride=(2, 2), padding=(3, 3), bias=False)\n",
       "    (norm0): BatchNorm2d(64, eps=1e-05, momentum=0.1, affine=True, track_running_stats=True)\n",
       "    (relu0): ReLU(inplace=True)\n",
       "    (pool0): MaxPool2d(kernel_size=3, stride=2, padding=1, dilation=1, ceil_mode=False)\n",
       "    (denseblock1): _DenseBlock(\n",
       "      (denselayer1): _DenseLayer(\n",
       "        (norm1): BatchNorm2d(64, eps=1e-05, momentum=0.1, affine=True, track_running_stats=True)\n",
       "        (relu1): ReLU(inplace=True)\n",
       "        (conv1): Conv2d(64, 128, kernel_size=(1, 1), stride=(1, 1), bias=False)\n",
       "        (norm2): BatchNorm2d(128, eps=1e-05, momentum=0.1, affine=True, track_running_stats=True)\n",
       "        (relu2): ReLU(inplace=True)\n",
       "        (conv2): Conv2d(128, 32, kernel_size=(3, 3), stride=(1, 1), padding=(1, 1), bias=False)\n",
       "      )\n",
       "      (denselayer2): _DenseLayer(\n",
       "        (norm1): BatchNorm2d(96, eps=1e-05, momentum=0.1, affine=True, track_running_stats=True)\n",
       "        (relu1): ReLU(inplace=True)\n",
       "        (conv1): Conv2d(96, 128, kernel_size=(1, 1), stride=(1, 1), bias=False)\n",
       "        (norm2): BatchNorm2d(128, eps=1e-05, momentum=0.1, affine=True, track_running_stats=True)\n",
       "        (relu2): ReLU(inplace=True)\n",
       "        (conv2): Conv2d(128, 32, kernel_size=(3, 3), stride=(1, 1), padding=(1, 1), bias=False)\n",
       "      )\n",
       "      (denselayer3): _DenseLayer(\n",
       "        (norm1): BatchNorm2d(128, eps=1e-05, momentum=0.1, affine=True, track_running_stats=True)\n",
       "        (relu1): ReLU(inplace=True)\n",
       "        (conv1): Conv2d(128, 128, kernel_size=(1, 1), stride=(1, 1), bias=False)\n",
       "        (norm2): BatchNorm2d(128, eps=1e-05, momentum=0.1, affine=True, track_running_stats=True)\n",
       "        (relu2): ReLU(inplace=True)\n",
       "        (conv2): Conv2d(128, 32, kernel_size=(3, 3), stride=(1, 1), padding=(1, 1), bias=False)\n",
       "      )\n",
       "      (denselayer4): _DenseLayer(\n",
       "        (norm1): BatchNorm2d(160, eps=1e-05, momentum=0.1, affine=True, track_running_stats=True)\n",
       "        (relu1): ReLU(inplace=True)\n",
       "        (conv1): Conv2d(160, 128, kernel_size=(1, 1), stride=(1, 1), bias=False)\n",
       "        (norm2): BatchNorm2d(128, eps=1e-05, momentum=0.1, affine=True, track_running_stats=True)\n",
       "        (relu2): ReLU(inplace=True)\n",
       "        (conv2): Conv2d(128, 32, kernel_size=(3, 3), stride=(1, 1), padding=(1, 1), bias=False)\n",
       "      )\n",
       "      (denselayer5): _DenseLayer(\n",
       "        (norm1): BatchNorm2d(192, eps=1e-05, momentum=0.1, affine=True, track_running_stats=True)\n",
       "        (relu1): ReLU(inplace=True)\n",
       "        (conv1): Conv2d(192, 128, kernel_size=(1, 1), stride=(1, 1), bias=False)\n",
       "        (norm2): BatchNorm2d(128, eps=1e-05, momentum=0.1, affine=True, track_running_stats=True)\n",
       "        (relu2): ReLU(inplace=True)\n",
       "        (conv2): Conv2d(128, 32, kernel_size=(3, 3), stride=(1, 1), padding=(1, 1), bias=False)\n",
       "      )\n",
       "      (denselayer6): _DenseLayer(\n",
       "        (norm1): BatchNorm2d(224, eps=1e-05, momentum=0.1, affine=True, track_running_stats=True)\n",
       "        (relu1): ReLU(inplace=True)\n",
       "        (conv1): Conv2d(224, 128, kernel_size=(1, 1), stride=(1, 1), bias=False)\n",
       "        (norm2): BatchNorm2d(128, eps=1e-05, momentum=0.1, affine=True, track_running_stats=True)\n",
       "        (relu2): ReLU(inplace=True)\n",
       "        (conv2): Conv2d(128, 32, kernel_size=(3, 3), stride=(1, 1), padding=(1, 1), bias=False)\n",
       "      )\n",
       "    )\n",
       "    (transition1): _Transition(\n",
       "      (norm): BatchNorm2d(256, eps=1e-05, momentum=0.1, affine=True, track_running_stats=True)\n",
       "      (relu): ReLU(inplace=True)\n",
       "      (conv): Conv2d(256, 128, kernel_size=(1, 1), stride=(1, 1), bias=False)\n",
       "      (pool): AvgPool2d(kernel_size=2, stride=2, padding=0)\n",
       "    )\n",
       "    (denseblock2): _DenseBlock(\n",
       "      (denselayer1): _DenseLayer(\n",
       "        (norm1): BatchNorm2d(128, eps=1e-05, momentum=0.1, affine=True, track_running_stats=True)\n",
       "        (relu1): ReLU(inplace=True)\n",
       "        (conv1): Conv2d(128, 128, kernel_size=(1, 1), stride=(1, 1), bias=False)\n",
       "        (norm2): BatchNorm2d(128, eps=1e-05, momentum=0.1, affine=True, track_running_stats=True)\n",
       "        (relu2): ReLU(inplace=True)\n",
       "        (conv2): Conv2d(128, 32, kernel_size=(3, 3), stride=(1, 1), padding=(1, 1), bias=False)\n",
       "      )\n",
       "      (denselayer2): _DenseLayer(\n",
       "        (norm1): BatchNorm2d(160, eps=1e-05, momentum=0.1, affine=True, track_running_stats=True)\n",
       "        (relu1): ReLU(inplace=True)\n",
       "        (conv1): Conv2d(160, 128, kernel_size=(1, 1), stride=(1, 1), bias=False)\n",
       "        (norm2): BatchNorm2d(128, eps=1e-05, momentum=0.1, affine=True, track_running_stats=True)\n",
       "        (relu2): ReLU(inplace=True)\n",
       "        (conv2): Conv2d(128, 32, kernel_size=(3, 3), stride=(1, 1), padding=(1, 1), bias=False)\n",
       "      )\n",
       "      (denselayer3): _DenseLayer(\n",
       "        (norm1): BatchNorm2d(192, eps=1e-05, momentum=0.1, affine=True, track_running_stats=True)\n",
       "        (relu1): ReLU(inplace=True)\n",
       "        (conv1): Conv2d(192, 128, kernel_size=(1, 1), stride=(1, 1), bias=False)\n",
       "        (norm2): BatchNorm2d(128, eps=1e-05, momentum=0.1, affine=True, track_running_stats=True)\n",
       "        (relu2): ReLU(inplace=True)\n",
       "        (conv2): Conv2d(128, 32, kernel_size=(3, 3), stride=(1, 1), padding=(1, 1), bias=False)\n",
       "      )\n",
       "      (denselayer4): _DenseLayer(\n",
       "        (norm1): BatchNorm2d(224, eps=1e-05, momentum=0.1, affine=True, track_running_stats=True)\n",
       "        (relu1): ReLU(inplace=True)\n",
       "        (conv1): Conv2d(224, 128, kernel_size=(1, 1), stride=(1, 1), bias=False)\n",
       "        (norm2): BatchNorm2d(128, eps=1e-05, momentum=0.1, affine=True, track_running_stats=True)\n",
       "        (relu2): ReLU(inplace=True)\n",
       "        (conv2): Conv2d(128, 32, kernel_size=(3, 3), stride=(1, 1), padding=(1, 1), bias=False)\n",
       "      )\n",
       "      (denselayer5): _DenseLayer(\n",
       "        (norm1): BatchNorm2d(256, eps=1e-05, momentum=0.1, affine=True, track_running_stats=True)\n",
       "        (relu1): ReLU(inplace=True)\n",
       "        (conv1): Conv2d(256, 128, kernel_size=(1, 1), stride=(1, 1), bias=False)\n",
       "        (norm2): BatchNorm2d(128, eps=1e-05, momentum=0.1, affine=True, track_running_stats=True)\n",
       "        (relu2): ReLU(inplace=True)\n",
       "        (conv2): Conv2d(128, 32, kernel_size=(3, 3), stride=(1, 1), padding=(1, 1), bias=False)\n",
       "      )\n",
       "      (denselayer6): _DenseLayer(\n",
       "        (norm1): BatchNorm2d(288, eps=1e-05, momentum=0.1, affine=True, track_running_stats=True)\n",
       "        (relu1): ReLU(inplace=True)\n",
       "        (conv1): Conv2d(288, 128, kernel_size=(1, 1), stride=(1, 1), bias=False)\n",
       "        (norm2): BatchNorm2d(128, eps=1e-05, momentum=0.1, affine=True, track_running_stats=True)\n",
       "        (relu2): ReLU(inplace=True)\n",
       "        (conv2): Conv2d(128, 32, kernel_size=(3, 3), stride=(1, 1), padding=(1, 1), bias=False)\n",
       "      )\n",
       "      (denselayer7): _DenseLayer(\n",
       "        (norm1): BatchNorm2d(320, eps=1e-05, momentum=0.1, affine=True, track_running_stats=True)\n",
       "        (relu1): ReLU(inplace=True)\n",
       "        (conv1): Conv2d(320, 128, kernel_size=(1, 1), stride=(1, 1), bias=False)\n",
       "        (norm2): BatchNorm2d(128, eps=1e-05, momentum=0.1, affine=True, track_running_stats=True)\n",
       "        (relu2): ReLU(inplace=True)\n",
       "        (conv2): Conv2d(128, 32, kernel_size=(3, 3), stride=(1, 1), padding=(1, 1), bias=False)\n",
       "      )\n",
       "      (denselayer8): _DenseLayer(\n",
       "        (norm1): BatchNorm2d(352, eps=1e-05, momentum=0.1, affine=True, track_running_stats=True)\n",
       "        (relu1): ReLU(inplace=True)\n",
       "        (conv1): Conv2d(352, 128, kernel_size=(1, 1), stride=(1, 1), bias=False)\n",
       "        (norm2): BatchNorm2d(128, eps=1e-05, momentum=0.1, affine=True, track_running_stats=True)\n",
       "        (relu2): ReLU(inplace=True)\n",
       "        (conv2): Conv2d(128, 32, kernel_size=(3, 3), stride=(1, 1), padding=(1, 1), bias=False)\n",
       "      )\n",
       "      (denselayer9): _DenseLayer(\n",
       "        (norm1): BatchNorm2d(384, eps=1e-05, momentum=0.1, affine=True, track_running_stats=True)\n",
       "        (relu1): ReLU(inplace=True)\n",
       "        (conv1): Conv2d(384, 128, kernel_size=(1, 1), stride=(1, 1), bias=False)\n",
       "        (norm2): BatchNorm2d(128, eps=1e-05, momentum=0.1, affine=True, track_running_stats=True)\n",
       "        (relu2): ReLU(inplace=True)\n",
       "        (conv2): Conv2d(128, 32, kernel_size=(3, 3), stride=(1, 1), padding=(1, 1), bias=False)\n",
       "      )\n",
       "      (denselayer10): _DenseLayer(\n",
       "        (norm1): BatchNorm2d(416, eps=1e-05, momentum=0.1, affine=True, track_running_stats=True)\n",
       "        (relu1): ReLU(inplace=True)\n",
       "        (conv1): Conv2d(416, 128, kernel_size=(1, 1), stride=(1, 1), bias=False)\n",
       "        (norm2): BatchNorm2d(128, eps=1e-05, momentum=0.1, affine=True, track_running_stats=True)\n",
       "        (relu2): ReLU(inplace=True)\n",
       "        (conv2): Conv2d(128, 32, kernel_size=(3, 3), stride=(1, 1), padding=(1, 1), bias=False)\n",
       "      )\n",
       "      (denselayer11): _DenseLayer(\n",
       "        (norm1): BatchNorm2d(448, eps=1e-05, momentum=0.1, affine=True, track_running_stats=True)\n",
       "        (relu1): ReLU(inplace=True)\n",
       "        (conv1): Conv2d(448, 128, kernel_size=(1, 1), stride=(1, 1), bias=False)\n",
       "        (norm2): BatchNorm2d(128, eps=1e-05, momentum=0.1, affine=True, track_running_stats=True)\n",
       "        (relu2): ReLU(inplace=True)\n",
       "        (conv2): Conv2d(128, 32, kernel_size=(3, 3), stride=(1, 1), padding=(1, 1), bias=False)\n",
       "      )\n",
       "      (denselayer12): _DenseLayer(\n",
       "        (norm1): BatchNorm2d(480, eps=1e-05, momentum=0.1, affine=True, track_running_stats=True)\n",
       "        (relu1): ReLU(inplace=True)\n",
       "        (conv1): Conv2d(480, 128, kernel_size=(1, 1), stride=(1, 1), bias=False)\n",
       "        (norm2): BatchNorm2d(128, eps=1e-05, momentum=0.1, affine=True, track_running_stats=True)\n",
       "        (relu2): ReLU(inplace=True)\n",
       "        (conv2): Conv2d(128, 32, kernel_size=(3, 3), stride=(1, 1), padding=(1, 1), bias=False)\n",
       "      )\n",
       "    )\n",
       "    (transition2): _Transition(\n",
       "      (norm): BatchNorm2d(512, eps=1e-05, momentum=0.1, affine=True, track_running_stats=True)\n",
       "      (relu): ReLU(inplace=True)\n",
       "      (conv): Conv2d(512, 256, kernel_size=(1, 1), stride=(1, 1), bias=False)\n",
       "      (pool): AvgPool2d(kernel_size=2, stride=2, padding=0)\n",
       "    )\n",
       "    (denseblock3): _DenseBlock(\n",
       "      (denselayer1): _DenseLayer(\n",
       "        (norm1): BatchNorm2d(256, eps=1e-05, momentum=0.1, affine=True, track_running_stats=True)\n",
       "        (relu1): ReLU(inplace=True)\n",
       "        (conv1): Conv2d(256, 128, kernel_size=(1, 1), stride=(1, 1), bias=False)\n",
       "        (norm2): BatchNorm2d(128, eps=1e-05, momentum=0.1, affine=True, track_running_stats=True)\n",
       "        (relu2): ReLU(inplace=True)\n",
       "        (conv2): Conv2d(128, 32, kernel_size=(3, 3), stride=(1, 1), padding=(1, 1), bias=False)\n",
       "      )\n",
       "      (denselayer2): _DenseLayer(\n",
       "        (norm1): BatchNorm2d(288, eps=1e-05, momentum=0.1, affine=True, track_running_stats=True)\n",
       "        (relu1): ReLU(inplace=True)\n",
       "        (conv1): Conv2d(288, 128, kernel_size=(1, 1), stride=(1, 1), bias=False)\n",
       "        (norm2): BatchNorm2d(128, eps=1e-05, momentum=0.1, affine=True, track_running_stats=True)\n",
       "        (relu2): ReLU(inplace=True)\n",
       "        (conv2): Conv2d(128, 32, kernel_size=(3, 3), stride=(1, 1), padding=(1, 1), bias=False)\n",
       "      )\n",
       "      (denselayer3): _DenseLayer(\n",
       "        (norm1): BatchNorm2d(320, eps=1e-05, momentum=0.1, affine=True, track_running_stats=True)\n",
       "        (relu1): ReLU(inplace=True)\n",
       "        (conv1): Conv2d(320, 128, kernel_size=(1, 1), stride=(1, 1), bias=False)\n",
       "        (norm2): BatchNorm2d(128, eps=1e-05, momentum=0.1, affine=True, track_running_stats=True)\n",
       "        (relu2): ReLU(inplace=True)\n",
       "        (conv2): Conv2d(128, 32, kernel_size=(3, 3), stride=(1, 1), padding=(1, 1), bias=False)\n",
       "      )\n",
       "      (denselayer4): _DenseLayer(\n",
       "        (norm1): BatchNorm2d(352, eps=1e-05, momentum=0.1, affine=True, track_running_stats=True)\n",
       "        (relu1): ReLU(inplace=True)\n",
       "        (conv1): Conv2d(352, 128, kernel_size=(1, 1), stride=(1, 1), bias=False)\n",
       "        (norm2): BatchNorm2d(128, eps=1e-05, momentum=0.1, affine=True, track_running_stats=True)\n",
       "        (relu2): ReLU(inplace=True)\n",
       "        (conv2): Conv2d(128, 32, kernel_size=(3, 3), stride=(1, 1), padding=(1, 1), bias=False)\n",
       "      )\n",
       "      (denselayer5): _DenseLayer(\n",
       "        (norm1): BatchNorm2d(384, eps=1e-05, momentum=0.1, affine=True, track_running_stats=True)\n",
       "        (relu1): ReLU(inplace=True)\n",
       "        (conv1): Conv2d(384, 128, kernel_size=(1, 1), stride=(1, 1), bias=False)\n",
       "        (norm2): BatchNorm2d(128, eps=1e-05, momentum=0.1, affine=True, track_running_stats=True)\n",
       "        (relu2): ReLU(inplace=True)\n",
       "        (conv2): Conv2d(128, 32, kernel_size=(3, 3), stride=(1, 1), padding=(1, 1), bias=False)\n",
       "      )\n",
       "      (denselayer6): _DenseLayer(\n",
       "        (norm1): BatchNorm2d(416, eps=1e-05, momentum=0.1, affine=True, track_running_stats=True)\n",
       "        (relu1): ReLU(inplace=True)\n",
       "        (conv1): Conv2d(416, 128, kernel_size=(1, 1), stride=(1, 1), bias=False)\n",
       "        (norm2): BatchNorm2d(128, eps=1e-05, momentum=0.1, affine=True, track_running_stats=True)\n",
       "        (relu2): ReLU(inplace=True)\n",
       "        (conv2): Conv2d(128, 32, kernel_size=(3, 3), stride=(1, 1), padding=(1, 1), bias=False)\n",
       "      )\n",
       "      (denselayer7): _DenseLayer(\n",
       "        (norm1): BatchNorm2d(448, eps=1e-05, momentum=0.1, affine=True, track_running_stats=True)\n",
       "        (relu1): ReLU(inplace=True)\n",
       "        (conv1): Conv2d(448, 128, kernel_size=(1, 1), stride=(1, 1), bias=False)\n",
       "        (norm2): BatchNorm2d(128, eps=1e-05, momentum=0.1, affine=True, track_running_stats=True)\n",
       "        (relu2): ReLU(inplace=True)\n",
       "        (conv2): Conv2d(128, 32, kernel_size=(3, 3), stride=(1, 1), padding=(1, 1), bias=False)\n",
       "      )\n",
       "      (denselayer8): _DenseLayer(\n",
       "        (norm1): BatchNorm2d(480, eps=1e-05, momentum=0.1, affine=True, track_running_stats=True)\n",
       "        (relu1): ReLU(inplace=True)\n",
       "        (conv1): Conv2d(480, 128, kernel_size=(1, 1), stride=(1, 1), bias=False)\n",
       "        (norm2): BatchNorm2d(128, eps=1e-05, momentum=0.1, affine=True, track_running_stats=True)\n",
       "        (relu2): ReLU(inplace=True)\n",
       "        (conv2): Conv2d(128, 32, kernel_size=(3, 3), stride=(1, 1), padding=(1, 1), bias=False)\n",
       "      )\n",
       "      (denselayer9): _DenseLayer(\n",
       "        (norm1): BatchNorm2d(512, eps=1e-05, momentum=0.1, affine=True, track_running_stats=True)\n",
       "        (relu1): ReLU(inplace=True)\n",
       "        (conv1): Conv2d(512, 128, kernel_size=(1, 1), stride=(1, 1), bias=False)\n",
       "        (norm2): BatchNorm2d(128, eps=1e-05, momentum=0.1, affine=True, track_running_stats=True)\n",
       "        (relu2): ReLU(inplace=True)\n",
       "        (conv2): Conv2d(128, 32, kernel_size=(3, 3), stride=(1, 1), padding=(1, 1), bias=False)\n",
       "      )\n",
       "      (denselayer10): _DenseLayer(\n",
       "        (norm1): BatchNorm2d(544, eps=1e-05, momentum=0.1, affine=True, track_running_stats=True)\n",
       "        (relu1): ReLU(inplace=True)\n",
       "        (conv1): Conv2d(544, 128, kernel_size=(1, 1), stride=(1, 1), bias=False)\n",
       "        (norm2): BatchNorm2d(128, eps=1e-05, momentum=0.1, affine=True, track_running_stats=True)\n",
       "        (relu2): ReLU(inplace=True)\n",
       "        (conv2): Conv2d(128, 32, kernel_size=(3, 3), stride=(1, 1), padding=(1, 1), bias=False)\n",
       "      )\n",
       "      (denselayer11): _DenseLayer(\n",
       "        (norm1): BatchNorm2d(576, eps=1e-05, momentum=0.1, affine=True, track_running_stats=True)\n",
       "        (relu1): ReLU(inplace=True)\n",
       "        (conv1): Conv2d(576, 128, kernel_size=(1, 1), stride=(1, 1), bias=False)\n",
       "        (norm2): BatchNorm2d(128, eps=1e-05, momentum=0.1, affine=True, track_running_stats=True)\n",
       "        (relu2): ReLU(inplace=True)\n",
       "        (conv2): Conv2d(128, 32, kernel_size=(3, 3), stride=(1, 1), padding=(1, 1), bias=False)\n",
       "      )\n",
       "      (denselayer12): _DenseLayer(\n",
       "        (norm1): BatchNorm2d(608, eps=1e-05, momentum=0.1, affine=True, track_running_stats=True)\n",
       "        (relu1): ReLU(inplace=True)\n",
       "        (conv1): Conv2d(608, 128, kernel_size=(1, 1), stride=(1, 1), bias=False)\n",
       "        (norm2): BatchNorm2d(128, eps=1e-05, momentum=0.1, affine=True, track_running_stats=True)\n",
       "        (relu2): ReLU(inplace=True)\n",
       "        (conv2): Conv2d(128, 32, kernel_size=(3, 3), stride=(1, 1), padding=(1, 1), bias=False)\n",
       "      )\n",
       "      (denselayer13): _DenseLayer(\n",
       "        (norm1): BatchNorm2d(640, eps=1e-05, momentum=0.1, affine=True, track_running_stats=True)\n",
       "        (relu1): ReLU(inplace=True)\n",
       "        (conv1): Conv2d(640, 128, kernel_size=(1, 1), stride=(1, 1), bias=False)\n",
       "        (norm2): BatchNorm2d(128, eps=1e-05, momentum=0.1, affine=True, track_running_stats=True)\n",
       "        (relu2): ReLU(inplace=True)\n",
       "        (conv2): Conv2d(128, 32, kernel_size=(3, 3), stride=(1, 1), padding=(1, 1), bias=False)\n",
       "      )\n",
       "      (denselayer14): _DenseLayer(\n",
       "        (norm1): BatchNorm2d(672, eps=1e-05, momentum=0.1, affine=True, track_running_stats=True)\n",
       "        (relu1): ReLU(inplace=True)\n",
       "        (conv1): Conv2d(672, 128, kernel_size=(1, 1), stride=(1, 1), bias=False)\n",
       "        (norm2): BatchNorm2d(128, eps=1e-05, momentum=0.1, affine=True, track_running_stats=True)\n",
       "        (relu2): ReLU(inplace=True)\n",
       "        (conv2): Conv2d(128, 32, kernel_size=(3, 3), stride=(1, 1), padding=(1, 1), bias=False)\n",
       "      )\n",
       "      (denselayer15): _DenseLayer(\n",
       "        (norm1): BatchNorm2d(704, eps=1e-05, momentum=0.1, affine=True, track_running_stats=True)\n",
       "        (relu1): ReLU(inplace=True)\n",
       "        (conv1): Conv2d(704, 128, kernel_size=(1, 1), stride=(1, 1), bias=False)\n",
       "        (norm2): BatchNorm2d(128, eps=1e-05, momentum=0.1, affine=True, track_running_stats=True)\n",
       "        (relu2): ReLU(inplace=True)\n",
       "        (conv2): Conv2d(128, 32, kernel_size=(3, 3), stride=(1, 1), padding=(1, 1), bias=False)\n",
       "      )\n",
       "      (denselayer16): _DenseLayer(\n",
       "        (norm1): BatchNorm2d(736, eps=1e-05, momentum=0.1, affine=True, track_running_stats=True)\n",
       "        (relu1): ReLU(inplace=True)\n",
       "        (conv1): Conv2d(736, 128, kernel_size=(1, 1), stride=(1, 1), bias=False)\n",
       "        (norm2): BatchNorm2d(128, eps=1e-05, momentum=0.1, affine=True, track_running_stats=True)\n",
       "        (relu2): ReLU(inplace=True)\n",
       "        (conv2): Conv2d(128, 32, kernel_size=(3, 3), stride=(1, 1), padding=(1, 1), bias=False)\n",
       "      )\n",
       "      (denselayer17): _DenseLayer(\n",
       "        (norm1): BatchNorm2d(768, eps=1e-05, momentum=0.1, affine=True, track_running_stats=True)\n",
       "        (relu1): ReLU(inplace=True)\n",
       "        (conv1): Conv2d(768, 128, kernel_size=(1, 1), stride=(1, 1), bias=False)\n",
       "        (norm2): BatchNorm2d(128, eps=1e-05, momentum=0.1, affine=True, track_running_stats=True)\n",
       "        (relu2): ReLU(inplace=True)\n",
       "        (conv2): Conv2d(128, 32, kernel_size=(3, 3), stride=(1, 1), padding=(1, 1), bias=False)\n",
       "      )\n",
       "      (denselayer18): _DenseLayer(\n",
       "        (norm1): BatchNorm2d(800, eps=1e-05, momentum=0.1, affine=True, track_running_stats=True)\n",
       "        (relu1): ReLU(inplace=True)\n",
       "        (conv1): Conv2d(800, 128, kernel_size=(1, 1), stride=(1, 1), bias=False)\n",
       "        (norm2): BatchNorm2d(128, eps=1e-05, momentum=0.1, affine=True, track_running_stats=True)\n",
       "        (relu2): ReLU(inplace=True)\n",
       "        (conv2): Conv2d(128, 32, kernel_size=(3, 3), stride=(1, 1), padding=(1, 1), bias=False)\n",
       "      )\n",
       "      (denselayer19): _DenseLayer(\n",
       "        (norm1): BatchNorm2d(832, eps=1e-05, momentum=0.1, affine=True, track_running_stats=True)\n",
       "        (relu1): ReLU(inplace=True)\n",
       "        (conv1): Conv2d(832, 128, kernel_size=(1, 1), stride=(1, 1), bias=False)\n",
       "        (norm2): BatchNorm2d(128, eps=1e-05, momentum=0.1, affine=True, track_running_stats=True)\n",
       "        (relu2): ReLU(inplace=True)\n",
       "        (conv2): Conv2d(128, 32, kernel_size=(3, 3), stride=(1, 1), padding=(1, 1), bias=False)\n",
       "      )\n",
       "      (denselayer20): _DenseLayer(\n",
       "        (norm1): BatchNorm2d(864, eps=1e-05, momentum=0.1, affine=True, track_running_stats=True)\n",
       "        (relu1): ReLU(inplace=True)\n",
       "        (conv1): Conv2d(864, 128, kernel_size=(1, 1), stride=(1, 1), bias=False)\n",
       "        (norm2): BatchNorm2d(128, eps=1e-05, momentum=0.1, affine=True, track_running_stats=True)\n",
       "        (relu2): ReLU(inplace=True)\n",
       "        (conv2): Conv2d(128, 32, kernel_size=(3, 3), stride=(1, 1), padding=(1, 1), bias=False)\n",
       "      )\n",
       "      (denselayer21): _DenseLayer(\n",
       "        (norm1): BatchNorm2d(896, eps=1e-05, momentum=0.1, affine=True, track_running_stats=True)\n",
       "        (relu1): ReLU(inplace=True)\n",
       "        (conv1): Conv2d(896, 128, kernel_size=(1, 1), stride=(1, 1), bias=False)\n",
       "        (norm2): BatchNorm2d(128, eps=1e-05, momentum=0.1, affine=True, track_running_stats=True)\n",
       "        (relu2): ReLU(inplace=True)\n",
       "        (conv2): Conv2d(128, 32, kernel_size=(3, 3), stride=(1, 1), padding=(1, 1), bias=False)\n",
       "      )\n",
       "      (denselayer22): _DenseLayer(\n",
       "        (norm1): BatchNorm2d(928, eps=1e-05, momentum=0.1, affine=True, track_running_stats=True)\n",
       "        (relu1): ReLU(inplace=True)\n",
       "        (conv1): Conv2d(928, 128, kernel_size=(1, 1), stride=(1, 1), bias=False)\n",
       "        (norm2): BatchNorm2d(128, eps=1e-05, momentum=0.1, affine=True, track_running_stats=True)\n",
       "        (relu2): ReLU(inplace=True)\n",
       "        (conv2): Conv2d(128, 32, kernel_size=(3, 3), stride=(1, 1), padding=(1, 1), bias=False)\n",
       "      )\n",
       "      (denselayer23): _DenseLayer(\n",
       "        (norm1): BatchNorm2d(960, eps=1e-05, momentum=0.1, affine=True, track_running_stats=True)\n",
       "        (relu1): ReLU(inplace=True)\n",
       "        (conv1): Conv2d(960, 128, kernel_size=(1, 1), stride=(1, 1), bias=False)\n",
       "        (norm2): BatchNorm2d(128, eps=1e-05, momentum=0.1, affine=True, track_running_stats=True)\n",
       "        (relu2): ReLU(inplace=True)\n",
       "        (conv2): Conv2d(128, 32, kernel_size=(3, 3), stride=(1, 1), padding=(1, 1), bias=False)\n",
       "      )\n",
       "      (denselayer24): _DenseLayer(\n",
       "        (norm1): BatchNorm2d(992, eps=1e-05, momentum=0.1, affine=True, track_running_stats=True)\n",
       "        (relu1): ReLU(inplace=True)\n",
       "        (conv1): Conv2d(992, 128, kernel_size=(1, 1), stride=(1, 1), bias=False)\n",
       "        (norm2): BatchNorm2d(128, eps=1e-05, momentum=0.1, affine=True, track_running_stats=True)\n",
       "        (relu2): ReLU(inplace=True)\n",
       "        (conv2): Conv2d(128, 32, kernel_size=(3, 3), stride=(1, 1), padding=(1, 1), bias=False)\n",
       "      )\n",
       "    )\n",
       "    (transition3): _Transition(\n",
       "      (norm): BatchNorm2d(1024, eps=1e-05, momentum=0.1, affine=True, track_running_stats=True)\n",
       "      (relu): ReLU(inplace=True)\n",
       "      (conv): Conv2d(1024, 512, kernel_size=(1, 1), stride=(1, 1), bias=False)\n",
       "      (pool): AvgPool2d(kernel_size=2, stride=2, padding=0)\n",
       "    )\n",
       "    (denseblock4): _DenseBlock(\n",
       "      (denselayer1): _DenseLayer(\n",
       "        (norm1): BatchNorm2d(512, eps=1e-05, momentum=0.1, affine=True, track_running_stats=True)\n",
       "        (relu1): ReLU(inplace=True)\n",
       "        (conv1): Conv2d(512, 128, kernel_size=(1, 1), stride=(1, 1), bias=False)\n",
       "        (norm2): BatchNorm2d(128, eps=1e-05, momentum=0.1, affine=True, track_running_stats=True)\n",
       "        (relu2): ReLU(inplace=True)\n",
       "        (conv2): Conv2d(128, 32, kernel_size=(3, 3), stride=(1, 1), padding=(1, 1), bias=False)\n",
       "      )\n",
       "      (denselayer2): _DenseLayer(\n",
       "        (norm1): BatchNorm2d(544, eps=1e-05, momentum=0.1, affine=True, track_running_stats=True)\n",
       "        (relu1): ReLU(inplace=True)\n",
       "        (conv1): Conv2d(544, 128, kernel_size=(1, 1), stride=(1, 1), bias=False)\n",
       "        (norm2): BatchNorm2d(128, eps=1e-05, momentum=0.1, affine=True, track_running_stats=True)\n",
       "        (relu2): ReLU(inplace=True)\n",
       "        (conv2): Conv2d(128, 32, kernel_size=(3, 3), stride=(1, 1), padding=(1, 1), bias=False)\n",
       "      )\n",
       "      (denselayer3): _DenseLayer(\n",
       "        (norm1): BatchNorm2d(576, eps=1e-05, momentum=0.1, affine=True, track_running_stats=True)\n",
       "        (relu1): ReLU(inplace=True)\n",
       "        (conv1): Conv2d(576, 128, kernel_size=(1, 1), stride=(1, 1), bias=False)\n",
       "        (norm2): BatchNorm2d(128, eps=1e-05, momentum=0.1, affine=True, track_running_stats=True)\n",
       "        (relu2): ReLU(inplace=True)\n",
       "        (conv2): Conv2d(128, 32, kernel_size=(3, 3), stride=(1, 1), padding=(1, 1), bias=False)\n",
       "      )\n",
       "      (denselayer4): _DenseLayer(\n",
       "        (norm1): BatchNorm2d(608, eps=1e-05, momentum=0.1, affine=True, track_running_stats=True)\n",
       "        (relu1): ReLU(inplace=True)\n",
       "        (conv1): Conv2d(608, 128, kernel_size=(1, 1), stride=(1, 1), bias=False)\n",
       "        (norm2): BatchNorm2d(128, eps=1e-05, momentum=0.1, affine=True, track_running_stats=True)\n",
       "        (relu2): ReLU(inplace=True)\n",
       "        (conv2): Conv2d(128, 32, kernel_size=(3, 3), stride=(1, 1), padding=(1, 1), bias=False)\n",
       "      )\n",
       "      (denselayer5): _DenseLayer(\n",
       "        (norm1): BatchNorm2d(640, eps=1e-05, momentum=0.1, affine=True, track_running_stats=True)\n",
       "        (relu1): ReLU(inplace=True)\n",
       "        (conv1): Conv2d(640, 128, kernel_size=(1, 1), stride=(1, 1), bias=False)\n",
       "        (norm2): BatchNorm2d(128, eps=1e-05, momentum=0.1, affine=True, track_running_stats=True)\n",
       "        (relu2): ReLU(inplace=True)\n",
       "        (conv2): Conv2d(128, 32, kernel_size=(3, 3), stride=(1, 1), padding=(1, 1), bias=False)\n",
       "      )\n",
       "      (denselayer6): _DenseLayer(\n",
       "        (norm1): BatchNorm2d(672, eps=1e-05, momentum=0.1, affine=True, track_running_stats=True)\n",
       "        (relu1): ReLU(inplace=True)\n",
       "        (conv1): Conv2d(672, 128, kernel_size=(1, 1), stride=(1, 1), bias=False)\n",
       "        (norm2): BatchNorm2d(128, eps=1e-05, momentum=0.1, affine=True, track_running_stats=True)\n",
       "        (relu2): ReLU(inplace=True)\n",
       "        (conv2): Conv2d(128, 32, kernel_size=(3, 3), stride=(1, 1), padding=(1, 1), bias=False)\n",
       "      )\n",
       "      (denselayer7): _DenseLayer(\n",
       "        (norm1): BatchNorm2d(704, eps=1e-05, momentum=0.1, affine=True, track_running_stats=True)\n",
       "        (relu1): ReLU(inplace=True)\n",
       "        (conv1): Conv2d(704, 128, kernel_size=(1, 1), stride=(1, 1), bias=False)\n",
       "        (norm2): BatchNorm2d(128, eps=1e-05, momentum=0.1, affine=True, track_running_stats=True)\n",
       "        (relu2): ReLU(inplace=True)\n",
       "        (conv2): Conv2d(128, 32, kernel_size=(3, 3), stride=(1, 1), padding=(1, 1), bias=False)\n",
       "      )\n",
       "      (denselayer8): _DenseLayer(\n",
       "        (norm1): BatchNorm2d(736, eps=1e-05, momentum=0.1, affine=True, track_running_stats=True)\n",
       "        (relu1): ReLU(inplace=True)\n",
       "        (conv1): Conv2d(736, 128, kernel_size=(1, 1), stride=(1, 1), bias=False)\n",
       "        (norm2): BatchNorm2d(128, eps=1e-05, momentum=0.1, affine=True, track_running_stats=True)\n",
       "        (relu2): ReLU(inplace=True)\n",
       "        (conv2): Conv2d(128, 32, kernel_size=(3, 3), stride=(1, 1), padding=(1, 1), bias=False)\n",
       "      )\n",
       "      (denselayer9): _DenseLayer(\n",
       "        (norm1): BatchNorm2d(768, eps=1e-05, momentum=0.1, affine=True, track_running_stats=True)\n",
       "        (relu1): ReLU(inplace=True)\n",
       "        (conv1): Conv2d(768, 128, kernel_size=(1, 1), stride=(1, 1), bias=False)\n",
       "        (norm2): BatchNorm2d(128, eps=1e-05, momentum=0.1, affine=True, track_running_stats=True)\n",
       "        (relu2): ReLU(inplace=True)\n",
       "        (conv2): Conv2d(128, 32, kernel_size=(3, 3), stride=(1, 1), padding=(1, 1), bias=False)\n",
       "      )\n",
       "      (denselayer10): _DenseLayer(\n",
       "        (norm1): BatchNorm2d(800, eps=1e-05, momentum=0.1, affine=True, track_running_stats=True)\n",
       "        (relu1): ReLU(inplace=True)\n",
       "        (conv1): Conv2d(800, 128, kernel_size=(1, 1), stride=(1, 1), bias=False)\n",
       "        (norm2): BatchNorm2d(128, eps=1e-05, momentum=0.1, affine=True, track_running_stats=True)\n",
       "        (relu2): ReLU(inplace=True)\n",
       "        (conv2): Conv2d(128, 32, kernel_size=(3, 3), stride=(1, 1), padding=(1, 1), bias=False)\n",
       "      )\n",
       "      (denselayer11): _DenseLayer(\n",
       "        (norm1): BatchNorm2d(832, eps=1e-05, momentum=0.1, affine=True, track_running_stats=True)\n",
       "        (relu1): ReLU(inplace=True)\n",
       "        (conv1): Conv2d(832, 128, kernel_size=(1, 1), stride=(1, 1), bias=False)\n",
       "        (norm2): BatchNorm2d(128, eps=1e-05, momentum=0.1, affine=True, track_running_stats=True)\n",
       "        (relu2): ReLU(inplace=True)\n",
       "        (conv2): Conv2d(128, 32, kernel_size=(3, 3), stride=(1, 1), padding=(1, 1), bias=False)\n",
       "      )\n",
       "      (denselayer12): _DenseLayer(\n",
       "        (norm1): BatchNorm2d(864, eps=1e-05, momentum=0.1, affine=True, track_running_stats=True)\n",
       "        (relu1): ReLU(inplace=True)\n",
       "        (conv1): Conv2d(864, 128, kernel_size=(1, 1), stride=(1, 1), bias=False)\n",
       "        (norm2): BatchNorm2d(128, eps=1e-05, momentum=0.1, affine=True, track_running_stats=True)\n",
       "        (relu2): ReLU(inplace=True)\n",
       "        (conv2): Conv2d(128, 32, kernel_size=(3, 3), stride=(1, 1), padding=(1, 1), bias=False)\n",
       "      )\n",
       "      (denselayer13): _DenseLayer(\n",
       "        (norm1): BatchNorm2d(896, eps=1e-05, momentum=0.1, affine=True, track_running_stats=True)\n",
       "        (relu1): ReLU(inplace=True)\n",
       "        (conv1): Conv2d(896, 128, kernel_size=(1, 1), stride=(1, 1), bias=False)\n",
       "        (norm2): BatchNorm2d(128, eps=1e-05, momentum=0.1, affine=True, track_running_stats=True)\n",
       "        (relu2): ReLU(inplace=True)\n",
       "        (conv2): Conv2d(128, 32, kernel_size=(3, 3), stride=(1, 1), padding=(1, 1), bias=False)\n",
       "      )\n",
       "      (denselayer14): _DenseLayer(\n",
       "        (norm1): BatchNorm2d(928, eps=1e-05, momentum=0.1, affine=True, track_running_stats=True)\n",
       "        (relu1): ReLU(inplace=True)\n",
       "        (conv1): Conv2d(928, 128, kernel_size=(1, 1), stride=(1, 1), bias=False)\n",
       "        (norm2): BatchNorm2d(128, eps=1e-05, momentum=0.1, affine=True, track_running_stats=True)\n",
       "        (relu2): ReLU(inplace=True)\n",
       "        (conv2): Conv2d(128, 32, kernel_size=(3, 3), stride=(1, 1), padding=(1, 1), bias=False)\n",
       "      )\n",
       "      (denselayer15): _DenseLayer(\n",
       "        (norm1): BatchNorm2d(960, eps=1e-05, momentum=0.1, affine=True, track_running_stats=True)\n",
       "        (relu1): ReLU(inplace=True)\n",
       "        (conv1): Conv2d(960, 128, kernel_size=(1, 1), stride=(1, 1), bias=False)\n",
       "        (norm2): BatchNorm2d(128, eps=1e-05, momentum=0.1, affine=True, track_running_stats=True)\n",
       "        (relu2): ReLU(inplace=True)\n",
       "        (conv2): Conv2d(128, 32, kernel_size=(3, 3), stride=(1, 1), padding=(1, 1), bias=False)\n",
       "      )\n",
       "      (denselayer16): _DenseLayer(\n",
       "        (norm1): BatchNorm2d(992, eps=1e-05, momentum=0.1, affine=True, track_running_stats=True)\n",
       "        (relu1): ReLU(inplace=True)\n",
       "        (conv1): Conv2d(992, 128, kernel_size=(1, 1), stride=(1, 1), bias=False)\n",
       "        (norm2): BatchNorm2d(128, eps=1e-05, momentum=0.1, affine=True, track_running_stats=True)\n",
       "        (relu2): ReLU(inplace=True)\n",
       "        (conv2): Conv2d(128, 32, kernel_size=(3, 3), stride=(1, 1), padding=(1, 1), bias=False)\n",
       "      )\n",
       "    )\n",
       "    (norm5): BatchNorm2d(1024, eps=1e-05, momentum=0.1, affine=True, track_running_stats=True)\n",
       "  )\n",
       "  (classifier): Sequential(\n",
       "    (new1): Linear(in_features=1024, out_features=500, bias=True)\n",
       "    (relu): ReLU()\n",
       "    (new2): Linear(in_features=500, out_features=1, bias=True)\n",
       "  )\n",
       ")"
      ]
     },
     "execution_count": 18,
     "metadata": {},
     "output_type": "execute_result"
    }
   ],
   "source": [
    "model_nodrop = make_model()\n",
    "model_3drop = make_model(dropout=True, drop_init=True, rate=0.1)\n",
    "model_inbit = make_model(dropout=True, drop_init=False, rate=0.2)\n",
    "\n",
    "device = torch.device('cuda' if torch.cuda.is_available() else 'cpu')\n",
    "\n",
    "model_nodrop.to(device)\n",
    "model_3drop.to(device)\n",
    "model_inbit.to(device)"
   ]
  },
  {
   "cell_type": "code",
   "execution_count": 19,
   "id": "planned-roommate",
   "metadata": {
    "execution": {
     "iopub.execute_input": "2021-06-01T17:20:37.998141Z",
     "iopub.status.busy": "2021-06-01T17:20:37.990425Z",
     "iopub.status.idle": "2021-06-01T17:23:53.894539Z",
     "shell.execute_reply": "2021-06-01T17:23:53.894070Z",
     "shell.execute_reply.started": "2021-05-31T20:41:57.336754Z"
    },
    "papermill": {
     "duration": 195.948377,
     "end_time": "2021-06-01T17:23:53.894679",
     "exception": false,
     "start_time": "2021-06-01T17:20:37.946302",
     "status": "completed"
    },
    "tags": []
   },
   "outputs": [],
   "source": [
    "optimizer = torch.optim.Adam(model_nodrop.parameters(),\n",
    "                                lr = best_parameters[\"lr\"],\n",
    "                                betas = betas)\n",
    "\n",
    "model_nodrop = train(model_nodrop, train_loader, hyperparameters=best_parameters, epochs=25)"
   ]
  },
  {
   "cell_type": "code",
   "execution_count": 20,
   "id": "confidential-craps",
   "metadata": {
    "execution": {
     "iopub.execute_input": "2021-06-01T17:23:53.985263Z",
     "iopub.status.busy": "2021-06-01T17:23:53.984368Z",
     "iopub.status.idle": "2021-06-01T17:27:11.807089Z",
     "shell.execute_reply": "2021-06-01T17:27:11.806599Z",
     "shell.execute_reply.started": "2021-05-31T20:50:06.893018Z"
    },
    "papermill": {
     "duration": 197.875021,
     "end_time": "2021-06-01T17:27:11.807236",
     "exception": false,
     "start_time": "2021-06-01T17:23:53.932215",
     "status": "completed"
    },
    "tags": []
   },
   "outputs": [],
   "source": [
    "optimizer = torch.optim.Adam(model_3drop.parameters(),\n",
    "                                lr = best_parameters[\"lr\"],\n",
    "                                betas = betas)\n",
    "\n",
    "model_3drop = train(model_3drop, train_loader, hyperparameters=best_parameters, epochs=25)"
   ]
  },
  {
   "cell_type": "code",
   "execution_count": 21,
   "id": "fewer-bishop",
   "metadata": {
    "execution": {
     "iopub.execute_input": "2021-06-01T17:27:11.897391Z",
     "iopub.status.busy": "2021-06-01T17:27:11.896542Z",
     "iopub.status.idle": "2021-06-01T17:30:30.562183Z",
     "shell.execute_reply": "2021-06-01T17:30:30.561682Z",
     "shell.execute_reply.started": "2021-05-31T20:51:59.39132Z"
    },
    "papermill": {
     "duration": 198.717763,
     "end_time": "2021-06-01T17:30:30.562333",
     "exception": false,
     "start_time": "2021-06-01T17:27:11.844570",
     "status": "completed"
    },
    "tags": []
   },
   "outputs": [],
   "source": [
    "optimizer = torch.optim.Adam(model_inbit.parameters(),\n",
    "                                lr = best_parameters[\"lr\"],\n",
    "                                betas = betas)\n",
    "\n",
    "model_inbit = train(model_inbit, train_loader, hyperparameters=best_parameters, epochs=25)"
   ]
  },
  {
   "cell_type": "markdown",
   "id": "dutch-cooler",
   "metadata": {
    "papermill": {
     "duration": 0.036547,
     "end_time": "2021-06-01T17:30:30.636454",
     "exception": false,
     "start_time": "2021-06-01T17:30:30.599907",
     "status": "completed"
    },
    "tags": []
   },
   "source": [
    "## Test Accuracy"
   ]
  },
  {
   "cell_type": "code",
   "execution_count": 22,
   "id": "unknown-salem",
   "metadata": {
    "execution": {
     "iopub.execute_input": "2021-06-01T17:30:30.715402Z",
     "iopub.status.busy": "2021-06-01T17:30:30.714832Z",
     "iopub.status.idle": "2021-06-01T17:30:31.626689Z",
     "shell.execute_reply": "2021-06-01T17:30:31.625783Z",
     "shell.execute_reply.started": "2021-05-31T20:55:53.748804Z"
    },
    "papermill": {
     "duration": 0.953902,
     "end_time": "2021-06-01T17:30:31.626838",
     "exception": false,
     "start_time": "2021-06-01T17:30:30.672936",
     "status": "completed"
    },
    "tags": []
   },
   "outputs": [
    {
     "name": "stdout",
     "output_type": "stream",
     "text": [
      "Test accuracy is 62.96%.\n"
     ]
    },
    {
     "data": {
      "text/plain": [
       "0.6296296296296297"
      ]
     },
     "execution_count": 22,
     "metadata": {},
     "output_type": "execute_result"
    }
   ],
   "source": [
    "get_test_accuracy(model_nodrop, test_loader)"
   ]
  },
  {
   "cell_type": "code",
   "execution_count": 23,
   "id": "important-shareware",
   "metadata": {
    "execution": {
     "iopub.execute_input": "2021-06-01T17:30:31.706401Z",
     "iopub.status.busy": "2021-06-01T17:30:31.705606Z",
     "iopub.status.idle": "2021-06-01T17:30:32.390014Z",
     "shell.execute_reply": "2021-06-01T17:30:32.390437Z",
     "shell.execute_reply.started": "2021-05-31T20:55:55.926428Z"
    },
    "papermill": {
     "duration": 0.726259,
     "end_time": "2021-06-01T17:30:32.390593",
     "exception": false,
     "start_time": "2021-06-01T17:30:31.664334",
     "status": "completed"
    },
    "tags": []
   },
   "outputs": [
    {
     "name": "stdout",
     "output_type": "stream",
     "text": [
      "Test accuracy is 70.37%.\n"
     ]
    },
    {
     "data": {
      "text/plain": [
       "0.7037037037037037"
      ]
     },
     "execution_count": 23,
     "metadata": {},
     "output_type": "execute_result"
    }
   ],
   "source": [
    "get_test_accuracy(model_3drop, test_loader)"
   ]
  },
  {
   "cell_type": "code",
   "execution_count": 24,
   "id": "documented-numbers",
   "metadata": {
    "execution": {
     "iopub.execute_input": "2021-06-01T17:30:32.472136Z",
     "iopub.status.busy": "2021-06-01T17:30:32.471315Z",
     "iopub.status.idle": "2021-06-01T17:30:33.156317Z",
     "shell.execute_reply": "2021-06-01T17:30:33.156712Z",
     "shell.execute_reply.started": "2021-05-31T20:55:58.200519Z"
    },
    "papermill": {
     "duration": 0.727682,
     "end_time": "2021-06-01T17:30:33.156860",
     "exception": false,
     "start_time": "2021-06-01T17:30:32.429178",
     "status": "completed"
    },
    "tags": []
   },
   "outputs": [
    {
     "name": "stdout",
     "output_type": "stream",
     "text": [
      "Test accuracy is 62.96%.\n"
     ]
    },
    {
     "data": {
      "text/plain": [
       "0.6296296296296297"
      ]
     },
     "execution_count": 24,
     "metadata": {},
     "output_type": "execute_result"
    }
   ],
   "source": [
    "get_test_accuracy(model_inbit, test_loader)"
   ]
  },
  {
   "cell_type": "markdown",
   "id": "domestic-explorer",
   "metadata": {
    "papermill": {
     "duration": 0.037799,
     "end_time": "2021-06-01T17:30:33.233796",
     "exception": false,
     "start_time": "2021-06-01T17:30:33.195997",
     "status": "completed"
    },
    "tags": []
   },
   "source": [
    "## Confusion Matrix"
   ]
  },
  {
   "cell_type": "code",
   "execution_count": 25,
   "id": "controlled-founder",
   "metadata": {
    "execution": {
     "iopub.execute_input": "2021-06-01T17:30:33.315097Z",
     "iopub.status.busy": "2021-06-01T17:30:33.314308Z",
     "iopub.status.idle": "2021-06-01T17:30:34.019596Z",
     "shell.execute_reply": "2021-06-01T17:30:34.018772Z",
     "shell.execute_reply.started": "2021-05-31T20:56:07.160077Z"
    },
    "papermill": {
     "duration": 0.748076,
     "end_time": "2021-06-01T17:30:34.019734",
     "exception": false,
     "start_time": "2021-06-01T17:30:33.271658",
     "status": "completed"
    },
    "tags": []
   },
   "outputs": [
    {
     "data": {
      "text/html": [
       "<div>\n",
       "<style scoped>\n",
       "    .dataframe tbody tr th:only-of-type {\n",
       "        vertical-align: middle;\n",
       "    }\n",
       "\n",
       "    .dataframe tbody tr th {\n",
       "        vertical-align: top;\n",
       "    }\n",
       "\n",
       "    .dataframe thead th {\n",
       "        text-align: right;\n",
       "    }\n",
       "</style>\n",
       "<table border=\"1\" class=\"dataframe\">\n",
       "  <thead>\n",
       "    <tr style=\"text-align: right;\">\n",
       "      <th></th>\n",
       "      <th>predict negative</th>\n",
       "      <th>predict positive</th>\n",
       "    </tr>\n",
       "  </thead>\n",
       "  <tbody>\n",
       "    <tr>\n",
       "      <th>actual negative</th>\n",
       "      <td>25.0</td>\n",
       "      <td>8.0</td>\n",
       "    </tr>\n",
       "    <tr>\n",
       "      <th>actual positive</th>\n",
       "      <td>12.0</td>\n",
       "      <td>9.0</td>\n",
       "    </tr>\n",
       "  </tbody>\n",
       "</table>\n",
       "</div>"
      ],
      "text/plain": [
       "                 predict negative  predict positive\n",
       "actual negative              25.0               8.0\n",
       "actual positive              12.0               9.0"
      ]
     },
     "execution_count": 25,
     "metadata": {},
     "output_type": "execute_result"
    }
   ],
   "source": [
    "pytorch_confusion_matrix(model_nodrop, test_loader)"
   ]
  },
  {
   "cell_type": "code",
   "execution_count": 26,
   "id": "caroline-moore",
   "metadata": {
    "execution": {
     "iopub.execute_input": "2021-06-01T17:30:34.104540Z",
     "iopub.status.busy": "2021-06-01T17:30:34.103763Z",
     "iopub.status.idle": "2021-06-01T17:30:34.819469Z",
     "shell.execute_reply": "2021-06-01T17:30:34.819019Z",
     "shell.execute_reply.started": "2021-05-31T20:56:09.337535Z"
    },
    "papermill": {
     "duration": 0.760281,
     "end_time": "2021-06-01T17:30:34.819616",
     "exception": false,
     "start_time": "2021-06-01T17:30:34.059335",
     "status": "completed"
    },
    "tags": []
   },
   "outputs": [
    {
     "data": {
      "text/html": [
       "<div>\n",
       "<style scoped>\n",
       "    .dataframe tbody tr th:only-of-type {\n",
       "        vertical-align: middle;\n",
       "    }\n",
       "\n",
       "    .dataframe tbody tr th {\n",
       "        vertical-align: top;\n",
       "    }\n",
       "\n",
       "    .dataframe thead th {\n",
       "        text-align: right;\n",
       "    }\n",
       "</style>\n",
       "<table border=\"1\" class=\"dataframe\">\n",
       "  <thead>\n",
       "    <tr style=\"text-align: right;\">\n",
       "      <th></th>\n",
       "      <th>predict negative</th>\n",
       "      <th>predict positive</th>\n",
       "    </tr>\n",
       "  </thead>\n",
       "  <tbody>\n",
       "    <tr>\n",
       "      <th>actual negative</th>\n",
       "      <td>31.0</td>\n",
       "      <td>2.0</td>\n",
       "    </tr>\n",
       "    <tr>\n",
       "      <th>actual positive</th>\n",
       "      <td>14.0</td>\n",
       "      <td>7.0</td>\n",
       "    </tr>\n",
       "  </tbody>\n",
       "</table>\n",
       "</div>"
      ],
      "text/plain": [
       "                 predict negative  predict positive\n",
       "actual negative              31.0               2.0\n",
       "actual positive              14.0               7.0"
      ]
     },
     "execution_count": 26,
     "metadata": {},
     "output_type": "execute_result"
    }
   ],
   "source": [
    "pytorch_confusion_matrix(model_3drop, test_loader)"
   ]
  },
  {
   "cell_type": "code",
   "execution_count": 27,
   "id": "fifteen-accordance",
   "metadata": {
    "execution": {
     "iopub.execute_input": "2021-06-01T17:30:34.904139Z",
     "iopub.status.busy": "2021-06-01T17:30:34.903417Z",
     "iopub.status.idle": "2021-06-01T17:30:35.655704Z",
     "shell.execute_reply": "2021-06-01T17:30:35.656448Z",
     "shell.execute_reply.started": "2021-05-31T20:56:11.396668Z"
    },
    "papermill": {
     "duration": 0.797808,
     "end_time": "2021-06-01T17:30:35.656686",
     "exception": false,
     "start_time": "2021-06-01T17:30:34.858878",
     "status": "completed"
    },
    "tags": []
   },
   "outputs": [
    {
     "data": {
      "text/html": [
       "<div>\n",
       "<style scoped>\n",
       "    .dataframe tbody tr th:only-of-type {\n",
       "        vertical-align: middle;\n",
       "    }\n",
       "\n",
       "    .dataframe tbody tr th {\n",
       "        vertical-align: top;\n",
       "    }\n",
       "\n",
       "    .dataframe thead th {\n",
       "        text-align: right;\n",
       "    }\n",
       "</style>\n",
       "<table border=\"1\" class=\"dataframe\">\n",
       "  <thead>\n",
       "    <tr style=\"text-align: right;\">\n",
       "      <th></th>\n",
       "      <th>predict negative</th>\n",
       "      <th>predict positive</th>\n",
       "    </tr>\n",
       "  </thead>\n",
       "  <tbody>\n",
       "    <tr>\n",
       "      <th>actual negative</th>\n",
       "      <td>31.0</td>\n",
       "      <td>2.0</td>\n",
       "    </tr>\n",
       "    <tr>\n",
       "      <th>actual positive</th>\n",
       "      <td>18.0</td>\n",
       "      <td>3.0</td>\n",
       "    </tr>\n",
       "  </tbody>\n",
       "</table>\n",
       "</div>"
      ],
      "text/plain": [
       "                 predict negative  predict positive\n",
       "actual negative              31.0               2.0\n",
       "actual positive              18.0               3.0"
      ]
     },
     "execution_count": 27,
     "metadata": {},
     "output_type": "execute_result"
    }
   ],
   "source": [
    "pytorch_confusion_matrix(model_inbit, test_loader)"
   ]
  },
  {
   "cell_type": "markdown",
   "id": "olympic-defendant",
   "metadata": {
    "papermill": {
     "duration": 0.068905,
     "end_time": "2021-06-01T17:30:35.792136",
     "exception": false,
     "start_time": "2021-06-01T17:30:35.723231",
     "status": "completed"
    },
    "tags": []
   },
   "source": [
    "## Recall Evaluation"
   ]
  },
  {
   "cell_type": "code",
   "execution_count": 28,
   "id": "weighted-planner",
   "metadata": {
    "execution": {
     "iopub.execute_input": "2021-06-01T17:30:35.933489Z",
     "iopub.status.busy": "2021-06-01T17:30:35.932719Z",
     "iopub.status.idle": "2021-06-01T17:30:36.650799Z",
     "shell.execute_reply": "2021-06-01T17:30:36.650116Z",
     "shell.execute_reply.started": "2021-05-31T20:56:13.890703Z"
    },
    "papermill": {
     "duration": 0.795546,
     "end_time": "2021-06-01T17:30:36.650967",
     "exception": false,
     "start_time": "2021-06-01T17:30:35.855421",
     "status": "completed"
    },
    "tags": []
   },
   "outputs": [
    {
     "name": "stdout",
     "output_type": "stream",
     "text": [
      "Test recall is 42.86%.\n"
     ]
    },
    {
     "data": {
      "text/plain": [
       "0.42857143"
      ]
     },
     "execution_count": 28,
     "metadata": {},
     "output_type": "execute_result"
    }
   ],
   "source": [
    "recall_calculation(pytorch_confusion_matrix(model_nodrop, test_loader))"
   ]
  },
  {
   "cell_type": "code",
   "execution_count": 29,
   "id": "alpha-imperial",
   "metadata": {
    "execution": {
     "iopub.execute_input": "2021-06-01T17:30:36.735441Z",
     "iopub.status.busy": "2021-06-01T17:30:36.734918Z",
     "iopub.status.idle": "2021-06-01T17:30:37.416456Z",
     "shell.execute_reply": "2021-06-01T17:30:37.417069Z",
     "shell.execute_reply.started": "2021-05-31T20:56:15.863663Z"
    },
    "papermill": {
     "duration": 0.726609,
     "end_time": "2021-06-01T17:30:37.417257",
     "exception": false,
     "start_time": "2021-06-01T17:30:36.690648",
     "status": "completed"
    },
    "tags": []
   },
   "outputs": [
    {
     "name": "stdout",
     "output_type": "stream",
     "text": [
      "Test recall is 33.33%.\n"
     ]
    },
    {
     "data": {
      "text/plain": [
       "0.33333334"
      ]
     },
     "execution_count": 29,
     "metadata": {},
     "output_type": "execute_result"
    }
   ],
   "source": [
    "recall_calculation(pytorch_confusion_matrix(model_3drop, test_loader))"
   ]
  },
  {
   "cell_type": "code",
   "execution_count": 30,
   "id": "alone-peace",
   "metadata": {
    "execution": {
     "iopub.execute_input": "2021-06-01T17:30:37.503010Z",
     "iopub.status.busy": "2021-06-01T17:30:37.502265Z",
     "iopub.status.idle": "2021-06-01T17:30:38.202288Z",
     "shell.execute_reply": "2021-06-01T17:30:38.202657Z",
     "shell.execute_reply.started": "2021-05-31T20:56:18.774021Z"
    },
    "papermill": {
     "duration": 0.745061,
     "end_time": "2021-06-01T17:30:38.202816",
     "exception": false,
     "start_time": "2021-06-01T17:30:37.457755",
     "status": "completed"
    },
    "tags": []
   },
   "outputs": [
    {
     "name": "stdout",
     "output_type": "stream",
     "text": [
      "Test recall is 14.29%.\n"
     ]
    },
    {
     "data": {
      "text/plain": [
       "0.14285715"
      ]
     },
     "execution_count": 30,
     "metadata": {},
     "output_type": "execute_result"
    }
   ],
   "source": [
    "recall_calculation(pytorch_confusion_matrix(model_inbit, test_loader))"
   ]
  },
  {
   "cell_type": "markdown",
   "id": "grand-gabriel",
   "metadata": {
    "papermill": {
     "duration": 0.040676,
     "end_time": "2021-06-01T17:30:38.284654",
     "exception": false,
     "start_time": "2021-06-01T17:30:38.243978",
     "status": "completed"
    },
    "tags": []
   },
   "source": [
    "## Save Models"
   ]
  },
  {
   "cell_type": "code",
   "execution_count": 31,
   "id": "announced-secret",
   "metadata": {
    "execution": {
     "iopub.execute_input": "2021-06-01T17:30:38.370718Z",
     "iopub.status.busy": "2021-06-01T17:30:38.369919Z",
     "iopub.status.idle": "2021-06-01T17:30:38.464504Z",
     "shell.execute_reply": "2021-06-01T17:30:38.464053Z",
     "shell.execute_reply.started": "2021-05-31T20:56:22.312481Z"
    },
    "papermill": {
     "duration": 0.138625,
     "end_time": "2021-06-01T17:30:38.464633",
     "exception": false,
     "start_time": "2021-06-01T17:30:38.326008",
     "status": "completed"
    },
    "tags": []
   },
   "outputs": [],
   "source": [
    "torch.save(model_nodrop.state_dict(), 'model_nodrop.pth')"
   ]
  },
  {
   "cell_type": "code",
   "execution_count": 32,
   "id": "contrary-recording",
   "metadata": {
    "execution": {
     "iopub.execute_input": "2021-06-01T17:30:38.549957Z",
     "iopub.status.busy": "2021-06-01T17:30:38.549439Z",
     "iopub.status.idle": "2021-06-01T17:30:38.639823Z",
     "shell.execute_reply": "2021-06-01T17:30:38.639308Z",
     "shell.execute_reply.started": "2021-05-31T20:56:24.256836Z"
    },
    "papermill": {
     "duration": 0.134416,
     "end_time": "2021-06-01T17:30:38.639972",
     "exception": false,
     "start_time": "2021-06-01T17:30:38.505556",
     "status": "completed"
    },
    "tags": []
   },
   "outputs": [],
   "source": [
    "torch.save(model_3drop.state_dict(), 'model_3drop.pth')"
   ]
  },
  {
   "cell_type": "code",
   "execution_count": 33,
   "id": "bigger-negotiation",
   "metadata": {
    "execution": {
     "iopub.execute_input": "2021-06-01T17:30:38.726890Z",
     "iopub.status.busy": "2021-06-01T17:30:38.726144Z",
     "iopub.status.idle": "2021-06-01T17:30:38.816405Z",
     "shell.execute_reply": "2021-06-01T17:30:38.815864Z",
     "shell.execute_reply.started": "2021-05-31T20:56:27.165886Z"
    },
    "papermill": {
     "duration": 0.135553,
     "end_time": "2021-06-01T17:30:38.816531",
     "exception": false,
     "start_time": "2021-06-01T17:30:38.680978",
     "status": "completed"
    },
    "tags": []
   },
   "outputs": [],
   "source": [
    "torch.save(model_inbit.state_dict(), 'model_inbit.pth')"
   ]
  }
 ],
 "metadata": {
  "kernelspec": {
   "display_name": "Python 3",
   "language": "python",
   "name": "python3"
  },
  "language_info": {
   "codemirror_mode": {
    "name": "ipython",
    "version": 3
   },
   "file_extension": ".py",
   "mimetype": "text/x-python",
   "name": "python",
   "nbconvert_exporter": "python",
   "pygments_lexer": "ipython3",
   "version": "3.8.8"
  },
  "papermill": {
   "default_parameters": {},
   "duration": 630.802105,
   "end_time": "2021-06-01T17:30:40.964273",
   "environment_variables": {},
   "exception": null,
   "input_path": "__notebook__.ipynb",
   "output_path": "__notebook__.ipynb",
   "parameters": {},
   "start_time": "2021-06-01T17:20:10.162168",
   "version": "2.3.3"
  },
  "widgets": {
   "application/vnd.jupyter.widget-state+json": {
    "state": {
     "2009fb9e7d804653b4d8146acd50b858": {
      "model_module": "@jupyter-widgets/controls",
      "model_module_version": "1.5.0",
      "model_name": "HTMLModel",
      "state": {
       "_dom_classes": [],
       "_model_module": "@jupyter-widgets/controls",
       "_model_module_version": "1.5.0",
       "_model_name": "HTMLModel",
       "_view_count": null,
       "_view_module": "@jupyter-widgets/controls",
       "_view_module_version": "1.5.0",
       "_view_name": "HTMLView",
       "description": "",
       "description_tooltip": null,
       "layout": "IPY_MODEL_c9a342b3b32944ac838574218b5c0cc2",
       "placeholder": "​",
       "style": "IPY_MODEL_e5384e6217024cd898ecbe01e39bb131",
       "value": " 30.8M/30.8M [00:02&lt;00:00, 23.5MB/s]"
      }
     },
     "35669f743a7a430caff318881e697d0e": {
      "model_module": "@jupyter-widgets/base",
      "model_module_version": "1.2.0",
      "model_name": "LayoutModel",
      "state": {
       "_model_module": "@jupyter-widgets/base",
       "_model_module_version": "1.2.0",
       "_model_name": "LayoutModel",
       "_view_count": null,
       "_view_module": "@jupyter-widgets/base",
       "_view_module_version": "1.2.0",
       "_view_name": "LayoutView",
       "align_content": null,
       "align_items": null,
       "align_self": null,
       "border": null,
       "bottom": null,
       "display": null,
       "flex": null,
       "flex_flow": null,
       "grid_area": null,
       "grid_auto_columns": null,
       "grid_auto_flow": null,
       "grid_auto_rows": null,
       "grid_column": null,
       "grid_gap": null,
       "grid_row": null,
       "grid_template_areas": null,
       "grid_template_columns": null,
       "grid_template_rows": null,
       "height": null,
       "justify_content": null,
       "justify_items": null,
       "left": null,
       "margin": null,
       "max_height": null,
       "max_width": null,
       "min_height": null,
       "min_width": null,
       "object_fit": null,
       "object_position": null,
       "order": null,
       "overflow": null,
       "overflow_x": null,
       "overflow_y": null,
       "padding": null,
       "right": null,
       "top": null,
       "visibility": null,
       "width": null
      }
     },
     "442294e1bf894b358c655515f6bcaa86": {
      "model_module": "@jupyter-widgets/base",
      "model_module_version": "1.2.0",
      "model_name": "LayoutModel",
      "state": {
       "_model_module": "@jupyter-widgets/base",
       "_model_module_version": "1.2.0",
       "_model_name": "LayoutModel",
       "_view_count": null,
       "_view_module": "@jupyter-widgets/base",
       "_view_module_version": "1.2.0",
       "_view_name": "LayoutView",
       "align_content": null,
       "align_items": null,
       "align_self": null,
       "border": null,
       "bottom": null,
       "display": null,
       "flex": null,
       "flex_flow": null,
       "grid_area": null,
       "grid_auto_columns": null,
       "grid_auto_flow": null,
       "grid_auto_rows": null,
       "grid_column": null,
       "grid_gap": null,
       "grid_row": null,
       "grid_template_areas": null,
       "grid_template_columns": null,
       "grid_template_rows": null,
       "height": null,
       "justify_content": null,
       "justify_items": null,
       "left": null,
       "margin": null,
       "max_height": null,
       "max_width": null,
       "min_height": null,
       "min_width": null,
       "object_fit": null,
       "object_position": null,
       "order": null,
       "overflow": null,
       "overflow_x": null,
       "overflow_y": null,
       "padding": null,
       "right": null,
       "top": null,
       "visibility": null,
       "width": null
      }
     },
     "5a2194749c004cb6b3e90ac3308e7e1c": {
      "model_module": "@jupyter-widgets/controls",
      "model_module_version": "1.5.0",
      "model_name": "HTMLModel",
      "state": {
       "_dom_classes": [],
       "_model_module": "@jupyter-widgets/controls",
       "_model_module_version": "1.5.0",
       "_model_name": "HTMLModel",
       "_view_count": null,
       "_view_module": "@jupyter-widgets/controls",
       "_view_module_version": "1.5.0",
       "_view_name": "HTMLView",
       "description": "",
       "description_tooltip": null,
       "layout": "IPY_MODEL_442294e1bf894b358c655515f6bcaa86",
       "placeholder": "​",
       "style": "IPY_MODEL_814be231736a45238addbeb3d7d63a40",
       "value": "100%"
      }
     },
     "6ccbffa29359439f81f35618ac140ee9": {
      "model_module": "@jupyter-widgets/controls",
      "model_module_version": "1.5.0",
      "model_name": "HBoxModel",
      "state": {
       "_dom_classes": [],
       "_model_module": "@jupyter-widgets/controls",
       "_model_module_version": "1.5.0",
       "_model_name": "HBoxModel",
       "_view_count": null,
       "_view_module": "@jupyter-widgets/controls",
       "_view_module_version": "1.5.0",
       "_view_name": "HBoxView",
       "box_style": "",
       "children": [
        "IPY_MODEL_5a2194749c004cb6b3e90ac3308e7e1c",
        "IPY_MODEL_8b019b03feeb43c2916e24986abde4a5",
        "IPY_MODEL_2009fb9e7d804653b4d8146acd50b858"
       ],
       "layout": "IPY_MODEL_35669f743a7a430caff318881e697d0e"
      }
     },
     "7be415cf270342c8a35190d6ed442ceb": {
      "model_module": "@jupyter-widgets/base",
      "model_module_version": "1.2.0",
      "model_name": "LayoutModel",
      "state": {
       "_model_module": "@jupyter-widgets/base",
       "_model_module_version": "1.2.0",
       "_model_name": "LayoutModel",
       "_view_count": null,
       "_view_module": "@jupyter-widgets/base",
       "_view_module_version": "1.2.0",
       "_view_name": "LayoutView",
       "align_content": null,
       "align_items": null,
       "align_self": null,
       "border": null,
       "bottom": null,
       "display": null,
       "flex": null,
       "flex_flow": null,
       "grid_area": null,
       "grid_auto_columns": null,
       "grid_auto_flow": null,
       "grid_auto_rows": null,
       "grid_column": null,
       "grid_gap": null,
       "grid_row": null,
       "grid_template_areas": null,
       "grid_template_columns": null,
       "grid_template_rows": null,
       "height": null,
       "justify_content": null,
       "justify_items": null,
       "left": null,
       "margin": null,
       "max_height": null,
       "max_width": null,
       "min_height": null,
       "min_width": null,
       "object_fit": null,
       "object_position": null,
       "order": null,
       "overflow": null,
       "overflow_x": null,
       "overflow_y": null,
       "padding": null,
       "right": null,
       "top": null,
       "visibility": null,
       "width": null
      }
     },
     "814be231736a45238addbeb3d7d63a40": {
      "model_module": "@jupyter-widgets/controls",
      "model_module_version": "1.5.0",
      "model_name": "DescriptionStyleModel",
      "state": {
       "_model_module": "@jupyter-widgets/controls",
       "_model_module_version": "1.5.0",
       "_model_name": "DescriptionStyleModel",
       "_view_count": null,
       "_view_module": "@jupyter-widgets/base",
       "_view_module_version": "1.2.0",
       "_view_name": "StyleView",
       "description_width": ""
      }
     },
     "8b019b03feeb43c2916e24986abde4a5": {
      "model_module": "@jupyter-widgets/controls",
      "model_module_version": "1.5.0",
      "model_name": "FloatProgressModel",
      "state": {
       "_dom_classes": [],
       "_model_module": "@jupyter-widgets/controls",
       "_model_module_version": "1.5.0",
       "_model_name": "FloatProgressModel",
       "_view_count": null,
       "_view_module": "@jupyter-widgets/controls",
       "_view_module_version": "1.5.0",
       "_view_name": "ProgressView",
       "bar_style": "success",
       "description": "",
       "description_tooltip": null,
       "layout": "IPY_MODEL_7be415cf270342c8a35190d6ed442ceb",
       "max": 32342954,
       "min": 0,
       "orientation": "horizontal",
       "style": "IPY_MODEL_9953c35c8d2c4294a653aa97c8954b1d",
       "value": 32342954
      }
     },
     "9953c35c8d2c4294a653aa97c8954b1d": {
      "model_module": "@jupyter-widgets/controls",
      "model_module_version": "1.5.0",
      "model_name": "ProgressStyleModel",
      "state": {
       "_model_module": "@jupyter-widgets/controls",
       "_model_module_version": "1.5.0",
       "_model_name": "ProgressStyleModel",
       "_view_count": null,
       "_view_module": "@jupyter-widgets/base",
       "_view_module_version": "1.2.0",
       "_view_name": "StyleView",
       "bar_color": null,
       "description_width": ""
      }
     },
     "c9a342b3b32944ac838574218b5c0cc2": {
      "model_module": "@jupyter-widgets/base",
      "model_module_version": "1.2.0",
      "model_name": "LayoutModel",
      "state": {
       "_model_module": "@jupyter-widgets/base",
       "_model_module_version": "1.2.0",
       "_model_name": "LayoutModel",
       "_view_count": null,
       "_view_module": "@jupyter-widgets/base",
       "_view_module_version": "1.2.0",
       "_view_name": "LayoutView",
       "align_content": null,
       "align_items": null,
       "align_self": null,
       "border": null,
       "bottom": null,
       "display": null,
       "flex": null,
       "flex_flow": null,
       "grid_area": null,
       "grid_auto_columns": null,
       "grid_auto_flow": null,
       "grid_auto_rows": null,
       "grid_column": null,
       "grid_gap": null,
       "grid_row": null,
       "grid_template_areas": null,
       "grid_template_columns": null,
       "grid_template_rows": null,
       "height": null,
       "justify_content": null,
       "justify_items": null,
       "left": null,
       "margin": null,
       "max_height": null,
       "max_width": null,
       "min_height": null,
       "min_width": null,
       "object_fit": null,
       "object_position": null,
       "order": null,
       "overflow": null,
       "overflow_x": null,
       "overflow_y": null,
       "padding": null,
       "right": null,
       "top": null,
       "visibility": null,
       "width": null
      }
     },
     "e5384e6217024cd898ecbe01e39bb131": {
      "model_module": "@jupyter-widgets/controls",
      "model_module_version": "1.5.0",
      "model_name": "DescriptionStyleModel",
      "state": {
       "_model_module": "@jupyter-widgets/controls",
       "_model_module_version": "1.5.0",
       "_model_name": "DescriptionStyleModel",
       "_view_count": null,
       "_view_module": "@jupyter-widgets/base",
       "_view_module_version": "1.2.0",
       "_view_name": "StyleView",
       "description_width": ""
      }
     }
    },
    "version_major": 2,
    "version_minor": 0
   }
  }
 },
 "nbformat": 4,
 "nbformat_minor": 5
}
