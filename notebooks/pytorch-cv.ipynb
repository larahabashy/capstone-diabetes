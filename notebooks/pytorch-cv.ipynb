{
 "cells": [
  {
   "cell_type": "markdown",
   "metadata": {},
   "source": [
    "# Example CV with PyTorch"
   ]
  },
  {
   "cell_type": "markdown",
   "metadata": {},
   "source": [
    "Here's a short example of doing CV with PyTorch. It basically involves pre-determining the splits for K-fold CV using sklearn's `StratifiedKFold` and then looping over the train/valid indices for each split and training and evaluating a model for each one. I've commented the code below so hopefully it should be relatively intuitive - let me know if not!"
   ]
  },
  {
   "cell_type": "markdown",
   "metadata": {},
   "source": [
    "## Imports"
   ]
  },
  {
   "cell_type": "code",
   "execution_count": 7,
   "metadata": {
    "_cell_guid": "b1076dfc-b9ad-4769-8c92-a6c4dae69d19",
    "_uuid": "8f2839f25d086af736a60e9eeb907d3b93b6e0e5"
   },
   "outputs": [],
   "source": [
    "import torch\n",
    "import numpy as np\n",
    "from torch.utils.data import SubsetRandomSampler, DataLoader\n",
    "from torchvision import transforms\n",
    "from torchvision.datasets import ImageFolder\n",
    "from sklearn.model_selection import StratifiedKFold"
   ]
  },
  {
   "cell_type": "markdown",
   "metadata": {},
   "source": [
    "## Data Preparation"
   ]
  },
  {
   "cell_type": "code",
   "execution_count": 8,
   "metadata": {},
   "outputs": [
    {
     "name": "stdout",
     "output_type": "stream",
     "text": [
      "Running CV fold: 1...\n",
      "Running CV fold: 2...\n",
      "Running CV fold: 3...\n",
      "Running CV fold: 4...\n",
      "Running CV fold: 5...\n",
      "Finished CV!\n"
     ]
    }
   ],
   "source": [
    "TRAIN_DIR = \"cropped_data/\"  # note that I removed the annotated subdirectory before running this code\n",
    "IMAGE_SIZE = 56\n",
    "BATCH_SIZE = 8\n",
    "torch.manual_seed(123)\n",
    "\n",
    "# Prepare dataset (I'm just using some random transforms here)\n",
    "train_transforms = transforms.Compose([\n",
    "    transforms.Grayscale(),\n",
    "    transforms.Resize((IMAGE_SIZE, IMAGE_SIZE)),\n",
    "    transforms.RandomHorizontalFlip(p=0.5),\n",
    "    transforms.RandomVerticalFlip(p=0.5),\n",
    "    transforms.ToTensor()\n",
    "])\n",
    "valid_transforms = transforms.Compose([\n",
    "    transforms.Grayscale(),\n",
    "    transforms.Resize((IMAGE_SIZE, IMAGE_SIZE)),\n",
    "    transforms.ToTensor()\n",
    "])\n",
    "\n",
    "# Create datasets\n",
    "# Note we are creating two \"datasets\", one with transfoorms for training, and one without for validation\n",
    "train_dataset = ImageFolder(root=TRAIN_DIR, transform=train_transforms)\n",
    "valid_dataset = ImageFolder(root=TRAIN_DIR, transform=valid_transforms)\n",
    "\n",
    "# Prepare folds\n",
    "n = len(train_dataset)  # total number of samples\n",
    "kfold_splitter = StratifiedKFold(n_splits=5, shuffle=True, random_state=123)\n",
    "splits = kfold_splitter.split(X=np.zeros(n), y=train_dataset.targets)  # we only need y to generate splits, so I'm setting X to be an array of 0's, it doesn't matter\n",
    "\n",
    "# Train/evaluate model via CV\n",
    "for fold, (train_idx, valid_idx) in enumerate(splits, 1):\n",
    "    print(f\"Running CV fold: {fold}...\")\n",
    "    # Loaders\n",
    "    train_loader = DataLoader(train_dataset, batch_size=BATCH_SIZE, sampler=SubsetRandomSampler(train_idx))\n",
    "    valid_loader = DataLoader(valid_dataset, batch_size=BATCH_SIZE, sampler=SubsetRandomSampler(valid_idx))\n",
    "    # Train model\n",
    "#     model = model()  # make an instance of the model here\n",
    "#     trainer()        # train the model as usual here, outputting whatever metrics you like\n",
    "print(f\"Finished CV!\")"
   ]
  }
 ],
 "metadata": {
  "kernelspec": {
   "display_name": "Python [conda env:pytorch]",
   "language": "python",
   "name": "conda-env-pytorch-py"
  },
  "language_info": {
   "codemirror_mode": {
    "name": "ipython",
    "version": 3
   },
   "file_extension": ".py",
   "mimetype": "text/x-python",
   "name": "python",
   "nbconvert_exporter": "python",
   "pygments_lexer": "ipython3",
   "version": "3.9.2"
  }
 },
 "nbformat": 4,
 "nbformat_minor": 4
}
