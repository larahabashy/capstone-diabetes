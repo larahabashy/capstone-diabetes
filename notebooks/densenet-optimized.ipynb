{
 "cells": [
  {
   "cell_type": "markdown",
   "id": "3a74ea17-f054-4c1a-8c85-4ca14f538754",
   "metadata": {},
   "source": [
    "## Optimizing Hyperparameters for DenseNet model\n",
    "\n",
    "This following notebook highlights the steps taken to tune the learning rate and beta1 hyperparameter of the Adam optimizer using bayesian optimization with the Ax package. The final optimized model was saved and then compared against other models in a manual inspection. \n",
    "\n",
    "**NOTE:** This notebook was run on Kaggle with the GPU Accelator Enabled. The data used for this notebook is available on the MDS-Capstone-GDLR OneDrive. You can find the data used in this notebook by navigating to the Data Processed Ultrasound directory and downloading the data_split_mapped sub-directory."
   ]
  },
  {
   "cell_type": "markdown",
   "id": "78e38ef9-df57-4726-9841-78e8e13dda93",
   "metadata": {},
   "source": [
    "## Imports"
   ]
  },
  {
   "cell_type": "code",
   "execution_count": 1,
   "id": "therapeutic-norfolk",
   "metadata": {
    "execution": {
     "iopub.execute_input": "2021-06-01T22:41:09.894657Z",
     "iopub.status.busy": "2021-06-01T22:41:09.893853Z",
     "iopub.status.idle": "2021-06-01T22:41:09.897259Z",
     "shell.execute_reply": "2021-06-01T22:41:09.897654Z",
     "shell.execute_reply.started": "2021-06-01T19:45:06.805682Z"
    },
    "id": "QsDyfUEC3swP",
    "outputId": "532fc36d-eb4b-4917-a957-6c08128ee22f",
    "papermill": {
     "duration": 0.039673,
     "end_time": "2021-06-01T22:41:09.897863",
     "exception": false,
     "start_time": "2021-06-01T22:41:09.858190",
     "status": "completed"
    },
    "tags": []
   },
   "outputs": [
    {
     "data": {
      "text/plain": [
       "'/kaggle/working'"
      ]
     },
     "execution_count": 1,
     "metadata": {},
     "output_type": "execute_result"
    }
   ],
   "source": [
    "pwd"
   ]
  },
  {
   "cell_type": "code",
   "execution_count": 2,
   "id": "experimental-tobacco",
   "metadata": {
    "execution": {
     "iopub.execute_input": "2021-06-01T22:41:09.960283Z",
     "iopub.status.busy": "2021-06-01T22:41:09.947690Z",
     "iopub.status.idle": "2021-06-01T22:42:31.672082Z",
     "shell.execute_reply": "2021-06-01T22:42:31.671461Z",
     "shell.execute_reply.started": "2021-06-01T19:45:31.968484Z"
    },
    "id": "VJV2Wnre2JQj",
    "outputId": "515536c9-25c9-4eea-99be-b192cf4fa97b",
    "papermill": {
     "duration": 81.7503,
     "end_time": "2021-06-01T22:42:31.672238",
     "exception": false,
     "start_time": "2021-06-01T22:41:09.921938",
     "status": "completed"
    },
    "tags": []
   },
   "outputs": [
    {
     "name": "stdout",
     "output_type": "stream",
     "text": [
      "Collecting ax-platform\n",
      "  Downloading ax_platform-0.1.20-py3-none-any.whl (704 kB)\n",
      "\u001b[K     |████████████████████████████████| 704 kB 2.9 MB/s \n",
      "\u001b[?25hRequirement already satisfied: plotly in /opt/conda/lib/python3.7/site-packages (from ax-platform) (4.14.3)\n",
      "Collecting botorch==0.4.0\n",
      "  Downloading botorch-0.4.0-py3-none-any.whl (395 kB)\n",
      "\u001b[K     |████████████████████████████████| 395 kB 29.9 MB/s \n",
      "\u001b[?25hRequirement already satisfied: scipy in /opt/conda/lib/python3.7/site-packages (from ax-platform) (1.5.4)\n",
      "Requirement already satisfied: scikit-learn in /opt/conda/lib/python3.7/site-packages (from ax-platform) (0.24.1)\n",
      "Requirement already satisfied: pandas in /opt/conda/lib/python3.7/site-packages (from ax-platform) (1.1.5)\n",
      "Requirement already satisfied: typeguard in /opt/conda/lib/python3.7/site-packages (from ax-platform) (2.12.0)\n",
      "Requirement already satisfied: jinja2 in /opt/conda/lib/python3.7/site-packages (from ax-platform) (2.11.3)\n",
      "Collecting gpytorch>=1.4\n",
      "  Downloading gpytorch-1.4.2-py2.py3-none-any.whl (492 kB)\n",
      "\u001b[K     |████████████████████████████████| 492 kB 27.6 MB/s \n",
      "\u001b[?25hCollecting torch>=1.7.1\n",
      "  Downloading torch-1.8.1-cp37-cp37m-manylinux1_x86_64.whl (804.1 MB)\n",
      "\u001b[K     |████████████████████████████████| 804.1 MB 1.7 kB/s \n",
      "\u001b[?25hRequirement already satisfied: numpy in /opt/conda/lib/python3.7/site-packages (from torch>=1.7.1->botorch==0.4.0->ax-platform) (1.19.5)\n",
      "Requirement already satisfied: typing-extensions in /opt/conda/lib/python3.7/site-packages (from torch>=1.7.1->botorch==0.4.0->ax-platform) (3.7.4.3)\n",
      "Requirement already satisfied: MarkupSafe>=0.23 in /opt/conda/lib/python3.7/site-packages (from jinja2->ax-platform) (1.1.1)\n",
      "Requirement already satisfied: python-dateutil>=2.7.3 in /opt/conda/lib/python3.7/site-packages (from pandas->ax-platform) (2.8.1)\n",
      "Requirement already satisfied: pytz>=2017.2 in /opt/conda/lib/python3.7/site-packages (from pandas->ax-platform) (2021.1)\n",
      "Requirement already satisfied: six>=1.5 in /opt/conda/lib/python3.7/site-packages (from python-dateutil>=2.7.3->pandas->ax-platform) (1.15.0)\n",
      "Requirement already satisfied: retrying>=1.3.3 in /opt/conda/lib/python3.7/site-packages (from plotly->ax-platform) (1.3.3)\n",
      "Requirement already satisfied: joblib>=0.11 in /opt/conda/lib/python3.7/site-packages (from scikit-learn->ax-platform) (1.0.1)\n",
      "Requirement already satisfied: threadpoolctl>=2.0.0 in /opt/conda/lib/python3.7/site-packages (from scikit-learn->ax-platform) (2.1.0)\n",
      "Installing collected packages: torch, gpytorch, botorch, ax-platform\n",
      "  Attempting uninstall: torch\n",
      "    Found existing installation: torch 1.7.0\n",
      "    Uninstalling torch-1.7.0:\n",
      "      Successfully uninstalled torch-1.7.0\n",
      "\u001b[31mERROR: pip's dependency resolver does not currently take into account all the packages that are installed. This behaviour is the source of the following dependency conflicts.\n",
      "fastai 2.3.0 requires torch<1.8,>=1.7.0, but you have torch 1.8.1 which is incompatible.\u001b[0m\n",
      "Successfully installed ax-platform-0.1.20 botorch-0.4.0 gpytorch-1.4.2 torch-1.8.1\n"
     ]
    }
   ],
   "source": [
    "!pip3 install ax-platform "
   ]
  },
  {
   "cell_type": "code",
   "execution_count": 3,
   "id": "choice-laser",
   "metadata": {
    "execution": {
     "iopub.execute_input": "2021-06-01T22:42:32.597200Z",
     "iopub.status.busy": "2021-06-01T22:42:32.596276Z",
     "iopub.status.idle": "2021-06-01T22:42:34.300612Z",
     "shell.execute_reply": "2021-06-01T22:42:34.299714Z",
     "shell.execute_reply.started": "2021-05-29T01:11:18.367422Z"
    },
    "papermill": {
     "duration": 2.164615,
     "end_time": "2021-06-01T22:42:34.300753",
     "exception": false,
     "start_time": "2021-06-01T22:42:32.136138",
     "status": "completed"
    },
    "tags": []
   },
   "outputs": [],
   "source": [
    "from ax.plot.contour import plot_contour\n",
    "from ax.plot.trace import optimization_trace_single_method\n",
    "from ax.service.managed_loop import optimize\n",
    "from ax.utils.notebook.plotting import render, init_notebook_plotting\n",
    "from ax.utils.tutorials.cnn_utils import load_mnist, train, evaluate, CNN"
   ]
  },
  {
   "cell_type": "code",
   "execution_count": 4,
   "id": "stone-paraguay",
   "metadata": {
    "execution": {
     "iopub.execute_input": "2021-06-01T22:42:34.863023Z",
     "iopub.status.busy": "2021-06-01T22:42:34.861669Z",
     "iopub.status.idle": "2021-06-01T22:42:47.377409Z",
     "shell.execute_reply": "2021-06-01T22:42:47.376869Z",
     "shell.execute_reply.started": "2021-05-29T01:11:20.133354Z"
    },
    "papermill": {
     "duration": 12.803643,
     "end_time": "2021-06-01T22:42:47.377538",
     "exception": false,
     "start_time": "2021-06-01T22:42:34.573895",
     "status": "completed"
    },
    "tags": []
   },
   "outputs": [
    {
     "name": "stdout",
     "output_type": "stream",
     "text": [
      "Requirement already satisfied: albumentations in /opt/conda/lib/python3.7/site-packages (0.5.2)\n",
      "Collecting albumentations\n",
      "  Downloading albumentations-1.0.0-py3-none-any.whl (98 kB)\n",
      "\u001b[K     |████████████████████████████████| 98 kB 2.0 MB/s \n",
      "\u001b[?25hRequirement already satisfied: numpy>=1.11.1 in /opt/conda/lib/python3.7/site-packages (from albumentations) (1.19.5)\n",
      "Requirement already satisfied: scikit-image>=0.16.1 in /opt/conda/lib/python3.7/site-packages (from albumentations) (0.18.1)\n",
      "Requirement already satisfied: opencv-python-headless>=4.1.1 in /opt/conda/lib/python3.7/site-packages (from albumentations) (4.5.1.48)\n",
      "Requirement already satisfied: scipy in /opt/conda/lib/python3.7/site-packages (from albumentations) (1.5.4)\n",
      "Requirement already satisfied: PyYAML in /opt/conda/lib/python3.7/site-packages (from albumentations) (5.3.1)\n",
      "Requirement already satisfied: imageio>=2.3.0 in /opt/conda/lib/python3.7/site-packages (from scikit-image>=0.16.1->albumentations) (2.9.0)\n",
      "Requirement already satisfied: tifffile>=2019.7.26 in /opt/conda/lib/python3.7/site-packages (from scikit-image>=0.16.1->albumentations) (2021.4.8)\n",
      "Requirement already satisfied: pillow!=7.1.0,!=7.1.1,>=4.3.0 in /opt/conda/lib/python3.7/site-packages (from scikit-image>=0.16.1->albumentations) (7.2.0)\n",
      "Requirement already satisfied: networkx>=2.0 in /opt/conda/lib/python3.7/site-packages (from scikit-image>=0.16.1->albumentations) (2.5)\n",
      "Requirement already satisfied: matplotlib!=3.0.0,>=2.0.0 in /opt/conda/lib/python3.7/site-packages (from scikit-image>=0.16.1->albumentations) (3.4.1)\n",
      "Requirement already satisfied: PyWavelets>=1.1.1 in /opt/conda/lib/python3.7/site-packages (from scikit-image>=0.16.1->albumentations) (1.1.1)\n",
      "Requirement already satisfied: python-dateutil>=2.7 in /opt/conda/lib/python3.7/site-packages (from matplotlib!=3.0.0,>=2.0.0->scikit-image>=0.16.1->albumentations) (2.8.1)\n",
      "Requirement already satisfied: kiwisolver>=1.0.1 in /opt/conda/lib/python3.7/site-packages (from matplotlib!=3.0.0,>=2.0.0->scikit-image>=0.16.1->albumentations) (1.3.1)\n",
      "Requirement already satisfied: pyparsing>=2.2.1 in /opt/conda/lib/python3.7/site-packages (from matplotlib!=3.0.0,>=2.0.0->scikit-image>=0.16.1->albumentations) (2.4.7)\n",
      "Requirement already satisfied: cycler>=0.10 in /opt/conda/lib/python3.7/site-packages (from matplotlib!=3.0.0,>=2.0.0->scikit-image>=0.16.1->albumentations) (0.10.0)\n",
      "Requirement already satisfied: six in /opt/conda/lib/python3.7/site-packages (from cycler>=0.10->matplotlib!=3.0.0,>=2.0.0->scikit-image>=0.16.1->albumentations) (1.15.0)\n",
      "Requirement already satisfied: decorator>=4.3.0 in /opt/conda/lib/python3.7/site-packages (from networkx>=2.0->scikit-image>=0.16.1->albumentations) (4.4.2)\n",
      "Installing collected packages: albumentations\n",
      "  Attempting uninstall: albumentations\n",
      "    Found existing installation: albumentations 0.5.2\n",
      "    Uninstalling albumentations-0.5.2:\n",
      "      Successfully uninstalled albumentations-0.5.2\n",
      "Successfully installed albumentations-1.0.0\n"
     ]
    }
   ],
   "source": [
    "!pip install -U albumentations"
   ]
  },
  {
   "cell_type": "code",
   "execution_count": 5,
   "id": "homeless-waterproof",
   "metadata": {
    "execution": {
     "iopub.execute_input": "2021-06-01T22:42:47.920175Z",
     "iopub.status.busy": "2021-06-01T22:42:47.919358Z",
     "iopub.status.idle": "2021-06-01T22:42:49.106790Z",
     "shell.execute_reply": "2021-06-01T22:42:49.105919Z",
     "shell.execute_reply.started": "2021-06-01T19:45:40.883285Z"
    },
    "id": "CDL2OkSb2JQk",
    "outputId": "d1614df7-bf45-4a98-8983-eada998f286e",
    "papermill": {
     "duration": 1.458319,
     "end_time": "2021-06-01T22:42:49.106933",
     "exception": false,
     "start_time": "2021-06-01T22:42:47.648614",
     "status": "completed"
    },
    "tags": []
   },
   "outputs": [],
   "source": [
    "import torch\n",
    "import numpy as np\n",
    "import pandas as pd\n",
    "import os\n",
    "\n",
    "from torchvision import models, datasets, utils#,transforms\n",
    "from collections import OrderedDict\n",
    "\n",
    "from torch import nn, optim\n",
    "import albumentations as A\n",
    "from albumentations.pytorch import ToTensorV2\n",
    "from PIL import Image"
   ]
  },
  {
   "cell_type": "code",
   "execution_count": 6,
   "id": "executive-wesley",
   "metadata": {
    "execution": {
     "iopub.execute_input": "2021-06-01T22:42:49.654510Z",
     "iopub.status.busy": "2021-06-01T22:42:49.653525Z",
     "iopub.status.idle": "2021-06-01T22:42:49.700715Z",
     "shell.execute_reply": "2021-06-01T22:42:49.700285Z",
     "shell.execute_reply.started": "2021-05-29T01:11:29.349678Z"
    },
    "papermill": {
     "duration": 0.323431,
     "end_time": "2021-06-01T22:42:49.700838",
     "exception": false,
     "start_time": "2021-06-01T22:42:49.377407",
     "status": "completed"
    },
    "tags": []
   },
   "outputs": [],
   "source": [
    "torch.manual_seed(2020)\n",
    "dtype = torch.float32\n",
    "device = torch.device(\"cuda\" if torch.cuda.is_available() else \"cpu\")"
   ]
  },
  {
   "cell_type": "markdown",
   "id": "major-victoria",
   "metadata": {
    "papermill": {
     "duration": 0.437006,
     "end_time": "2021-06-01T22:42:50.403516",
     "exception": false,
     "start_time": "2021-06-01T22:42:49.966510",
     "status": "completed"
    },
    "tags": []
   },
   "source": [
    "## Data"
   ]
  },
  {
   "cell_type": "code",
   "execution_count": 7,
   "id": "numerous-promise",
   "metadata": {
    "execution": {
     "iopub.execute_input": "2021-06-01T22:42:50.991633Z",
     "iopub.status.busy": "2021-06-01T22:42:50.990895Z",
     "iopub.status.idle": "2021-06-01T22:42:50.993944Z",
     "shell.execute_reply": "2021-06-01T22:42:50.994334Z",
     "shell.execute_reply.started": "2021-06-01T19:45:43.834485Z"
    },
    "id": "j6cV3aIk2JQl",
    "papermill": {
     "duration": 0.280972,
     "end_time": "2021-06-01T22:42:50.994478",
     "exception": false,
     "start_time": "2021-06-01T22:42:50.713506",
     "status": "completed"
    },
    "tags": []
   },
   "outputs": [],
   "source": [
    "IMAGE_SIZE = 300\n",
    "BATCH_SIZE = 8\n",
    "\n",
    "TRAIN_DIR = \"../input/lipodata4/data_split_unmapped/train\"\n",
    "VALID_DIR = \"../input/lipodata4/data_split_unmapped/val\"\n",
    "TEST_DIR = \"../input/lipodata4/data_split_unmapped/test\"\n",
    "\n",
    "train_transforms = A.Compose(\n",
    "    [\n",
    "        A.RandomBrightnessContrast(brightness_limit=(-0.1, 0.1), contrast_limit=(0, 1.0)),\n",
    "        A.VerticalFlip(),\n",
    "        A.HorizontalFlip(),\n",
    "        A.Resize(IMAGE_SIZE, IMAGE_SIZE),\n",
    "        ToTensorV2(),\n",
    "        \n",
    "    ]\n",
    ")\n",
    "\n",
    "valid_transforms = A.Compose(\n",
    "    [\n",
    "        A.Resize(height = 300, width = 300),\n",
    "        ToTensorV2(),\n",
    "        \n",
    "    ]\n",
    ")"
   ]
  },
  {
   "cell_type": "code",
   "execution_count": 8,
   "id": "intellectual-marketing",
   "metadata": {
    "execution": {
     "iopub.execute_input": "2021-06-01T22:42:51.535072Z",
     "iopub.status.busy": "2021-06-01T22:42:51.534007Z",
     "iopub.status.idle": "2021-06-01T22:42:51.542897Z",
     "shell.execute_reply": "2021-06-01T22:42:51.543318Z",
     "shell.execute_reply.started": "2021-06-01T19:45:46.027160Z"
    },
    "papermill": {
     "duration": 0.284019,
     "end_time": "2021-06-01T22:42:51.543464",
     "exception": false,
     "start_time": "2021-06-01T22:42:51.259445",
     "status": "completed"
    },
    "tags": []
   },
   "outputs": [],
   "source": [
    "class LipoDataset(torch.utils.data.Dataset):\n",
    "    def __init__(self, root_dir, transform=None):\n",
    "        self.transform = transform\n",
    "        self.root_dir = root_dir\n",
    "        \n",
    "        # Create a list of filepaths of images and the respective label\n",
    "        self.samples = []\n",
    "\n",
    "        for i in os.listdir(root_dir):\n",
    "            if i in [\"positive\", 'negative']:\n",
    "                folder = os.path.join(root_dir, i)\n",
    "                target = folder.split(\"/\")[-1]\n",
    "                for label in os.listdir(folder):\n",
    "                    filepath = os.path.join(folder, label)\n",
    "                    self.samples.append((target, filepath))\n",
    "\n",
    "\n",
    "    def __len__(self):\n",
    "        # Get the length of the samples \n",
    "        return len(self.samples)\n",
    "\n",
    "    def __getitem__(self, index):\n",
    "        # Implement logic to get an image and its label using the received index.\n",
    "        #\n",
    "        # `image` should be a NumPy array with the shape [height, width, num_channels].\n",
    "        # If an image contains three color channels, it should use an RGB color scheme.\n",
    "        #\n",
    "        # `label` should be an integer in the range [0, model.num_classes - 1] where `model.num_classes`\n",
    "        # is a value set in the `search.yaml` file.\n",
    "        \n",
    "        # get the filepath of the image based on the index and convert it to \n",
    "        # color scale and then into a numpy array\n",
    "        image = np.array(Image.open(self.samples[index][1]).convert(\"RGB\"))\n",
    "\n",
    "        # maps a label to an integer value\n",
    "        label_to_int = {\"positive\": 1, \"negative\": 0}\n",
    "        label = label_to_int[self.samples[index][0]]\n",
    "\n",
    "        if self.transform is not None:\n",
    "            transformed = self.transform(image=image)\n",
    "            image = transformed[\"image\"]\n",
    "            image = image/255\n",
    "\n",
    "        return image, label"
   ]
  },
  {
   "cell_type": "code",
   "execution_count": 9,
   "id": "random-sandwich",
   "metadata": {
    "execution": {
     "iopub.execute_input": "2021-06-01T22:42:52.091878Z",
     "iopub.status.busy": "2021-06-01T22:42:52.091280Z",
     "iopub.status.idle": "2021-06-01T22:42:52.173777Z",
     "shell.execute_reply": "2021-06-01T22:42:52.173300Z",
     "shell.execute_reply.started": "2021-06-01T19:45:48.460726Z"
    },
    "papermill": {
     "duration": 0.365796,
     "end_time": "2021-06-01T22:42:52.173932",
     "exception": false,
     "start_time": "2021-06-01T22:42:51.808136",
     "status": "completed"
    },
    "tags": []
   },
   "outputs": [
    {
     "name": "stdout",
     "output_type": "stream",
     "text": [
      "246\n",
      "(385, 429, 3)\n"
     ]
    }
   ],
   "source": [
    "# test if the above class works and outputs the appropriate info\n",
    "if __name__ == '__main__':\n",
    "    dataset = LipoDataset(TRAIN_DIR)\n",
    "    print(len(dataset))\n",
    "    print(dataset[0][0].shape)"
   ]
  },
  {
   "cell_type": "code",
   "execution_count": 10,
   "id": "strategic-receipt",
   "metadata": {
    "execution": {
     "iopub.execute_input": "2021-06-01T22:42:52.720433Z",
     "iopub.status.busy": "2021-06-01T22:42:52.719611Z",
     "iopub.status.idle": "2021-06-01T22:42:52.909894Z",
     "shell.execute_reply": "2021-06-01T22:42:52.909418Z",
     "shell.execute_reply.started": "2021-06-01T19:45:49.620717Z"
    },
    "papermill": {
     "duration": 0.468398,
     "end_time": "2021-06-01T22:42:52.910033",
     "exception": false,
     "start_time": "2021-06-01T22:42:52.441635",
     "status": "completed"
    },
    "tags": []
   },
   "outputs": [
    {
     "data": {
      "text/plain": [
       "torch.Size([8, 3, 300, 300])"
      ]
     },
     "execution_count": 10,
     "metadata": {},
     "output_type": "execute_result"
    }
   ],
   "source": [
    "# create a dataset and tranform the images \n",
    "dataset = LipoDataset(TRAIN_DIR, transform=train_transforms)\n",
    "v_dataset = LipoDataset(VALID_DIR, transform=valid_transforms)\n",
    "\n",
    "train_loader = torch.utils.data.DataLoader(dataset, batch_size=8, shuffle=True)\n",
    "valid_loader = torch.utils.data.DataLoader(v_dataset, batch_size=8)\n",
    "\n",
    "test_dataset = LipoDataset(TEST_DIR, transform=valid_transforms)\n",
    "test_loader = torch.utils.data.DataLoader(test_dataset, batch_size=BATCH_SIZE)\n",
    "\n",
    "img, label = next(iter(train_loader))\n",
    "img.shape"
   ]
  },
  {
   "cell_type": "code",
   "execution_count": 11,
   "id": "intelligent-chile",
   "metadata": {
    "execution": {
     "iopub.execute_input": "2021-06-01T22:42:53.494768Z",
     "iopub.status.busy": "2021-06-01T22:42:53.493858Z",
     "iopub.status.idle": "2021-06-01T22:42:53.886399Z",
     "shell.execute_reply": "2021-06-01T22:42:53.887058Z",
     "shell.execute_reply.started": "2021-05-29T01:11:29.721203Z"
    },
    "papermill": {
     "duration": 0.690181,
     "end_time": "2021-06-01T22:42:53.887273",
     "exception": false,
     "start_time": "2021-06-01T22:42:53.197092",
     "status": "completed"
    },
    "tags": []
   },
   "outputs": [
    {
     "data": {
      "image/png": "[encoded data removed]",
      "text/plain": [
       "<Figure size 1440x576 with 1 Axes>"
      ]
     },
     "metadata": {
      "needs_background": "light"
     },
     "output_type": "display_data"
    }
   ],
   "source": [
    "import matplotlib.pyplot as plt\n",
    "# plot the samples\n",
    "plt.figure(figsize=(20, 8)); plt.axis(\"off\"); plt.title(\"Sample Training Images\")\n",
    "plt.imshow(np.transpose(utils.make_grid(img, padding=1),(1, 2, 0)));"
   ]
  },
  {
   "cell_type": "markdown",
   "id": "3b39f6ba-3273-40d0-ac08-ac616652b6b6",
   "metadata": {},
   "source": [
    "## Training Functions"
   ]
  },
  {
   "cell_type": "code",
   "execution_count": 12,
   "id": "specific-heather",
   "metadata": {
    "execution": {
     "iopub.execute_input": "2021-06-01T22:42:54.744500Z",
     "iopub.status.busy": "2021-06-01T22:42:54.743787Z",
     "iopub.status.idle": "2021-06-01T22:42:54.747453Z",
     "shell.execute_reply": "2021-06-01T22:42:54.747019Z",
     "shell.execute_reply.started": "2021-05-29T01:11:30.050823Z"
    },
    "id": "LtA_MdIq2JQl",
    "outputId": "79821d56-1587-43e4-8c58-11807ebac132",
    "papermill": {
     "duration": 0.393111,
     "end_time": "2021-06-01T22:42:54.747578",
     "exception": false,
     "start_time": "2021-06-01T22:42:54.354467",
     "status": "completed"
    },
    "tags": []
   },
   "outputs": [],
   "source": [
    "def weights_init(m, verbose = False):\n",
    "    \"\"\"Initialize weights of each layer to make the results more reproducible\"\"\"\n",
    "    if isinstance(m, nn.Conv2d):\n",
    "        if verbose:\n",
    "            print(\"Initializing weights of a Conv2d layer!\")\n",
    "        nn.init.normal_(m.weight, mean=0, std=0.1)\n",
    "        if m.bias is not None:\n",
    "            nn.init.zeros_(m.bias)\n",
    "    elif isinstance(m, nn.BatchNorm2d): \n",
    "        if verbose:        \n",
    "            print(\"Initializing weights of a batchnorm layer!\")\n",
    "        nn.init.ones_(m.weight)\n",
    "        nn.init.zeros_(m.bias)\n",
    "    elif isinstance(m, nn.Linear):\n",
    "        if verbose:\n",
    "            print(\"Initializing weights of a Linear layer!\")\n",
    "        nn.init.xavier_uniform_(m.weight)\n",
    "        nn.init.zeros_(m.bias)"
   ]
  },
  {
   "cell_type": "code",
   "execution_count": 13,
   "id": "earned-marathon",
   "metadata": {
    "execution": {
     "iopub.execute_input": "2021-06-01T22:42:55.308682Z",
     "iopub.status.busy": "2021-06-01T22:42:55.307985Z",
     "iopub.status.idle": "2021-06-01T22:42:55.311493Z",
     "shell.execute_reply": "2021-06-01T22:42:55.310996Z",
     "shell.execute_reply.started": "2021-05-29T01:11:30.064703Z"
    },
    "papermill": {
     "duration": 0.290146,
     "end_time": "2021-06-01T22:42:55.311622",
     "exception": false,
     "start_time": "2021-06-01T22:42:55.021476",
     "status": "completed"
    },
    "tags": []
   },
   "outputs": [],
   "source": [
    "def make_model(dropout=False, rate=0.2):\n",
    "    densenet = models.densenet121(pretrained=True)\n",
    "    new_layers = torch.nn.Sequential(OrderedDict([\n",
    "            ('new1', torch.nn.Linear(1024, 500)),\n",
    "            ('relu', torch.nn.ReLU()),\n",
    "            ('new2', torch.nn.Linear(500, 1))\n",
    "    ]))\n",
    "    \n",
    "    densenet.classifier = new_layers\n",
    "    torch.manual_seed(2020)\n",
    "    densenet.apply(weights_init);\n",
    "    \n",
    "    return densenet"
   ]
  },
  {
   "cell_type": "code",
   "execution_count": 14,
   "id": "adjusted-charles",
   "metadata": {
    "execution": {
     "iopub.execute_input": "2021-06-01T22:42:55.873082Z",
     "iopub.status.busy": "2021-06-01T22:42:55.872426Z",
     "iopub.status.idle": "2021-06-01T22:42:55.875452Z",
     "shell.execute_reply": "2021-06-01T22:42:55.874995Z",
     "shell.execute_reply.started": "2021-05-29T01:11:30.079477Z"
    },
    "papermill": {
     "duration": 0.290937,
     "end_time": "2021-06-01T22:42:55.875570",
     "exception": false,
     "start_time": "2021-06-01T22:42:55.584633",
     "status": "completed"
    },
    "tags": []
   },
   "outputs": [],
   "source": [
    "def train(model, train_loader, hyperparameters, epochs=20):\n",
    "    \"\"\"Training wrapper for PyTorch network.\"\"\"\n",
    "\n",
    "    criterion = nn.BCEWithLogitsLoss()\n",
    "    optimizer = optim.Adam(model.parameters(),\n",
    "                           lr=hyperparameters.get(\"lr\", 0.001),\n",
    "                           betas=(hyperparameters.get(\"beta1\", 0.9), 0.999))\n",
    "    for epoch in range(epochs):\n",
    "        for X, y in train_loader:\n",
    "            if device.type == 'cuda':\n",
    "                X, y = X.to(device, torch.float32), y.to(device, torch.float32)\n",
    "            optimizer.zero_grad()\n",
    "            y_hat = model(X).flatten()\n",
    "            loss = criterion(y_hat, y.type(torch.float32))\n",
    "            loss.backward()\n",
    "            optimizer.step()\n",
    "    \n",
    "    return model"
   ]
  },
  {
   "cell_type": "code",
   "execution_count": 15,
   "id": "strange-catalyst",
   "metadata": {
    "execution": {
     "iopub.execute_input": "2021-06-01T22:42:56.436947Z",
     "iopub.status.busy": "2021-06-01T22:42:56.436384Z",
     "iopub.status.idle": "2021-06-01T22:42:56.440282Z",
     "shell.execute_reply": "2021-06-01T22:42:56.440675Z",
     "shell.execute_reply.started": "2021-05-29T01:11:30.094915Z"
    },
    "papermill": {
     "duration": 0.291006,
     "end_time": "2021-06-01T22:42:56.440846",
     "exception": false,
     "start_time": "2021-06-01T22:42:56.149840",
     "status": "completed"
    },
    "tags": []
   },
   "outputs": [],
   "source": [
    "def evaluate(model, valid_loader):\n",
    "    \"\"\"Validation wrapper for PyTorch network.\"\"\"\n",
    "    \n",
    "    model.eval()\n",
    "    accuracy = 0\n",
    "    with torch.no_grad():  # this stops pytorch doing computational graph stuff under-the-hood and saves memory and time\n",
    "        for X, y in valid_loader:\n",
    "            if device.type == 'cuda':\n",
    "                X, y = X.to(device, torch.float32), y.to(device, torch.float32)\n",
    "            y_hat = model(X).flatten()\n",
    "            y_hat_labels = torch.sigmoid(y_hat) > 0.5\n",
    "            accuracy += (y_hat_labels == y).type(torch.float32).sum().item()\n",
    "    accuracy /= len(valid_loader.dataset)  # avg accuracy\n",
    "    print(f\"Validation accuracy: {accuracy:.4f}\")\n",
    "    \n",
    "    return accuracy "
   ]
  },
  {
   "cell_type": "markdown",
   "id": "lined-gilbert",
   "metadata": {
    "papermill": {
     "duration": 0.274585,
     "end_time": "2021-06-01T22:42:56.993644",
     "exception": false,
     "start_time": "2021-06-01T22:42:56.719059",
     "status": "completed"
    },
    "tags": []
   },
   "source": [
    "## Train & Evaluate"
   ]
  },
  {
   "cell_type": "code",
   "execution_count": 16,
   "id": "theoretical-gather",
   "metadata": {
    "execution": {
     "iopub.execute_input": "2021-06-01T22:42:57.558682Z",
     "iopub.status.busy": "2021-06-01T22:42:57.555760Z",
     "iopub.status.idle": "2021-06-01T22:42:57.561429Z",
     "shell.execute_reply": "2021-06-01T22:42:57.560978Z",
     "shell.execute_reply.started": "2021-05-29T01:11:30.107906Z"
    },
    "papermill": {
     "duration": 0.289232,
     "end_time": "2021-06-01T22:42:57.561548",
     "exception": false,
     "start_time": "2021-06-01T22:42:57.272316",
     "status": "completed"
    },
    "tags": []
   },
   "outputs": [],
   "source": [
    "def train_evaluate(parameterization):\n",
    "    model = make_model()\n",
    "    device = torch.device('cuda' if torch.cuda.is_available() else 'cpu')\n",
    "    model.to(device)\n",
    "    model = train(model, train_loader, hyperparameters=parameterization, epochs=20)\n",
    "    return evaluate(model, valid_loader)"
   ]
  },
  {
   "cell_type": "code",
   "execution_count": 17,
   "id": "north-proportion",
   "metadata": {
    "execution": {
     "iopub.execute_input": "2021-06-01T22:42:58.326899Z",
     "iopub.status.busy": "2021-06-01T22:42:58.325215Z",
     "iopub.status.idle": "2021-06-01T23:11:10.095798Z",
     "shell.execute_reply": "2021-06-01T23:11:10.096457Z",
     "shell.execute_reply.started": "2021-05-29T01:11:30.124193Z"
    },
    "papermill": {
     "duration": 1692.260415,
     "end_time": "2021-06-01T23:11:10.096661",
     "exception": false,
     "start_time": "2021-06-01T22:42:57.836246",
     "status": "completed"
    },
    "tags": []
   },
   "outputs": [
    {
     "name": "stderr",
     "output_type": "stream",
     "text": [
      "[INFO 06-01 22:42:58] ax.modelbridge.dispatch_utils: Using Bayesian Optimization generation strategy: GenerationStrategy(name='Sobol+GPEI', steps=[Sobol for 5 trials, GPEI for subsequent trials]). Iterations after 5 will take longer to generate due to  model-fitting.\n",
      "[INFO 06-01 22:42:58] ax.service.managed_loop: Started full optimization with 15 steps.\n",
      "[INFO 06-01 22:42:58] ax.service.managed_loop: Running optimization trial 1...\n",
      "Downloading: \"https://download.pytorch.org/models/densenet121-a639ec97.pth\" to /root/.cache/torch/hub/checkpoints/densenet121-a639ec97.pth\n"
     ]
    },
    {
     "data": {
      "application/vnd.jupyter.widget-view+json": {
       "model_id": "c87742cd71194b80b6901d77c2490fd3",
       "version_major": 2,
       "version_minor": 0
      },
      "text/plain": [
       "  0%|          | 0.00/30.8M [00:00<?, ?B/s]"
      ]
     },
     "metadata": {},
     "output_type": "display_data"
    },
    {
     "name": "stderr",
     "output_type": "stream",
     "text": [
      "[INFO 06-01 22:44:56] ax.service.managed_loop: Running optimization trial 2...\n"
     ]
    },
    {
     "name": "stdout",
     "output_type": "stream",
     "text": [
      "Validation accuracy: 0.7358\n"
     ]
    },
    {
     "name": "stderr",
     "output_type": "stream",
     "text": [
      "[INFO 06-01 22:46:50] ax.service.managed_loop: Running optimization trial 3...\n"
     ]
    },
    {
     "name": "stdout",
     "output_type": "stream",
     "text": [
      "Validation accuracy: 0.8113\n"
     ]
    },
    {
     "name": "stderr",
     "output_type": "stream",
     "text": [
      "[INFO 06-01 22:48:44] ax.service.managed_loop: Running optimization trial 4...\n"
     ]
    },
    {
     "name": "stdout",
     "output_type": "stream",
     "text": [
      "Validation accuracy: 0.7547\n"
     ]
    },
    {
     "name": "stderr",
     "output_type": "stream",
     "text": [
      "[INFO 06-01 22:50:37] ax.service.managed_loop: Running optimization trial 5...\n"
     ]
    },
    {
     "name": "stdout",
     "output_type": "stream",
     "text": [
      "Validation accuracy: 0.8113\n"
     ]
    },
    {
     "name": "stderr",
     "output_type": "stream",
     "text": [
      "[INFO 06-01 22:52:28] ax.service.managed_loop: Running optimization trial 6...\n"
     ]
    },
    {
     "name": "stdout",
     "output_type": "stream",
     "text": [
      "Validation accuracy: 0.6226\n"
     ]
    },
    {
     "name": "stderr",
     "output_type": "stream",
     "text": [
      "[INFO 06-01 22:54:21] ax.service.managed_loop: Running optimization trial 7...\n"
     ]
    },
    {
     "name": "stdout",
     "output_type": "stream",
     "text": [
      "Validation accuracy: 0.6226\n"
     ]
    },
    {
     "name": "stderr",
     "output_type": "stream",
     "text": [
      "[INFO 06-01 22:56:12] ax.service.managed_loop: Running optimization trial 8...\n"
     ]
    },
    {
     "name": "stdout",
     "output_type": "stream",
     "text": [
      "Validation accuracy: 0.7547\n"
     ]
    },
    {
     "name": "stderr",
     "output_type": "stream",
     "text": [
      "[INFO 06-01 22:58:04] ax.service.managed_loop: Running optimization trial 9...\n"
     ]
    },
    {
     "name": "stdout",
     "output_type": "stream",
     "text": [
      "Validation accuracy: 0.7925\n"
     ]
    },
    {
     "name": "stderr",
     "output_type": "stream",
     "text": [
      "[INFO 06-01 22:59:55] ax.service.managed_loop: Running optimization trial 10...\n"
     ]
    },
    {
     "name": "stdout",
     "output_type": "stream",
     "text": [
      "Validation accuracy: 0.6226\n"
     ]
    },
    {
     "name": "stderr",
     "output_type": "stream",
     "text": [
      "[INFO 06-01 23:01:47] ax.service.managed_loop: Running optimization trial 11...\n"
     ]
    },
    {
     "name": "stdout",
     "output_type": "stream",
     "text": [
      "Validation accuracy: 0.7925\n"
     ]
    },
    {
     "name": "stderr",
     "output_type": "stream",
     "text": [
      "[INFO 06-01 23:03:38] ax.service.managed_loop: Running optimization trial 12...\n"
     ]
    },
    {
     "name": "stdout",
     "output_type": "stream",
     "text": [
      "Validation accuracy: 0.7547\n"
     ]
    },
    {
     "name": "stderr",
     "output_type": "stream",
     "text": [
      "[INFO 06-01 23:05:32] ax.service.managed_loop: Running optimization trial 13...\n"
     ]
    },
    {
     "name": "stdout",
     "output_type": "stream",
     "text": [
      "Validation accuracy: 0.7925\n"
     ]
    },
    {
     "name": "stderr",
     "output_type": "stream",
     "text": [
      "[INFO 06-01 23:07:24] ax.service.managed_loop: Running optimization trial 14...\n"
     ]
    },
    {
     "name": "stdout",
     "output_type": "stream",
     "text": [
      "Validation accuracy: 0.6792\n"
     ]
    },
    {
     "name": "stderr",
     "output_type": "stream",
     "text": [
      "[INFO 06-01 23:09:17] ax.service.managed_loop: Running optimization trial 15...\n"
     ]
    },
    {
     "name": "stdout",
     "output_type": "stream",
     "text": [
      "Validation accuracy: 0.7170\n",
      "Validation accuracy: 0.7547\n"
     ]
    }
   ],
   "source": [
    "best_parameters, values, experiment, model = optimize(\n",
    "    parameters=[\n",
    "        {\"name\": \"lr\", \"type\": \"range\", \"bounds\": [1e-6, 0.4], \"log_scale\": True, \"value_type\": 'float'},\n",
    "        {\"name\": \"beta1\", \"type\": \"range\", \"bounds\": [0.5, 0.999], \"value_type\": 'float'},\n",
    "    ],\n",
    "    evaluation_function=train_evaluate,\n",
    "    objective_name='accuracy',\n",
    "    total_trials = 15\n",
    ")"
   ]
  },
  {
   "cell_type": "code",
   "execution_count": 18,
   "id": "exempt-former",
   "metadata": {
    "execution": {
     "iopub.execute_input": "2021-06-01T23:11:10.659267Z",
     "iopub.status.busy": "2021-06-01T23:11:10.658455Z",
     "iopub.status.idle": "2021-06-01T23:11:10.663902Z",
     "shell.execute_reply": "2021-06-01T23:11:10.663489Z",
     "shell.execute_reply.started": "2021-05-29T01:28:26.583642Z"
    },
    "papermill": {
     "duration": 0.290763,
     "end_time": "2021-06-01T23:11:10.664033",
     "exception": false,
     "start_time": "2021-06-01T23:11:10.373270",
     "status": "completed"
    },
    "tags": []
   },
   "outputs": [
    {
     "data": {
      "text/plain": [
       "{'lr': 5.474673900063529e-05, 'beta1': 0.7190195309642723}"
      ]
     },
     "execution_count": 18,
     "metadata": {},
     "output_type": "execute_result"
    }
   ],
   "source": [
    "best_parameters"
   ]
  },
  {
   "cell_type": "code",
   "execution_count": 19,
   "id": "dramatic-delaware",
   "metadata": {
    "execution": {
     "iopub.execute_input": "2021-06-01T23:11:11.265805Z",
     "iopub.status.busy": "2021-06-01T23:11:11.264837Z",
     "iopub.status.idle": "2021-06-01T23:11:11.269041Z",
     "shell.execute_reply": "2021-06-01T23:11:11.269413Z",
     "shell.execute_reply.started": "2021-05-29T01:28:26.593084Z"
    },
    "papermill": {
     "duration": 0.292563,
     "end_time": "2021-06-01T23:11:11.269554",
     "exception": false,
     "start_time": "2021-06-01T23:11:10.976991",
     "status": "completed"
    },
    "tags": []
   },
   "outputs": [
    {
     "data": {
      "text/plain": [
       "({'accuracy': 0.7680588581366349},\n",
       " {'accuracy': {'accuracy': 0.0007467402851165503}})"
      ]
     },
     "execution_count": 19,
     "metadata": {},
     "output_type": "execute_result"
    }
   ],
   "source": [
    "means, covariances = values\n",
    "means, covariances"
   ]
  },
  {
   "cell_type": "code",
   "execution_count": 20,
   "id": "alive-mortgage",
   "metadata": {
    "execution": {
     "iopub.execute_input": "2021-06-01T23:11:11.845288Z",
     "iopub.status.busy": "2021-06-01T23:11:11.844610Z",
     "iopub.status.idle": "2021-06-01T23:11:11.847371Z",
     "shell.execute_reply": "2021-06-01T23:11:11.847885Z",
     "shell.execute_reply.started": "2021-05-29T01:28:26.609555Z"
    },
    "papermill": {
     "duration": 0.305454,
     "end_time": "2021-06-01T23:11:11.848043",
     "exception": false,
     "start_time": "2021-06-01T23:11:11.542589",
     "status": "completed"
    },
    "tags": []
   },
   "outputs": [
    {
     "data": {
      "text/plain": [
       "Arm(name='1_0', parameters={'lr': 0.0002815530268824281, 'beta1': 0.8314050829755142})"
      ]
     },
     "execution_count": 20,
     "metadata": {},
     "output_type": "execute_result"
    }
   ],
   "source": [
    "data = experiment.fetch_data()\n",
    "df = data.df\n",
    "best_arm_name = df.arm_name[df['mean'] == df['mean'].max()].values[0]\n",
    "best_arm = experiment.arms_by_name[best_arm_name]\n",
    "best_arm"
   ]
  },
  {
   "cell_type": "markdown",
   "id": "sunset-grocery",
   "metadata": {
    "papermill": {
     "duration": 0.285816,
     "end_time": "2021-06-01T23:11:12.415941",
     "exception": false,
     "start_time": "2021-06-01T23:11:12.130125",
     "status": "completed"
    },
    "tags": []
   },
   "source": [
    "## Viz"
   ]
  },
  {
   "cell_type": "code",
   "execution_count": 21,
   "id": "nearby-champion",
   "metadata": {
    "execution": {
     "iopub.execute_input": "2021-06-01T23:11:12.992847Z",
     "iopub.status.busy": "2021-06-01T23:11:12.992301Z",
     "iopub.status.idle": "2021-06-01T23:11:13.804105Z",
     "shell.execute_reply": "2021-06-01T23:11:13.804533Z",
     "shell.execute_reply.started": "2021-05-29T01:45:37.448114Z"
    },
    "id": "MtKdlivg2JQp",
    "outputId": "a8a6e431-36c8-4d7f-ca3c-510dcfd82922",
    "papermill": {
     "duration": 1.110721,
     "end_time": "2021-06-01T23:11:13.804683",
     "exception": false,
     "start_time": "2021-06-01T23:11:12.693962",
     "status": "completed"
    },
    "tags": []
   },
   "outputs": [
    {
     "data": {
      "text/html": [
       "        <script type=\"text/javascript\">\n",
       "        window.PlotlyConfig = {MathJaxConfig: 'local'};\n",
       "        if (window.MathJax) {MathJax.Hub.Config({SVG: {font: \"STIX-Web\"}});}\n",
       "        if (typeof require !== 'undefined') {\n",
       "        require.undef(\"plotly\");\n",
       "        requirejs.config({\n",
       "            paths: {\n",
       "                'plotly': ['https://cdn.plot.ly/plotly-latest.min']\n",
       "            }\n",
       "        });\n",
       "        require(['plotly'], function(Plotly) {\n",
       "            window._Plotly = Plotly;\n",
       "        });\n",
       "        }\n",
       "        </script>\n",
       "        "
      ]
     },
     "metadata": {},
     "output_type": "display_data"
    },
    {
     "data": {
      "text/html": [
       "<div>                            <div id=\"1ba0af55-ebb3-4229-952f-dd6217969020\" class=\"plotly-graph-div\" style=\"height:525px; width:100%;\"></div>            <script type=\"text/javascript\">                require([\"plotly\"], function(Plotly) {                    window.PLOTLYENV=window.PLOTLYENV || {};                                    if (document.getElementById(\"1ba0af55-ebb3-4229-952f-dd6217969020\")) {                    Plotly.newPlot(                        \"1ba0af55-ebb3-4229-952f-dd6217969020\",                        [{\"hoverinfo\": \"none\", \"legendgroup\": \"\", \"line\": {\"width\": 0}, \"mode\": \"lines\", \"showlegend\": false, \"type\": \"scatter\", \"x\": [1, 2, 3, 4, 5, 6, 7, 8, 9, 10, 11, 12, 13, 14, 15], \"y\": [73.58490566037736, 81.13207547169812, 81.13207547169812, 81.13207547169812, 81.13207547169812, 81.13207547169812, 81.13207547169812, 81.13207547169812, 81.13207547169812, 81.13207547169812, 81.13207547169812, 81.13207547169812, 81.13207547169812, 81.13207547169812, 81.13207547169812]}, {\"fill\": \"tonexty\", \"fillcolor\": \"rgba(128,177,211,0.3)\", \"legendgroup\": \"mean\", \"line\": {\"color\": \"rgba(128,177,211,1)\"}, \"mode\": \"lines\", \"name\": \"mean\", \"type\": \"scatter\", \"x\": [1, 2, 3, 4, 5, 6, 7, 8, 9, 10, 11, 12, 13, 14, 15], \"y\": [73.58490566037736, 81.13207547169812, 81.13207547169812, 81.13207547169812, 81.13207547169812, 81.13207547169812, 81.13207547169812, 81.13207547169812, 81.13207547169812, 81.13207547169812, 81.13207547169812, 81.13207547169812, 81.13207547169812, 81.13207547169812, 81.13207547169812]}, {\"fill\": \"tonexty\", \"fillcolor\": \"rgba(128,177,211,0.3)\", \"hoverinfo\": \"none\", \"legendgroup\": \"\", \"line\": {\"width\": 0}, \"mode\": \"lines\", \"showlegend\": false, \"type\": \"scatter\", \"x\": [1, 2, 3, 4, 5, 6, 7, 8, 9, 10, 11, 12, 13, 14, 15], \"y\": [73.58490566037736, 81.13207547169812, 81.13207547169812, 81.13207547169812, 81.13207547169812, 81.13207547169812, 81.13207547169812, 81.13207547169812, 81.13207547169812, 81.13207547169812, 81.13207547169812, 81.13207547169812, 81.13207547169812, 81.13207547169812, 81.13207547169812]}],                        {\"showlegend\": true, \"template\": {\"data\": {\"bar\": [{\"error_x\": {\"color\": \"#2a3f5f\"}, \"error_y\": {\"color\": \"#2a3f5f\"}, \"marker\": {\"line\": {\"color\": \"#E5ECF6\", \"width\": 0.5}}, \"type\": \"bar\"}], \"barpolar\": [{\"marker\": {\"line\": {\"color\": \"#E5ECF6\", \"width\": 0.5}}, \"type\": \"barpolar\"}], \"carpet\": [{\"aaxis\": {\"endlinecolor\": \"#2a3f5f\", \"gridcolor\": \"white\", \"linecolor\": \"white\", \"minorgridcolor\": \"white\", \"startlinecolor\": \"#2a3f5f\"}, \"baxis\": {\"endlinecolor\": \"#2a3f5f\", \"gridcolor\": \"white\", \"linecolor\": \"white\", \"minorgridcolor\": \"white\", \"startlinecolor\": \"#2a3f5f\"}, \"type\": \"carpet\"}], \"choropleth\": [{\"colorbar\": {\"outlinewidth\": 0, \"ticks\": \"\"}, \"type\": \"choropleth\"}], \"contour\": [{\"colorbar\": {\"outlinewidth\": 0, \"ticks\": \"\"}, \"colorscale\": [[0.0, \"#0d0887\"], [0.1111111111111111, \"#46039f\"], [0.2222222222222222, \"#7201a8\"], [0.3333333333333333, \"#9c179e\"], [0.4444444444444444, \"#bd3786\"], [0.5555555555555556, \"#d8576b\"], [0.6666666666666666, \"#ed7953\"], [0.7777777777777778, \"#fb9f3a\"], [0.8888888888888888, \"#fdca26\"], [1.0, \"#f0f921\"]], \"type\": \"contour\"}], \"contourcarpet\": [{\"colorbar\": {\"outlinewidth\": 0, \"ticks\": \"\"}, \"type\": \"contourcarpet\"}], \"heatmap\": [{\"colorbar\": {\"outlinewidth\": 0, \"ticks\": \"\"}, \"colorscale\": [[0.0, \"#0d0887\"], [0.1111111111111111, \"#46039f\"], [0.2222222222222222, \"#7201a8\"], [0.3333333333333333, \"#9c179e\"], [0.4444444444444444, \"#bd3786\"], [0.5555555555555556, \"#d8576b\"], [0.6666666666666666, \"#ed7953\"], [0.7777777777777778, \"#fb9f3a\"], [0.8888888888888888, \"#fdca26\"], [1.0, \"#f0f921\"]], \"type\": \"heatmap\"}], \"heatmapgl\": [{\"colorbar\": {\"outlinewidth\": 0, \"ticks\": \"\"}, \"colorscale\": [[0.0, \"#0d0887\"], [0.1111111111111111, \"#46039f\"], [0.2222222222222222, \"#7201a8\"], [0.3333333333333333, \"#9c179e\"], [0.4444444444444444, \"#bd3786\"], [0.5555555555555556, \"#d8576b\"], [0.6666666666666666, \"#ed7953\"], [0.7777777777777778, \"#fb9f3a\"], [0.8888888888888888, \"#fdca26\"], [1.0, \"#f0f921\"]], \"type\": \"heatmapgl\"}], \"histogram\": [{\"marker\": {\"colorbar\": {\"outlinewidth\": 0, \"ticks\": \"\"}}, \"type\": \"histogram\"}], \"histogram2d\": [{\"colorbar\": {\"outlinewidth\": 0, \"ticks\": \"\"}, \"colorscale\": [[0.0, \"#0d0887\"], [0.1111111111111111, \"#46039f\"], [0.2222222222222222, \"#7201a8\"], [0.3333333333333333, \"#9c179e\"], [0.4444444444444444, \"#bd3786\"], [0.5555555555555556, \"#d8576b\"], [0.6666666666666666, \"#ed7953\"], [0.7777777777777778, \"#fb9f3a\"], [0.8888888888888888, \"#fdca26\"], [1.0, \"#f0f921\"]], \"type\": \"histogram2d\"}], \"histogram2dcontour\": [{\"colorbar\": {\"outlinewidth\": 0, \"ticks\": \"\"}, \"colorscale\": [[0.0, \"#0d0887\"], [0.1111111111111111, \"#46039f\"], [0.2222222222222222, \"#7201a8\"], [0.3333333333333333, \"#9c179e\"], [0.4444444444444444, \"#bd3786\"], [0.5555555555555556, \"#d8576b\"], [0.6666666666666666, \"#ed7953\"], [0.7777777777777778, \"#fb9f3a\"], [0.8888888888888888, \"#fdca26\"], [1.0, \"#f0f921\"]], \"type\": \"histogram2dcontour\"}], \"mesh3d\": [{\"colorbar\": {\"outlinewidth\": 0, \"ticks\": \"\"}, \"type\": \"mesh3d\"}], \"parcoords\": [{\"line\": {\"colorbar\": {\"outlinewidth\": 0, \"ticks\": \"\"}}, \"type\": \"parcoords\"}], \"pie\": [{\"automargin\": true, \"type\": \"pie\"}], \"scatter\": [{\"marker\": {\"colorbar\": {\"outlinewidth\": 0, \"ticks\": \"\"}}, \"type\": \"scatter\"}], \"scatter3d\": [{\"line\": {\"colorbar\": {\"outlinewidth\": 0, \"ticks\": \"\"}}, \"marker\": {\"colorbar\": {\"outlinewidth\": 0, \"ticks\": \"\"}}, \"type\": \"scatter3d\"}], \"scattercarpet\": [{\"marker\": {\"colorbar\": {\"outlinewidth\": 0, \"ticks\": \"\"}}, \"type\": \"scattercarpet\"}], \"scattergeo\": [{\"marker\": {\"colorbar\": {\"outlinewidth\": 0, \"ticks\": \"\"}}, \"type\": \"scattergeo\"}], \"scattergl\": [{\"marker\": {\"colorbar\": {\"outlinewidth\": 0, \"ticks\": \"\"}}, \"type\": \"scattergl\"}], \"scattermapbox\": [{\"marker\": {\"colorbar\": {\"outlinewidth\": 0, \"ticks\": \"\"}}, \"type\": \"scattermapbox\"}], \"scatterpolar\": [{\"marker\": {\"colorbar\": {\"outlinewidth\": 0, \"ticks\": \"\"}}, \"type\": \"scatterpolar\"}], \"scatterpolargl\": [{\"marker\": {\"colorbar\": {\"outlinewidth\": 0, \"ticks\": \"\"}}, \"type\": \"scatterpolargl\"}], \"scatterternary\": [{\"marker\": {\"colorbar\": {\"outlinewidth\": 0, \"ticks\": \"\"}}, \"type\": \"scatterternary\"}], \"surface\": [{\"colorbar\": {\"outlinewidth\": 0, \"ticks\": \"\"}, \"colorscale\": [[0.0, \"#0d0887\"], [0.1111111111111111, \"#46039f\"], [0.2222222222222222, \"#7201a8\"], [0.3333333333333333, \"#9c179e\"], [0.4444444444444444, \"#bd3786\"], [0.5555555555555556, \"#d8576b\"], [0.6666666666666666, \"#ed7953\"], [0.7777777777777778, \"#fb9f3a\"], [0.8888888888888888, \"#fdca26\"], [1.0, \"#f0f921\"]], \"type\": \"surface\"}], \"table\": [{\"cells\": {\"fill\": {\"color\": \"#EBF0F8\"}, \"line\": {\"color\": \"white\"}}, \"header\": {\"fill\": {\"color\": \"#C8D4E3\"}, \"line\": {\"color\": \"white\"}}, \"type\": \"table\"}]}, \"layout\": {\"annotationdefaults\": {\"arrowcolor\": \"#2a3f5f\", \"arrowhead\": 0, \"arrowwidth\": 1}, \"autotypenumbers\": \"strict\", \"coloraxis\": {\"colorbar\": {\"outlinewidth\": 0, \"ticks\": \"\"}}, \"colorscale\": {\"diverging\": [[0, \"#8e0152\"], [0.1, \"#c51b7d\"], [0.2, \"#de77ae\"], [0.3, \"#f1b6da\"], [0.4, \"#fde0ef\"], [0.5, \"#f7f7f7\"], [0.6, \"#e6f5d0\"], [0.7, \"#b8e186\"], [0.8, \"#7fbc41\"], [0.9, \"#4d9221\"], [1, \"#276419\"]], \"sequential\": [[0.0, \"#0d0887\"], [0.1111111111111111, \"#46039f\"], [0.2222222222222222, \"#7201a8\"], [0.3333333333333333, \"#9c179e\"], [0.4444444444444444, \"#bd3786\"], [0.5555555555555556, \"#d8576b\"], [0.6666666666666666, \"#ed7953\"], [0.7777777777777778, \"#fb9f3a\"], [0.8888888888888888, \"#fdca26\"], [1.0, \"#f0f921\"]], \"sequentialminus\": [[0.0, \"#0d0887\"], [0.1111111111111111, \"#46039f\"], [0.2222222222222222, \"#7201a8\"], [0.3333333333333333, \"#9c179e\"], [0.4444444444444444, \"#bd3786\"], [0.5555555555555556, \"#d8576b\"], [0.6666666666666666, \"#ed7953\"], [0.7777777777777778, \"#fb9f3a\"], [0.8888888888888888, \"#fdca26\"], [1.0, \"#f0f921\"]]}, \"colorway\": [\"#636efa\", \"#EF553B\", \"#00cc96\", \"#ab63fa\", \"#FFA15A\", \"#19d3f3\", \"#FF6692\", \"#B6E880\", \"#FF97FF\", \"#FECB52\"], \"font\": {\"color\": \"#2a3f5f\"}, \"geo\": {\"bgcolor\": \"white\", \"lakecolor\": \"white\", \"landcolor\": \"#E5ECF6\", \"showlakes\": true, \"showland\": true, \"subunitcolor\": \"white\"}, \"hoverlabel\": {\"align\": \"left\"}, \"hovermode\": \"closest\", \"mapbox\": {\"style\": \"light\"}, \"paper_bgcolor\": \"white\", \"plot_bgcolor\": \"#E5ECF6\", \"polar\": {\"angularaxis\": {\"gridcolor\": \"white\", \"linecolor\": \"white\", \"ticks\": \"\"}, \"bgcolor\": \"#E5ECF6\", \"radialaxis\": {\"gridcolor\": \"white\", \"linecolor\": \"white\", \"ticks\": \"\"}}, \"scene\": {\"xaxis\": {\"backgroundcolor\": \"#E5ECF6\", \"gridcolor\": \"white\", \"gridwidth\": 2, \"linecolor\": \"white\", \"showbackground\": true, \"ticks\": \"\", \"zerolinecolor\": \"white\"}, \"yaxis\": {\"backgroundcolor\": \"#E5ECF6\", \"gridcolor\": \"white\", \"gridwidth\": 2, \"linecolor\": \"white\", \"showbackground\": true, \"ticks\": \"\", \"zerolinecolor\": \"white\"}, \"zaxis\": {\"backgroundcolor\": \"#E5ECF6\", \"gridcolor\": \"white\", \"gridwidth\": 2, \"linecolor\": \"white\", \"showbackground\": true, \"ticks\": \"\", \"zerolinecolor\": \"white\"}}, \"shapedefaults\": {\"line\": {\"color\": \"#2a3f5f\"}}, \"ternary\": {\"aaxis\": {\"gridcolor\": \"white\", \"linecolor\": \"white\", \"ticks\": \"\"}, \"baxis\": {\"gridcolor\": \"white\", \"linecolor\": \"white\", \"ticks\": \"\"}, \"bgcolor\": \"#E5ECF6\", \"caxis\": {\"gridcolor\": \"white\", \"linecolor\": \"white\", \"ticks\": \"\"}}, \"title\": {\"x\": 0.05}, \"xaxis\": {\"automargin\": true, \"gridcolor\": \"white\", \"linecolor\": \"white\", \"ticks\": \"\", \"title\": {\"standoff\": 15}, \"zerolinecolor\": \"white\", \"zerolinewidth\": 2}, \"yaxis\": {\"automargin\": true, \"gridcolor\": \"white\", \"linecolor\": \"white\", \"ticks\": \"\", \"title\": {\"standoff\": 15}, \"zerolinecolor\": \"white\", \"zerolinewidth\": 2}}}, \"title\": {\"text\": \"Model performance vs. # of iterations\"}, \"xaxis\": {\"title\": {\"text\": \"Iteration\"}}, \"yaxis\": {\"title\": {\"text\": \"Classification Accuracy, %\"}}},                        {\"responsive\": true}                    ).then(function(){\n",
       "                            \n",
       "var gd = document.getElementById('1ba0af55-ebb3-4229-952f-dd6217969020');\n",
       "var x = new MutationObserver(function (mutations, observer) {{\n",
       "        var display = window.getComputedStyle(gd).display;\n",
       "        if (!display || display === 'none') {{\n",
       "            console.log([gd, 'removed!']);\n",
       "            Plotly.purge(gd);\n",
       "            observer.disconnect();\n",
       "        }}\n",
       "}});\n",
       "\n",
       "// Listen for the removal of the full notebook cells\n",
       "var notebookContainer = gd.closest('#notebook-container');\n",
       "if (notebookContainer) {{\n",
       "    x.observe(notebookContainer, {childList: true});\n",
       "}}\n",
       "\n",
       "// Listen for the clearing of the current output cell\n",
       "var outputEl = gd.closest('.output');\n",
       "if (outputEl) {{\n",
       "    x.observe(outputEl, {childList: true});\n",
       "}}\n",
       "\n",
       "                        })                };                });            </script>        </div>"
      ]
     },
     "metadata": {},
     "output_type": "display_data"
    }
   ],
   "source": [
    "best_objectives = np.array([[trial.objective_mean*100 for trial in experiment.trials.values()]])\n",
    "best_objective_plot = optimization_trace_single_method(\n",
    "    y=np.maximum.accumulate(best_objectives, axis=1),\n",
    "    title=\"Model performance vs. # of iterations\",\n",
    "    ylabel=\"Classification Accuracy, %\",\n",
    ")\n",
    "render(best_objective_plot)"
   ]
  },
  {
   "cell_type": "code",
   "execution_count": 22,
   "id": "driven-egypt",
   "metadata": {
    "execution": {
     "iopub.execute_input": "2021-06-01T23:11:14.389998Z",
     "iopub.status.busy": "2021-06-01T23:11:14.389301Z",
     "iopub.status.idle": "2021-06-01T23:11:14.392173Z",
     "shell.execute_reply": "2021-06-01T23:11:14.392622Z",
     "shell.execute_reply.started": "2021-05-29T01:45:38.190932Z"
    },
    "id": "jZr-xMpF2JQp",
    "outputId": "9a74ad71-ef1e-482f-83b4-2dac656ed5e1",
    "papermill": {
     "duration": 0.308041,
     "end_time": "2021-06-01T23:11:14.392762",
     "exception": false,
     "start_time": "2021-06-01T23:11:14.084721",
     "status": "completed"
    },
    "tags": []
   },
   "outputs": [
    {
     "data": {
      "text/plain": [
       "Arm(name='1_0', parameters={'lr': 0.0002815530268824281, 'beta1': 0.8314050829755142})"
      ]
     },
     "execution_count": 22,
     "metadata": {},
     "output_type": "execute_result"
    }
   ],
   "source": [
    "data = experiment.fetch_data()\n",
    "df = data.df\n",
    "best_arm_name = df.arm_name[df['mean'] == df['mean'].max()].values[0]\n",
    "best_arm = experiment.arms_by_name[best_arm_name]\n",
    "best_arm"
   ]
  },
  {
   "cell_type": "code",
   "execution_count": 23,
   "id": "eleven-chaos",
   "metadata": {
    "execution": {
     "iopub.execute_input": "2021-06-01T23:11:14.958066Z",
     "iopub.status.busy": "2021-06-01T23:11:14.957403Z",
     "iopub.status.idle": "2021-06-01T23:11:14.967824Z",
     "shell.execute_reply": "2021-06-01T23:11:14.967342Z",
     "shell.execute_reply.started": "2021-05-29T01:45:38.222542Z"
    },
    "papermill": {
     "duration": 0.299715,
     "end_time": "2021-06-01T23:11:14.967958",
     "exception": false,
     "start_time": "2021-06-01T23:11:14.668243",
     "status": "completed"
    },
    "tags": []
   },
   "outputs": [
    {
     "data": {
      "text/html": [
       "<div>\n",
       "<style scoped>\n",
       "    .dataframe tbody tr th:only-of-type {\n",
       "        vertical-align: middle;\n",
       "    }\n",
       "\n",
       "    .dataframe tbody tr th {\n",
       "        vertical-align: top;\n",
       "    }\n",
       "\n",
       "    .dataframe thead th {\n",
       "        text-align: right;\n",
       "    }\n",
       "</style>\n",
       "<table border=\"1\" class=\"dataframe\">\n",
       "  <thead>\n",
       "    <tr style=\"text-align: right;\">\n",
       "      <th></th>\n",
       "      <th>arm_name</th>\n",
       "      <th>metric_name</th>\n",
       "      <th>mean</th>\n",
       "      <th>sem</th>\n",
       "      <th>trial_index</th>\n",
       "    </tr>\n",
       "  </thead>\n",
       "  <tbody>\n",
       "    <tr>\n",
       "      <th>0</th>\n",
       "      <td>0_0</td>\n",
       "      <td>accuracy</td>\n",
       "      <td>0.735849</td>\n",
       "      <td>NaN</td>\n",
       "      <td>0</td>\n",
       "    </tr>\n",
       "    <tr>\n",
       "      <th>1</th>\n",
       "      <td>1_0</td>\n",
       "      <td>accuracy</td>\n",
       "      <td>0.811321</td>\n",
       "      <td>NaN</td>\n",
       "      <td>1</td>\n",
       "    </tr>\n",
       "    <tr>\n",
       "      <th>2</th>\n",
       "      <td>2_0</td>\n",
       "      <td>accuracy</td>\n",
       "      <td>0.754717</td>\n",
       "      <td>NaN</td>\n",
       "      <td>2</td>\n",
       "    </tr>\n",
       "    <tr>\n",
       "      <th>3</th>\n",
       "      <td>3_0</td>\n",
       "      <td>accuracy</td>\n",
       "      <td>0.811321</td>\n",
       "      <td>NaN</td>\n",
       "      <td>3</td>\n",
       "    </tr>\n",
       "    <tr>\n",
       "      <th>4</th>\n",
       "      <td>4_0</td>\n",
       "      <td>accuracy</td>\n",
       "      <td>0.622642</td>\n",
       "      <td>NaN</td>\n",
       "      <td>4</td>\n",
       "    </tr>\n",
       "    <tr>\n",
       "      <th>5</th>\n",
       "      <td>5_0</td>\n",
       "      <td>accuracy</td>\n",
       "      <td>0.622642</td>\n",
       "      <td>NaN</td>\n",
       "      <td>5</td>\n",
       "    </tr>\n",
       "    <tr>\n",
       "      <th>6</th>\n",
       "      <td>6_0</td>\n",
       "      <td>accuracy</td>\n",
       "      <td>0.754717</td>\n",
       "      <td>NaN</td>\n",
       "      <td>6</td>\n",
       "    </tr>\n",
       "    <tr>\n",
       "      <th>7</th>\n",
       "      <td>7_0</td>\n",
       "      <td>accuracy</td>\n",
       "      <td>0.792453</td>\n",
       "      <td>NaN</td>\n",
       "      <td>7</td>\n",
       "    </tr>\n",
       "    <tr>\n",
       "      <th>8</th>\n",
       "      <td>8_0</td>\n",
       "      <td>accuracy</td>\n",
       "      <td>0.622642</td>\n",
       "      <td>NaN</td>\n",
       "      <td>8</td>\n",
       "    </tr>\n",
       "    <tr>\n",
       "      <th>9</th>\n",
       "      <td>9_0</td>\n",
       "      <td>accuracy</td>\n",
       "      <td>0.792453</td>\n",
       "      <td>NaN</td>\n",
       "      <td>9</td>\n",
       "    </tr>\n",
       "    <tr>\n",
       "      <th>10</th>\n",
       "      <td>10_0</td>\n",
       "      <td>accuracy</td>\n",
       "      <td>0.754717</td>\n",
       "      <td>NaN</td>\n",
       "      <td>10</td>\n",
       "    </tr>\n",
       "    <tr>\n",
       "      <th>11</th>\n",
       "      <td>11_0</td>\n",
       "      <td>accuracy</td>\n",
       "      <td>0.792453</td>\n",
       "      <td>NaN</td>\n",
       "      <td>11</td>\n",
       "    </tr>\n",
       "    <tr>\n",
       "      <th>12</th>\n",
       "      <td>12_0</td>\n",
       "      <td>accuracy</td>\n",
       "      <td>0.679245</td>\n",
       "      <td>NaN</td>\n",
       "      <td>12</td>\n",
       "    </tr>\n",
       "    <tr>\n",
       "      <th>13</th>\n",
       "      <td>13_0</td>\n",
       "      <td>accuracy</td>\n",
       "      <td>0.716981</td>\n",
       "      <td>NaN</td>\n",
       "      <td>13</td>\n",
       "    </tr>\n",
       "    <tr>\n",
       "      <th>14</th>\n",
       "      <td>14_0</td>\n",
       "      <td>accuracy</td>\n",
       "      <td>0.754717</td>\n",
       "      <td>NaN</td>\n",
       "      <td>14</td>\n",
       "    </tr>\n",
       "  </tbody>\n",
       "</table>\n",
       "</div>"
      ],
      "text/plain": [
       "   arm_name metric_name      mean  sem  trial_index\n",
       "0       0_0    accuracy  0.735849  NaN            0\n",
       "1       1_0    accuracy  0.811321  NaN            1\n",
       "2       2_0    accuracy  0.754717  NaN            2\n",
       "3       3_0    accuracy  0.811321  NaN            3\n",
       "4       4_0    accuracy  0.622642  NaN            4\n",
       "5       5_0    accuracy  0.622642  NaN            5\n",
       "6       6_0    accuracy  0.754717  NaN            6\n",
       "7       7_0    accuracy  0.792453  NaN            7\n",
       "8       8_0    accuracy  0.622642  NaN            8\n",
       "9       9_0    accuracy  0.792453  NaN            9\n",
       "10     10_0    accuracy  0.754717  NaN           10\n",
       "11     11_0    accuracy  0.792453  NaN           11\n",
       "12     12_0    accuracy  0.679245  NaN           12\n",
       "13     13_0    accuracy  0.716981  NaN           13\n",
       "14     14_0    accuracy  0.754717  NaN           14"
      ]
     },
     "execution_count": 23,
     "metadata": {},
     "output_type": "execute_result"
    }
   ],
   "source": [
    "df"
   ]
  },
  {
   "cell_type": "markdown",
   "id": "nutritional-render",
   "metadata": {
    "papermill": {
     "duration": 0.31593,
     "end_time": "2021-06-01T23:11:15.750041",
     "exception": false,
     "start_time": "2021-06-01T23:11:15.434111",
     "status": "completed"
    },
    "tags": []
   },
   "source": [
    "## Testing Functions"
   ]
  },
  {
   "cell_type": "code",
   "execution_count": 24,
   "id": "hybrid-youth",
   "metadata": {
    "execution": {
     "iopub.execute_input": "2021-06-01T23:11:16.326353Z",
     "iopub.status.busy": "2021-06-01T23:11:16.325491Z",
     "iopub.status.idle": "2021-06-01T23:11:16.327691Z",
     "shell.execute_reply": "2021-06-01T23:11:16.328094Z",
     "shell.execute_reply.started": "2021-05-29T01:45:38.244792Z"
    },
    "papermill": {
     "duration": 0.299021,
     "end_time": "2021-06-01T23:11:16.328244",
     "exception": false,
     "start_time": "2021-06-01T23:11:16.029223",
     "status": "completed"
    },
    "tags": []
   },
   "outputs": [],
   "source": [
    "def pytorch_confusion_matrix(cnn, data_loader):\n",
    "    \"\"\"return confusion matrix on a holdout sample for a pytorch cnn model(binary classification)\"\"\"\n",
    "    confusion_matrix = torch.zeros(2, 2)\n",
    "    device = torch.device('cuda' if torch.cuda.is_available() else 'cpu')\n",
    "    cnn.eval()\n",
    "    with torch.no_grad():\n",
    "        for i, (inputs, classes) in enumerate(data_loader):\n",
    "            inputs = inputs.to(device)\n",
    "            classes = classes.to(device)\n",
    "            outputs = cnn(inputs).flatten()\n",
    "            preds = torch.sigmoid(outputs) > 0.5\n",
    "            for t, p in zip(classes.view(-1), preds.view(-1)):\n",
    "                    confusion_matrix[t.long(), p.long()] += 1\n",
    "\n",
    "    cm = pd.DataFrame(confusion_matrix.numpy(), columns = ['predict negative','predict positive'], index = ['actual negative', 'actual positive'])\n",
    "    return cm\n",
    "\n",
    "def recall_calculation(confusion_matrix):\n",
    "    \"\"\"return recall of holdout sample from a confusion matrix\"\"\"\n",
    "    test_recall = confusion_matrix.iloc[1,1]/(confusion_matrix.iloc[1,1]+confusion_matrix.iloc[1,0])\n",
    "    print(f\"Test recall is {test_recall*100:.2f}%.\")\n",
    "    return test_recall\n",
    "\n",
    "def get_test_accuracy(cnn, data_loader):\n",
    "    \"\"\"return accuracy on a holdout sample for a pytorch cnn model\"\"\"\n",
    "    test_batch_acc = 0\n",
    "    cnn.eval()\n",
    "    with torch.no_grad():\n",
    "        for X, y in data_loader:\n",
    "            device = torch.device('cuda' if torch.cuda.is_available() else 'cpu')\n",
    "            if device.type == 'cuda':\n",
    "                X, y = X.to(device), y.to(device)\n",
    "            y_hat = cnn(X).flatten()\n",
    "            y_hat_labels = torch.sigmoid(y_hat) > 0.5\n",
    "            test_batch_acc += (y_hat_labels == y).type(torch.float32).sum().item()\n",
    "    test_accuracy = test_batch_acc / len(data_loader.dataset)\n",
    "    print(f\"Test accuracy is {test_accuracy*100:.2f}%.\")\n",
    "    return test_accuracy"
   ]
  },
  {
   "cell_type": "markdown",
   "id": "negative-finland",
   "metadata": {
    "papermill": {
     "duration": 0.277349,
     "end_time": "2021-06-01T23:11:16.881763",
     "exception": false,
     "start_time": "2021-06-01T23:11:16.604414",
     "status": "completed"
    },
    "tags": []
   },
   "source": [
    "## Test"
   ]
  },
  {
   "cell_type": "code",
   "execution_count": 25,
   "id": "adopted-bankruptcy",
   "metadata": {
    "execution": {
     "iopub.execute_input": "2021-06-01T23:11:17.447750Z",
     "iopub.status.busy": "2021-06-01T23:11:17.446887Z",
     "iopub.status.idle": "2021-06-01T23:13:35.863112Z",
     "shell.execute_reply": "2021-06-01T23:13:35.862189Z",
     "shell.execute_reply.started": "2021-05-29T01:45:38.261996Z"
    },
    "papermill": {
     "duration": 138.703724,
     "end_time": "2021-06-01T23:13:35.863261",
     "exception": false,
     "start_time": "2021-06-01T23:11:17.159537",
     "status": "completed"
    },
    "tags": []
   },
   "outputs": [],
   "source": [
    "criterion = nn.BCEWithLogitsLoss()\n",
    "betas = (best_parameters[\"beta1\"], 0.999)\n",
    "model = make_model()\n",
    "device = torch.device('cuda' if torch.cuda.is_available() else 'cpu')\n",
    "model.to(device)\n",
    "optimizer = torch.optim.Adam(model.parameters(),\n",
    "                                lr = best_parameters[\"lr\"],\n",
    "                                betas = betas)\n",
    "model = train(model, train_loader, hyperparameters=best_arm.parameters, epochs=25)"
   ]
  },
  {
   "cell_type": "code",
   "execution_count": 26,
   "id": "controlled-fisher",
   "metadata": {
    "execution": {
     "iopub.execute_input": "2021-06-01T23:13:36.439368Z",
     "iopub.status.busy": "2021-06-01T23:13:36.438543Z",
     "iopub.status.idle": "2021-06-01T23:13:37.329664Z",
     "shell.execute_reply": "2021-06-01T23:13:37.330108Z",
     "shell.execute_reply.started": "2021-05-29T01:47:43.043601Z"
    },
    "papermill": {
     "duration": 1.18408,
     "end_time": "2021-06-01T23:13:37.330256",
     "exception": false,
     "start_time": "2021-06-01T23:13:36.146176",
     "status": "completed"
    },
    "tags": []
   },
   "outputs": [
    {
     "name": "stdout",
     "output_type": "stream",
     "text": [
      "Test accuracy is 75.93%.\n"
     ]
    },
    {
     "data": {
      "text/plain": [
       "0.7592592592592593"
      ]
     },
     "execution_count": 26,
     "metadata": {},
     "output_type": "execute_result"
    }
   ],
   "source": [
    "get_test_accuracy(model, test_loader)"
   ]
  },
  {
   "cell_type": "code",
   "execution_count": 27,
   "id": "secondary-notion",
   "metadata": {
    "execution": {
     "iopub.execute_input": "2021-06-01T23:13:37.893981Z",
     "iopub.status.busy": "2021-06-01T23:13:37.893256Z",
     "iopub.status.idle": "2021-06-01T23:13:38.672443Z",
     "shell.execute_reply": "2021-06-01T23:13:38.671988Z",
     "shell.execute_reply.started": "2021-05-29T01:47:43.901443Z"
    },
    "papermill": {
     "duration": 1.061599,
     "end_time": "2021-06-01T23:13:38.672569",
     "exception": false,
     "start_time": "2021-06-01T23:13:37.610970",
     "status": "completed"
    },
    "tags": []
   },
   "outputs": [
    {
     "data": {
      "text/html": [
       "<div>\n",
       "<style scoped>\n",
       "    .dataframe tbody tr th:only-of-type {\n",
       "        vertical-align: middle;\n",
       "    }\n",
       "\n",
       "    .dataframe tbody tr th {\n",
       "        vertical-align: top;\n",
       "    }\n",
       "\n",
       "    .dataframe thead th {\n",
       "        text-align: right;\n",
       "    }\n",
       "</style>\n",
       "<table border=\"1\" class=\"dataframe\">\n",
       "  <thead>\n",
       "    <tr style=\"text-align: right;\">\n",
       "      <th></th>\n",
       "      <th>predict negative</th>\n",
       "      <th>predict positive</th>\n",
       "    </tr>\n",
       "  </thead>\n",
       "  <tbody>\n",
       "    <tr>\n",
       "      <th>actual negative</th>\n",
       "      <td>25.0</td>\n",
       "      <td>8.0</td>\n",
       "    </tr>\n",
       "    <tr>\n",
       "      <th>actual positive</th>\n",
       "      <td>5.0</td>\n",
       "      <td>16.0</td>\n",
       "    </tr>\n",
       "  </tbody>\n",
       "</table>\n",
       "</div>"
      ],
      "text/plain": [
       "                 predict negative  predict positive\n",
       "actual negative              25.0               8.0\n",
       "actual positive               5.0              16.0"
      ]
     },
     "execution_count": 27,
     "metadata": {},
     "output_type": "execute_result"
    }
   ],
   "source": [
    "pytorch_confusion_matrix(model, test_loader)"
   ]
  },
  {
   "cell_type": "code",
   "execution_count": 28,
   "id": "vietnamese-value",
   "metadata": {
    "execution": {
     "iopub.execute_input": "2021-06-01T23:13:39.254236Z",
     "iopub.status.busy": "2021-06-01T23:13:39.253631Z",
     "iopub.status.idle": "2021-06-01T23:13:39.863612Z",
     "shell.execute_reply": "2021-06-01T23:13:39.862842Z",
     "shell.execute_reply.started": "2021-05-29T01:47:44.453302Z"
    },
    "papermill": {
     "duration": 0.910617,
     "end_time": "2021-06-01T23:13:39.863748",
     "exception": false,
     "start_time": "2021-06-01T23:13:38.953131",
     "status": "completed"
    },
    "tags": []
   },
   "outputs": [
    {
     "name": "stdout",
     "output_type": "stream",
     "text": [
      "Test recall is 76.19%.\n"
     ]
    },
    {
     "data": {
      "text/plain": [
       "0.7619048"
      ]
     },
     "execution_count": 28,
     "metadata": {},
     "output_type": "execute_result"
    }
   ],
   "source": [
    "recall_calculation(pytorch_confusion_matrix(model, test_loader))"
   ]
  },
  {
   "cell_type": "markdown",
   "id": "psychological-canyon",
   "metadata": {
    "papermill": {
     "duration": 0.279341,
     "end_time": "2021-06-01T23:13:40.420736",
     "exception": false,
     "start_time": "2021-06-01T23:13:40.141395",
     "status": "completed"
    },
    "tags": []
   },
   "source": [
    "## Save Model"
   ]
  },
  {
   "cell_type": "code",
   "execution_count": 29,
   "id": "conventional-national",
   "metadata": {
    "execution": {
     "iopub.execute_input": "2021-06-01T23:13:41.006809Z",
     "iopub.status.busy": "2021-06-01T23:13:41.005950Z",
     "iopub.status.idle": "2021-06-01T23:13:41.107665Z",
     "shell.execute_reply": "2021-06-01T23:13:41.107188Z",
     "shell.execute_reply.started": "2021-05-28T20:01:43.725957Z"
    },
    "papermill": {
     "duration": 0.391949,
     "end_time": "2021-06-01T23:13:41.107796",
     "exception": false,
     "start_time": "2021-06-01T23:13:40.715847",
     "status": "completed"
    },
    "tags": []
   },
   "outputs": [],
   "source": [
    "torch.save(model.state_dict(), 'densenet_final.pth')"
   ]
  }
 ],
 "metadata": {
  "kernelspec": {
   "display_name": "Python 3",
   "language": "python",
   "name": "python3"
  },
  "language_info": {
   "codemirror_mode": {
    "name": "ipython",
    "version": 3
   },
   "file_extension": ".py",
   "mimetype": "text/x-python",
   "name": "python",
   "nbconvert_exporter": "python",
   "pygments_lexer": "ipython3",
   "version": "3.8.8"
  },
  "papermill": {
   "default_parameters": {},
   "duration": 1960.470989,
   "end_time": "2021-06-01T23:13:43.144911",
   "environment_variables": {},
   "exception": null,
   "input_path": "__notebook__.ipynb",
   "output_path": "__notebook__.ipynb",
   "parameters": {},
   "start_time": "2021-06-01T22:41:02.673922",
   "version": "2.3.3"
  },
  "widgets": {
   "application/vnd.jupyter.widget-state+json": {
    "state": {
     "258e05f4faf3407889878dcc9770a76e": {
      "model_module": "@jupyter-widgets/base",
      "model_module_version": "1.2.0",
      "model_name": "LayoutModel",
      "state": {
       "_model_module": "@jupyter-widgets/base",
       "_model_module_version": "1.2.0",
       "_model_name": "LayoutModel",
       "_view_count": null,
       "_view_module": "@jupyter-widgets/base",
       "_view_module_version": "1.2.0",
       "_view_name": "LayoutView",
       "align_content": null,
       "align_items": null,
       "align_self": null,
       "border": null,
       "bottom": null,
       "display": null,
       "flex": null,
       "flex_flow": null,
       "grid_area": null,
       "grid_auto_columns": null,
       "grid_auto_flow": null,
       "grid_auto_rows": null,
       "grid_column": null,
       "grid_gap": null,
       "grid_row": null,
       "grid_template_areas": null,
       "grid_template_columns": null,
       "grid_template_rows": null,
       "height": null,
       "justify_content": null,
       "justify_items": null,
       "left": null,
       "margin": null,
       "max_height": null,
       "max_width": null,
       "min_height": null,
       "min_width": null,
       "object_fit": null,
       "object_position": null,
       "order": null,
       "overflow": null,
       "overflow_x": null,
       "overflow_y": null,
       "padding": null,
       "right": null,
       "top": null,
       "visibility": null,
       "width": null
      }
     },
     "332eb6d9e865494896715083e28907d9": {
      "model_module": "@jupyter-widgets/controls",
      "model_module_version": "1.5.0",
      "model_name": "DescriptionStyleModel",
      "state": {
       "_model_module": "@jupyter-widgets/controls",
       "_model_module_version": "1.5.0",
       "_model_name": "DescriptionStyleModel",
       "_view_count": null,
       "_view_module": "@jupyter-widgets/base",
       "_view_module_version": "1.2.0",
       "_view_name": "StyleView",
       "description_width": ""
      }
     },
     "690b352a09a84a4e99dd70d949530699": {
      "model_module": "@jupyter-widgets/base",
      "model_module_version": "1.2.0",
      "model_name": "LayoutModel",
      "state": {
       "_model_module": "@jupyter-widgets/base",
       "_model_module_version": "1.2.0",
       "_model_name": "LayoutModel",
       "_view_count": null,
       "_view_module": "@jupyter-widgets/base",
       "_view_module_version": "1.2.0",
       "_view_name": "LayoutView",
       "align_content": null,
       "align_items": null,
       "align_self": null,
       "border": null,
       "bottom": null,
       "display": null,
       "flex": null,
       "flex_flow": null,
       "grid_area": null,
       "grid_auto_columns": null,
       "grid_auto_flow": null,
       "grid_auto_rows": null,
       "grid_column": null,
       "grid_gap": null,
       "grid_row": null,
       "grid_template_areas": null,
       "grid_template_columns": null,
       "grid_template_rows": null,
       "height": null,
       "justify_content": null,
       "justify_items": null,
       "left": null,
       "margin": null,
       "max_height": null,
       "max_width": null,
       "min_height": null,
       "min_width": null,
       "object_fit": null,
       "object_position": null,
       "order": null,
       "overflow": null,
       "overflow_x": null,
       "overflow_y": null,
       "padding": null,
       "right": null,
       "top": null,
       "visibility": null,
       "width": null
      }
     },
     "8e2594c1d9c2483f86cbecf5268d2d66": {
      "model_module": "@jupyter-widgets/base",
      "model_module_version": "1.2.0",
      "model_name": "LayoutModel",
      "state": {
       "_model_module": "@jupyter-widgets/base",
       "_model_module_version": "1.2.0",
       "_model_name": "LayoutModel",
       "_view_count": null,
       "_view_module": "@jupyter-widgets/base",
       "_view_module_version": "1.2.0",
       "_view_name": "LayoutView",
       "align_content": null,
       "align_items": null,
       "align_self": null,
       "border": null,
       "bottom": null,
       "display": null,
       "flex": null,
       "flex_flow": null,
       "grid_area": null,
       "grid_auto_columns": null,
       "grid_auto_flow": null,
       "grid_auto_rows": null,
       "grid_column": null,
       "grid_gap": null,
       "grid_row": null,
       "grid_template_areas": null,
       "grid_template_columns": null,
       "grid_template_rows": null,
       "height": null,
       "justify_content": null,
       "justify_items": null,
       "left": null,
       "margin": null,
       "max_height": null,
       "max_width": null,
       "min_height": null,
       "min_width": null,
       "object_fit": null,
       "object_position": null,
       "order": null,
       "overflow": null,
       "overflow_x": null,
       "overflow_y": null,
       "padding": null,
       "right": null,
       "top": null,
       "visibility": null,
       "width": null
      }
     },
     "a906912363c24389b66b3c60cf015db6": {
      "model_module": "@jupyter-widgets/controls",
      "model_module_version": "1.5.0",
      "model_name": "HTMLModel",
      "state": {
       "_dom_classes": [],
       "_model_module": "@jupyter-widgets/controls",
       "_model_module_version": "1.5.0",
       "_model_name": "HTMLModel",
       "_view_count": null,
       "_view_module": "@jupyter-widgets/controls",
       "_view_module_version": "1.5.0",
       "_view_name": "HTMLView",
       "description": "",
       "description_tooltip": null,
       "layout": "IPY_MODEL_690b352a09a84a4e99dd70d949530699",
       "placeholder": "​",
       "style": "IPY_MODEL_e9ffb561e5de4e6f9bab3861472e6628",
       "value": "100%"
      }
     },
     "c87742cd71194b80b6901d77c2490fd3": {
      "model_module": "@jupyter-widgets/controls",
      "model_module_version": "1.5.0",
      "model_name": "HBoxModel",
      "state": {
       "_dom_classes": [],
       "_model_module": "@jupyter-widgets/controls",
       "_model_module_version": "1.5.0",
       "_model_name": "HBoxModel",
       "_view_count": null,
       "_view_module": "@jupyter-widgets/controls",
       "_view_module_version": "1.5.0",
       "_view_name": "HBoxView",
       "box_style": "",
       "children": [
        "IPY_MODEL_a906912363c24389b66b3c60cf015db6",
        "IPY_MODEL_fa729dc7de6f436da43a041e43686ec0",
        "IPY_MODEL_deb840136fda492ca767c4b939ef6c42"
       ],
       "layout": "IPY_MODEL_f78abe334c5642ad828e303c84b73a03"
      }
     },
     "d37fc5b4306b4793900ebe6ab6c4964d": {
      "model_module": "@jupyter-widgets/controls",
      "model_module_version": "1.5.0",
      "model_name": "ProgressStyleModel",
      "state": {
       "_model_module": "@jupyter-widgets/controls",
       "_model_module_version": "1.5.0",
       "_model_name": "ProgressStyleModel",
       "_view_count": null,
       "_view_module": "@jupyter-widgets/base",
       "_view_module_version": "1.2.0",
       "_view_name": "StyleView",
       "bar_color": null,
       "description_width": ""
      }
     },
     "deb840136fda492ca767c4b939ef6c42": {
      "model_module": "@jupyter-widgets/controls",
      "model_module_version": "1.5.0",
      "model_name": "HTMLModel",
      "state": {
       "_dom_classes": [],
       "_model_module": "@jupyter-widgets/controls",
       "_model_module_version": "1.5.0",
       "_model_name": "HTMLModel",
       "_view_count": null,
       "_view_module": "@jupyter-widgets/controls",
       "_view_module_version": "1.5.0",
       "_view_name": "HTMLView",
       "description": "",
       "description_tooltip": null,
       "layout": "IPY_MODEL_258e05f4faf3407889878dcc9770a76e",
       "placeholder": "​",
       "style": "IPY_MODEL_332eb6d9e865494896715083e28907d9",
       "value": " 30.8M/30.8M [00:01&lt;00:00, 29.9MB/s]"
      }
     },
     "e9ffb561e5de4e6f9bab3861472e6628": {
      "model_module": "@jupyter-widgets/controls",
      "model_module_version": "1.5.0",
      "model_name": "DescriptionStyleModel",
      "state": {
       "_model_module": "@jupyter-widgets/controls",
       "_model_module_version": "1.5.0",
       "_model_name": "DescriptionStyleModel",
       "_view_count": null,
       "_view_module": "@jupyter-widgets/base",
       "_view_module_version": "1.2.0",
       "_view_name": "StyleView",
       "description_width": ""
      }
     },
     "f78abe334c5642ad828e303c84b73a03": {
      "model_module": "@jupyter-widgets/base",
      "model_module_version": "1.2.0",
      "model_name": "LayoutModel",
      "state": {
       "_model_module": "@jupyter-widgets/base",
       "_model_module_version": "1.2.0",
       "_model_name": "LayoutModel",
       "_view_count": null,
       "_view_module": "@jupyter-widgets/base",
       "_view_module_version": "1.2.0",
       "_view_name": "LayoutView",
       "align_content": null,
       "align_items": null,
       "align_self": null,
       "border": null,
       "bottom": null,
       "display": null,
       "flex": null,
       "flex_flow": null,
       "grid_area": null,
       "grid_auto_columns": null,
       "grid_auto_flow": null,
       "grid_auto_rows": null,
       "grid_column": null,
       "grid_gap": null,
       "grid_row": null,
       "grid_template_areas": null,
       "grid_template_columns": null,
       "grid_template_rows": null,
       "height": null,
       "justify_content": null,
       "justify_items": null,
       "left": null,
       "margin": null,
       "max_height": null,
       "max_width": null,
       "min_height": null,
       "min_width": null,
       "object_fit": null,
       "object_position": null,
       "order": null,
       "overflow": null,
       "overflow_x": null,
       "overflow_y": null,
       "padding": null,
       "right": null,
       "top": null,
       "visibility": null,
       "width": null
      }
     },
     "fa729dc7de6f436da43a041e43686ec0": {
      "model_module": "@jupyter-widgets/controls",
      "model_module_version": "1.5.0",
      "model_name": "FloatProgressModel",
      "state": {
       "_dom_classes": [],
       "_model_module": "@jupyter-widgets/controls",
       "_model_module_version": "1.5.0",
       "_model_name": "FloatProgressModel",
       "_view_count": null,
       "_view_module": "@jupyter-widgets/controls",
       "_view_module_version": "1.5.0",
       "_view_name": "ProgressView",
       "bar_style": "success",
       "description": "",
       "description_tooltip": null,
       "layout": "IPY_MODEL_8e2594c1d9c2483f86cbecf5268d2d66",
       "max": 32342954,
       "min": 0,
       "orientation": "horizontal",
       "style": "IPY_MODEL_d37fc5b4306b4793900ebe6ab6c4964d",
       "value": 32342954
      }
     }
    },
    "version_major": 2,
    "version_minor": 0
   }
  }
 },
 "nbformat": 4,
 "nbformat_minor": 5
}
