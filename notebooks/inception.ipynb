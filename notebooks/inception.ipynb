{
 "cells": [
  {
   "cell_type": "code",
   "execution_count": 1,
   "id": "ad426ddb",
   "metadata": {},
   "outputs": [],
   "source": [
    "import json\n",
    "import numpy as np\n",
    "import pandas as pd\n",
    "from collections import OrderedDict\n",
    "import torch\n",
    "import torchvision\n",
    "from torch import nn, optim\n",
    "from torchvision import transforms, models, datasets, utils\n",
    "from torchsummary import summary\n",
    "from PIL import Image\n",
    "import memory_profiler  # conda install -c anaconda memory_profiler\n",
    "import matplotlib.pyplot as plt\n",
    "from torch.utils.data import SubsetRandomSampler\n",
    "from cnn_utils import weights_init, trainer, cnn_feature_importance, get_test_accuracy, pytorch_confusion_matrix, recall_calculation"
   ]
  },
  {
   "cell_type": "code",
   "execution_count": 2,
   "id": "7fffa1ee",
   "metadata": {},
   "outputs": [
    {
     "data": {
      "text/plain": [
       "'C:\\\\Users\\\\szyan\\\\Documents\\\\Capstone'"
      ]
     },
     "execution_count": 2,
     "metadata": {},
     "output_type": "execute_result"
    }
   ],
   "source": [
    "import os\n",
    "os.getcwd()"
   ]
  },
  {
   "cell_type": "code",
   "execution_count": 3,
   "id": "38b47370",
   "metadata": {},
   "outputs": [],
   "source": [
    "#transform\n",
    "\n",
    "IMAGE_SIZE = 300\n",
    "BATCH_SIZE = 8\n",
    "\n",
    "TRAIN_DIR = \"data/train/\"\n",
    "VALID_DIR = \"data/val/\"\n",
    "\n",
    "\n",
    "train_transforms = transforms.Compose([\n",
    "     transforms.RandomVerticalFlip(p=0.5),\n",
    "     transforms.RandomRotation(degrees=20),\n",
    "    transforms.Resize((IMAGE_SIZE,IMAGE_SIZE)),\n",
    "    transforms.ToTensor()\n",
    "])\n",
    "\n",
    "valid_transforms = transforms.Compose([\n",
    "    transforms.Resize((IMAGE_SIZE,IMAGE_SIZE)),\n",
    "    transforms.ToTensor()\n",
    "])\n",
    "\n",
    "train_dataset = torchvision.datasets.ImageFolder(root=TRAIN_DIR, transform=train_transforms)\n",
    "train_loader = torch.utils.data.DataLoader(train_dataset, batch_size=BATCH_SIZE, shuffle=True)\n",
    "valid_dataset = torchvision.datasets.ImageFolder(root=VALID_DIR, transform=valid_transforms)\n",
    "valid_loader = torch.utils.data.DataLoader(valid_dataset, batch_size=BATCH_SIZE, shuffle=True)"
   ]
  },
  {
   "cell_type": "code",
   "execution_count": 4,
   "id": "75577a53",
   "metadata": {},
   "outputs": [],
   "source": [
    "inception_v3 = densenet = models.inception_v3(pretrained=True)\n",
    "inception_v3.fc = nn.Linear(2048, 1)\n",
    "inception_v3.aux_logits = False"
   ]
  },
  {
   "cell_type": "code",
   "execution_count": 5,
   "id": "b32e6ebc",
   "metadata": {},
   "outputs": [
    {
     "name": "stdout",
     "output_type": "stream",
     "text": [
      "Initializing weights of a Conv2d layer!\n",
      "Initializing weights of a batchnorm layer!\n",
      "Initializing weights of a Conv2d layer!\n",
      "Initializing weights of a batchnorm layer!\n",
      "Initializing weights of a Conv2d layer!\n",
      "Initializing weights of a batchnorm layer!\n",
      "Initializing weights of a Conv2d layer!\n",
      "Initializing weights of a batchnorm layer!\n",
      "Initializing weights of a Conv2d layer!\n",
      "Initializing weights of a batchnorm layer!\n",
      "Initializing weights of a Conv2d layer!\n",
      "Initializing weights of a batchnorm layer!\n",
      "Initializing weights of a Conv2d layer!\n",
      "Initializing weights of a batchnorm layer!\n",
      "Initializing weights of a Conv2d layer!\n",
      "Initializing weights of a batchnorm layer!\n",
      "Initializing weights of a Conv2d layer!\n",
      "Initializing weights of a batchnorm layer!\n",
      "Initializing weights of a Conv2d layer!\n",
      "Initializing weights of a batchnorm layer!\n",
      "Initializing weights of a Conv2d layer!\n",
      "Initializing weights of a batchnorm layer!\n",
      "Initializing weights of a Conv2d layer!\n",
      "Initializing weights of a batchnorm layer!\n",
      "Initializing weights of a Conv2d layer!\n",
      "Initializing weights of a batchnorm layer!\n",
      "Initializing weights of a Conv2d layer!\n",
      "Initializing weights of a batchnorm layer!\n",
      "Initializing weights of a Conv2d layer!\n",
      "Initializing weights of a batchnorm layer!\n",
      "Initializing weights of a Conv2d layer!\n",
      "Initializing weights of a batchnorm layer!\n",
      "Initializing weights of a Conv2d layer!\n",
      "Initializing weights of a batchnorm layer!\n",
      "Initializing weights of a Conv2d layer!\n",
      "Initializing weights of a batchnorm layer!\n",
      "Initializing weights of a Conv2d layer!\n",
      "Initializing weights of a batchnorm layer!\n",
      "Initializing weights of a Conv2d layer!\n",
      "Initializing weights of a batchnorm layer!\n",
      "Initializing weights of a Conv2d layer!\n",
      "Initializing weights of a batchnorm layer!\n",
      "Initializing weights of a Conv2d layer!\n",
      "Initializing weights of a batchnorm layer!\n",
      "Initializing weights of a Conv2d layer!\n",
      "Initializing weights of a batchnorm layer!\n",
      "Initializing weights of a Conv2d layer!\n",
      "Initializing weights of a batchnorm layer!\n",
      "Initializing weights of a Conv2d layer!\n",
      "Initializing weights of a batchnorm layer!\n",
      "Initializing weights of a Conv2d layer!\n",
      "Initializing weights of a batchnorm layer!\n",
      "Initializing weights of a Conv2d layer!\n",
      "Initializing weights of a batchnorm layer!\n",
      "Initializing weights of a Conv2d layer!\n",
      "Initializing weights of a batchnorm layer!\n",
      "Initializing weights of a Conv2d layer!\n",
      "Initializing weights of a batchnorm layer!\n",
      "Initializing weights of a Conv2d layer!\n",
      "Initializing weights of a batchnorm layer!\n",
      "Initializing weights of a Conv2d layer!\n",
      "Initializing weights of a batchnorm layer!\n",
      "Initializing weights of a Conv2d layer!\n",
      "Initializing weights of a batchnorm layer!\n",
      "Initializing weights of a Conv2d layer!\n",
      "Initializing weights of a batchnorm layer!\n",
      "Initializing weights of a Conv2d layer!\n",
      "Initializing weights of a batchnorm layer!\n",
      "Initializing weights of a Conv2d layer!\n",
      "Initializing weights of a batchnorm layer!\n",
      "Initializing weights of a Conv2d layer!\n",
      "Initializing weights of a batchnorm layer!\n",
      "Initializing weights of a Conv2d layer!\n",
      "Initializing weights of a batchnorm layer!\n",
      "Initializing weights of a Conv2d layer!\n",
      "Initializing weights of a batchnorm layer!\n",
      "Initializing weights of a Conv2d layer!\n",
      "Initializing weights of a batchnorm layer!\n",
      "Initializing weights of a Conv2d layer!\n",
      "Initializing weights of a batchnorm layer!\n",
      "Initializing weights of a Conv2d layer!\n",
      "Initializing weights of a batchnorm layer!\n",
      "Initializing weights of a Conv2d layer!\n",
      "Initializing weights of a batchnorm layer!\n",
      "Initializing weights of a Conv2d layer!\n",
      "Initializing weights of a batchnorm layer!\n",
      "Initializing weights of a Conv2d layer!\n",
      "Initializing weights of a batchnorm layer!\n",
      "Initializing weights of a Conv2d layer!\n",
      "Initializing weights of a batchnorm layer!\n",
      "Initializing weights of a Conv2d layer!\n",
      "Initializing weights of a batchnorm layer!\n",
      "Initializing weights of a Conv2d layer!\n",
      "Initializing weights of a batchnorm layer!\n",
      "Initializing weights of a Conv2d layer!\n",
      "Initializing weights of a batchnorm layer!\n",
      "Initializing weights of a Conv2d layer!\n",
      "Initializing weights of a batchnorm layer!\n",
      "Initializing weights of a Conv2d layer!\n",
      "Initializing weights of a batchnorm layer!\n",
      "Initializing weights of a Conv2d layer!\n",
      "Initializing weights of a batchnorm layer!\n",
      "Initializing weights of a Conv2d layer!\n",
      "Initializing weights of a batchnorm layer!\n",
      "Initializing weights of a Conv2d layer!\n",
      "Initializing weights of a batchnorm layer!\n",
      "Initializing weights of a Conv2d layer!\n",
      "Initializing weights of a batchnorm layer!\n",
      "Initializing weights of a Conv2d layer!\n",
      "Initializing weights of a batchnorm layer!\n",
      "Initializing weights of a Conv2d layer!\n",
      "Initializing weights of a batchnorm layer!\n",
      "Initializing weights of a Conv2d layer!\n",
      "Initializing weights of a batchnorm layer!\n",
      "Initializing weights of a Conv2d layer!\n",
      "Initializing weights of a batchnorm layer!\n",
      "Initializing weights of a Conv2d layer!\n",
      "Initializing weights of a batchnorm layer!\n",
      "Initializing weights of a Conv2d layer!\n",
      "Initializing weights of a batchnorm layer!\n",
      "Initializing weights of a Conv2d layer!\n",
      "Initializing weights of a batchnorm layer!\n",
      "Initializing weights of a Conv2d layer!\n",
      "Initializing weights of a batchnorm layer!\n",
      "Initializing weights of a Conv2d layer!\n",
      "Initializing weights of a batchnorm layer!\n",
      "Initializing weights of a Conv2d layer!\n",
      "Initializing weights of a batchnorm layer!\n",
      "Initializing weights of a Conv2d layer!\n",
      "Initializing weights of a batchnorm layer!\n",
      "Initializing weights of a Conv2d layer!\n",
      "Initializing weights of a batchnorm layer!\n",
      "Initializing weights of a Conv2d layer!\n",
      "Initializing weights of a batchnorm layer!\n",
      "Initializing weights of a Conv2d layer!\n",
      "Initializing weights of a batchnorm layer!\n",
      "Initializing weights of a Conv2d layer!\n",
      "Initializing weights of a batchnorm layer!\n",
      "Initializing weights of a Conv2d layer!\n",
      "Initializing weights of a batchnorm layer!\n",
      "Initializing weights of a Conv2d layer!\n",
      "Initializing weights of a batchnorm layer!\n",
      "Initializing weights of a Conv2d layer!\n",
      "Initializing weights of a batchnorm layer!\n",
      "Initializing weights of a Linear layer!\n",
      "Initializing weights of a Conv2d layer!\n",
      "Initializing weights of a batchnorm layer!\n",
      "Initializing weights of a Conv2d layer!\n",
      "Initializing weights of a batchnorm layer!\n",
      "Initializing weights of a Conv2d layer!\n",
      "Initializing weights of a batchnorm layer!\n",
      "Initializing weights of a Conv2d layer!\n",
      "Initializing weights of a batchnorm layer!\n",
      "Initializing weights of a Conv2d layer!\n",
      "Initializing weights of a batchnorm layer!\n",
      "Initializing weights of a Conv2d layer!\n",
      "Initializing weights of a batchnorm layer!\n",
      "Initializing weights of a Conv2d layer!\n",
      "Initializing weights of a batchnorm layer!\n",
      "Initializing weights of a Conv2d layer!\n",
      "Initializing weights of a batchnorm layer!\n",
      "Initializing weights of a Conv2d layer!\n",
      "Initializing weights of a batchnorm layer!\n",
      "Initializing weights of a Conv2d layer!\n",
      "Initializing weights of a batchnorm layer!\n",
      "Initializing weights of a Conv2d layer!\n",
      "Initializing weights of a batchnorm layer!\n",
      "Initializing weights of a Conv2d layer!\n",
      "Initializing weights of a batchnorm layer!\n",
      "Initializing weights of a Conv2d layer!\n",
      "Initializing weights of a batchnorm layer!\n",
      "Initializing weights of a Conv2d layer!\n",
      "Initializing weights of a batchnorm layer!\n",
      "Initializing weights of a Conv2d layer!\n",
      "Initializing weights of a batchnorm layer!\n",
      "Initializing weights of a Conv2d layer!\n",
      "Initializing weights of a batchnorm layer!\n",
      "Initializing weights of a Conv2d layer!\n",
      "Initializing weights of a batchnorm layer!\n",
      "Initializing weights of a Conv2d layer!\n",
      "Initializing weights of a batchnorm layer!\n",
      "Initializing weights of a Conv2d layer!\n",
      "Initializing weights of a batchnorm layer!\n",
      "Initializing weights of a Conv2d layer!\n",
      "Initializing weights of a batchnorm layer!\n",
      "Initializing weights of a Conv2d layer!\n",
      "Initializing weights of a batchnorm layer!\n",
      "Initializing weights of a Conv2d layer!\n",
      "Initializing weights of a batchnorm layer!\n",
      "Initializing weights of a Conv2d layer!\n",
      "Initializing weights of a batchnorm layer!\n",
      "Initializing weights of a Conv2d layer!\n",
      "Initializing weights of a batchnorm layer!\n",
      "Initializing weights of a Linear layer!\n"
     ]
    }
   ],
   "source": [
    "torch.manual_seed(123)\n",
    "inception_v3.apply(weights_init);\n",
    "\n",
    "# Move to GPU if available\n",
    "device = torch.device('cuda' if torch.cuda.is_available() else 'cpu')\n",
    "inception_v3.to(device);"
   ]
  },
  {
   "cell_type": "code",
   "execution_count": 6,
   "id": "75ff9a11",
   "metadata": {},
   "outputs": [
    {
     "name": "stdout",
     "output_type": "stream",
     "text": [
      "Epoch 1: Train Accuracy: 0.66. Valid Accuracy: 0.56. Valid Recall: 0.60\n",
      "Epoch 2: Train Accuracy: 0.69. Valid Accuracy: 0.48. Valid Recall: 0.00\n",
      "Epoch 3: Train Accuracy: 0.71. Valid Accuracy: 0.67. Valid Recall: 0.60\n",
      "Epoch 4: Train Accuracy: 0.70. Valid Accuracy: 0.74. Valid Recall: 0.75\n",
      "Epoch 5: Train Accuracy: 0.83. Valid Accuracy: 0.82. Valid Recall: 0.85\n",
      "Epoch 6: Train Accuracy: 0.79. Valid Accuracy: 0.72. Valid Recall: 0.60\n",
      "Epoch 7: Train Accuracy: 0.85. Valid Accuracy: 0.76. Valid Recall: 0.90\n",
      "Epoch 8: Train Accuracy: 0.80. Valid Accuracy: 0.77. Valid Recall: 0.65\n",
      "Epoch 9: Train Accuracy: 0.82. Valid Accuracy: 0.75. Valid Recall: 0.75\n",
      "Epoch 10: Train Accuracy: 0.79. Valid Accuracy: 0.80. Valid Recall: 0.90\n",
      "Epoch 11: Train Accuracy: 0.83. Valid Accuracy: 0.76. Valid Recall: 0.75\n",
      "Epoch 12: Train Accuracy: 0.84. Valid Accuracy: 0.72. Valid Recall: 0.65\n",
      "Epoch 13: Train Accuracy: 0.83. Valid Accuracy: 0.75. Valid Recall: 0.90\n",
      "Epoch 14: Train Accuracy: 0.83. Valid Accuracy: 0.82. Valid Recall: 0.85\n",
      "Epoch 15: Train Accuracy: 0.82. Valid Accuracy: 0.81. Valid Recall: 0.80\n",
      "Epoch 16: Train Accuracy: 0.87. Valid Accuracy: 0.82. Valid Recall: 0.75\n",
      "Epoch 17: Train Accuracy: 0.86. Valid Accuracy: 0.77. Valid Recall: 0.65\n",
      "Epoch 18: Train Accuracy: 0.89. Valid Accuracy: 0.77. Valid Recall: 0.80\n",
      "Epoch 19: Train Accuracy: 0.84. Valid Accuracy: 0.82. Valid Recall: 0.80\n",
      "Epoch 20: Train Accuracy: 0.87. Valid Accuracy: 0.79. Valid Recall: 0.90\n"
     ]
    }
   ],
   "source": [
    "criterion = nn.BCEWithLogitsLoss()\n",
    "optimizer = torch.optim.Adam(inception_v3.parameters())\n",
    "results = trainer(inception_v3, criterion, optimizer, train_loader, valid_loader, device, epochs=20)"
   ]
  },
  {
   "cell_type": "code",
   "execution_count": 7,
   "id": "360c8836",
   "metadata": {},
   "outputs": [],
   "source": [
    "device = torch.device('cuda' if torch.cuda.is_available() else 'cpu')"
   ]
  },
  {
   "cell_type": "code",
   "execution_count": 8,
   "id": "fcaabf69",
   "metadata": {},
   "outputs": [
    {
     "data": {
      "text/plain": [
       "0.8333333333333334"
      ]
     },
     "execution_count": 8,
     "metadata": {},
     "output_type": "execute_result"
    }
   ],
   "source": [
    "TEST_DIR = \"data/test/\"\n",
    "test_dataset = torchvision.datasets.ImageFolder(root=TEST_DIR, transform=valid_transforms)\n",
    "test_loader = torch.utils.data.DataLoader(test_dataset, batch_size=BATCH_SIZE, shuffle=True)\n",
    "get_test_accuracy(inception_v3, test_loader)"
   ]
  },
  {
   "cell_type": "code",
   "execution_count": 9,
   "id": "b3017367",
   "metadata": {},
   "outputs": [
    {
     "data": {
      "text/html": [
       "<div>\n",
       "<style scoped>\n",
       "    .dataframe tbody tr th:only-of-type {\n",
       "        vertical-align: middle;\n",
       "    }\n",
       "\n",
       "    .dataframe tbody tr th {\n",
       "        vertical-align: top;\n",
       "    }\n",
       "\n",
       "    .dataframe thead th {\n",
       "        text-align: right;\n",
       "    }\n",
       "</style>\n",
       "<table border=\"1\" class=\"dataframe\">\n",
       "  <thead>\n",
       "    <tr style=\"text-align: right;\">\n",
       "      <th></th>\n",
       "      <th>predict negative</th>\n",
       "      <th>predict positive</th>\n",
       "    </tr>\n",
       "  </thead>\n",
       "  <tbody>\n",
       "    <tr>\n",
       "      <th>actual negative</th>\n",
       "      <td>15.0</td>\n",
       "      <td>5.0</td>\n",
       "    </tr>\n",
       "    <tr>\n",
       "      <th>actual positive</th>\n",
       "      <td>3.0</td>\n",
       "      <td>18.0</td>\n",
       "    </tr>\n",
       "  </tbody>\n",
       "</table>\n",
       "</div>"
      ],
      "text/plain": [
       "                 predict negative  predict positive\n",
       "actual negative              15.0               5.0\n",
       "actual positive               3.0              18.0"
      ]
     },
     "execution_count": 9,
     "metadata": {},
     "output_type": "execute_result"
    }
   ],
   "source": [
    "cmtx = pytorch_confusion_matrix(2,inception_v3, test_loader)\n",
    "cmtx"
   ]
  },
  {
   "cell_type": "code",
   "execution_count": 11,
   "id": "4d1644fd",
   "metadata": {},
   "outputs": [],
   "source": [
    "def recall_calculation(confusion_matrix):\n",
    "    return confusion_matrix.iloc[1,1]/(confusion_matrix.iloc[1,1]+confusion_matrix.iloc[1,0])"
   ]
  },
  {
   "cell_type": "code",
   "execution_count": 12,
   "id": "20f22ce6",
   "metadata": {},
   "outputs": [
    {
     "data": {
      "text/plain": [
       "0.85714287"
      ]
     },
     "execution_count": 12,
     "metadata": {},
     "output_type": "execute_result"
    }
   ],
   "source": [
    "recall_calculation(cmtx)"
   ]
  },
  {
   "cell_type": "code",
   "execution_count": null,
   "id": "515b61bf",
   "metadata": {},
   "outputs": [],
   "source": []
  }
 ],
 "metadata": {
  "kernelspec": {
   "display_name": "Python [conda env:mds572]",
   "language": "python",
   "name": "conda-env-mds572-py"
  },
  "language_info": {
   "codemirror_mode": {
    "name": "ipython",
    "version": 3
   },
   "file_extension": ".py",
   "mimetype": "text/x-python",
   "name": "python",
   "nbconvert_exporter": "python",
   "pygments_lexer": "ipython3",
   "version": "3.7.10"
  }
 },
 "nbformat": 4,
 "nbformat_minor": 5
}
